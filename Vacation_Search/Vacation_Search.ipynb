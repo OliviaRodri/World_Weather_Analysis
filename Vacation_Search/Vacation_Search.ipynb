{
 "cells": [
  {
   "cell_type": "markdown",
   "metadata": {},
   "source": [
    "## Deliverable 2. Create a Customer Travel Destinations Map."
   ]
  },
  {
   "cell_type": "code",
   "execution_count": 1,
   "metadata": {},
   "outputs": [],
   "source": [
    "# Dependencies and Setup\n",
    "import pandas as pd\n",
    "import requests\n",
    "import gmaps\n",
    "import os\n",
    "import matplotlib.pyplot as plt\n",
    "import numpy as np\n",
    "\n",
    "# Import the random module.\n",
    "import random\n",
    "# Use the citipy module to determine city based on latitude and longitude.\n",
    "from citipy import citipy\n",
    "\n",
    "import os,sys,inspect\n",
    "currentdir = os.path.dirname(os.path.abspath(inspect.getfile(inspect.currentframe())))\n",
    "parentdir = os.path.dirname(currentdir)\n",
    "sys.path.insert(0,parentdir) \n",
    "# Import API key\n",
    "from config import g_key\n",
    "\n",
    "# Configure gmaps API key\n",
    "gmaps.configure(api_key=g_key)"
   ]
  },
  {
   "cell_type": "code",
   "execution_count": 2,
   "metadata": {},
   "outputs": [
    {
     "output_type": "execute_result",
     "data": {
      "text/plain": "   City_ID           City Country    Lat     Lng  Max Temp  Humidity  \\\n0        0         Kovrov      RU  56.36   41.32     54.59        73   \n1        1          Ukiah      US  39.15 -123.21     84.20        26   \n2        2      Porbandar      IN  21.64   69.61     80.60        88   \n3        3  Vasterhaninge      SE  59.12   18.10     60.01        54   \n4        4        Qaanaaq      GL  77.48  -69.36     23.23        81   \n\n   Cloudiness  Wind Speed Current Description  \n0         100        7.61     overcast clouds  \n1           1        6.93           clear sky  \n2          20        4.70                haze  \n3          33       14.25    scattered clouds  \n4           0        8.34           clear sky  ",
      "text/html": "<div>\n<style scoped>\n    .dataframe tbody tr th:only-of-type {\n        vertical-align: middle;\n    }\n\n    .dataframe tbody tr th {\n        vertical-align: top;\n    }\n\n    .dataframe thead th {\n        text-align: right;\n    }\n</style>\n<table border=\"1\" class=\"dataframe\">\n  <thead>\n    <tr style=\"text-align: right;\">\n      <th></th>\n      <th>City_ID</th>\n      <th>City</th>\n      <th>Country</th>\n      <th>Lat</th>\n      <th>Lng</th>\n      <th>Max Temp</th>\n      <th>Humidity</th>\n      <th>Cloudiness</th>\n      <th>Wind Speed</th>\n      <th>Current Description</th>\n    </tr>\n  </thead>\n  <tbody>\n    <tr>\n      <th>0</th>\n      <td>0</td>\n      <td>Kovrov</td>\n      <td>RU</td>\n      <td>56.36</td>\n      <td>41.32</td>\n      <td>54.59</td>\n      <td>73</td>\n      <td>100</td>\n      <td>7.61</td>\n      <td>overcast clouds</td>\n    </tr>\n    <tr>\n      <th>1</th>\n      <td>1</td>\n      <td>Ukiah</td>\n      <td>US</td>\n      <td>39.15</td>\n      <td>-123.21</td>\n      <td>84.20</td>\n      <td>26</td>\n      <td>1</td>\n      <td>6.93</td>\n      <td>clear sky</td>\n    </tr>\n    <tr>\n      <th>2</th>\n      <td>2</td>\n      <td>Porbandar</td>\n      <td>IN</td>\n      <td>21.64</td>\n      <td>69.61</td>\n      <td>80.60</td>\n      <td>88</td>\n      <td>20</td>\n      <td>4.70</td>\n      <td>haze</td>\n    </tr>\n    <tr>\n      <th>3</th>\n      <td>3</td>\n      <td>Vasterhaninge</td>\n      <td>SE</td>\n      <td>59.12</td>\n      <td>18.10</td>\n      <td>60.01</td>\n      <td>54</td>\n      <td>33</td>\n      <td>14.25</td>\n      <td>scattered clouds</td>\n    </tr>\n    <tr>\n      <th>4</th>\n      <td>4</td>\n      <td>Qaanaaq</td>\n      <td>GL</td>\n      <td>77.48</td>\n      <td>-69.36</td>\n      <td>23.23</td>\n      <td>81</td>\n      <td>0</td>\n      <td>8.34</td>\n      <td>clear sky</td>\n    </tr>\n  </tbody>\n</table>\n</div>"
     },
     "metadata": {},
     "execution_count": 2
    }
   ],
   "source": [
    "# 1. Import the WeatherPy_database.csv file.\n",
    "city_data_df = pd.read_csv(parentdir+'\\\\Weather_Database\\\\WeatherPy_Database.csv')\n",
    "city_data_df.head()"
   ]
  },
  {
   "cell_type": "code",
   "execution_count": 3,
   "metadata": {},
   "outputs": [],
   "source": [
    "# 2. Prompt the user to enter minimum and maximum temperature criteria \n",
    "# Ask the customer to add a minimum and maximum temperature value.\n",
    "min_temp = float(input(\"What is the minimum temperature you would like for your trip? \"))\n",
    "max_temp = float(input(\"What is the maximum temperature you would like for your trip? \"))"
   ]
  },
  {
   "cell_type": "code",
   "execution_count": 4,
   "metadata": {},
   "outputs": [
    {
     "output_type": "execute_result",
     "data": {
      "text/plain": "    City_ID            City Country    Lat     Lng  Max Temp  Humidity  \\\n1         1           Ukiah      US  39.15 -123.21     84.20        26   \n2         2       Porbandar      IN  21.64   69.61     80.60        88   \n6         6           Kapaa      US  22.08 -159.32     82.40        65   \n9         9          Avarua      CK -21.21 -159.78     78.80        83   \n18       18  Guerrero Negro      MX  27.98 -114.06     74.32        74   \n19       19        Acapulco      MX  16.86  -99.89     77.00        94   \n22       22         Rikitea      PF -23.12 -134.97     71.71        84   \n25       25           Akyab      MM  20.15   92.90     84.65        79   \n26       26          Faanui      PF -16.48 -151.75     77.40        78   \n29       29       Abu Zabad      SD  12.35   29.25     74.59        73   \n\n    Cloudiness  Wind Speed Current Description  \n1            1        6.93           clear sky  \n2           20        4.70                haze  \n6           90       10.29     overcast clouds  \n9            1        8.05          light rain  \n18           0       14.99           clear sky  \n19          90       10.29       moderate rain  \n22          97       11.12     overcast clouds  \n25          66        9.17       broken clouds  \n26          37       14.20    scattered clouds  \n29         100        7.18     overcast clouds  ",
      "text/html": "<div>\n<style scoped>\n    .dataframe tbody tr th:only-of-type {\n        vertical-align: middle;\n    }\n\n    .dataframe tbody tr th {\n        vertical-align: top;\n    }\n\n    .dataframe thead th {\n        text-align: right;\n    }\n</style>\n<table border=\"1\" class=\"dataframe\">\n  <thead>\n    <tr style=\"text-align: right;\">\n      <th></th>\n      <th>City_ID</th>\n      <th>City</th>\n      <th>Country</th>\n      <th>Lat</th>\n      <th>Lng</th>\n      <th>Max Temp</th>\n      <th>Humidity</th>\n      <th>Cloudiness</th>\n      <th>Wind Speed</th>\n      <th>Current Description</th>\n    </tr>\n  </thead>\n  <tbody>\n    <tr>\n      <th>1</th>\n      <td>1</td>\n      <td>Ukiah</td>\n      <td>US</td>\n      <td>39.15</td>\n      <td>-123.21</td>\n      <td>84.20</td>\n      <td>26</td>\n      <td>1</td>\n      <td>6.93</td>\n      <td>clear sky</td>\n    </tr>\n    <tr>\n      <th>2</th>\n      <td>2</td>\n      <td>Porbandar</td>\n      <td>IN</td>\n      <td>21.64</td>\n      <td>69.61</td>\n      <td>80.60</td>\n      <td>88</td>\n      <td>20</td>\n      <td>4.70</td>\n      <td>haze</td>\n    </tr>\n    <tr>\n      <th>6</th>\n      <td>6</td>\n      <td>Kapaa</td>\n      <td>US</td>\n      <td>22.08</td>\n      <td>-159.32</td>\n      <td>82.40</td>\n      <td>65</td>\n      <td>90</td>\n      <td>10.29</td>\n      <td>overcast clouds</td>\n    </tr>\n    <tr>\n      <th>9</th>\n      <td>9</td>\n      <td>Avarua</td>\n      <td>CK</td>\n      <td>-21.21</td>\n      <td>-159.78</td>\n      <td>78.80</td>\n      <td>83</td>\n      <td>1</td>\n      <td>8.05</td>\n      <td>light rain</td>\n    </tr>\n    <tr>\n      <th>18</th>\n      <td>18</td>\n      <td>Guerrero Negro</td>\n      <td>MX</td>\n      <td>27.98</td>\n      <td>-114.06</td>\n      <td>74.32</td>\n      <td>74</td>\n      <td>0</td>\n      <td>14.99</td>\n      <td>clear sky</td>\n    </tr>\n    <tr>\n      <th>19</th>\n      <td>19</td>\n      <td>Acapulco</td>\n      <td>MX</td>\n      <td>16.86</td>\n      <td>-99.89</td>\n      <td>77.00</td>\n      <td>94</td>\n      <td>90</td>\n      <td>10.29</td>\n      <td>moderate rain</td>\n    </tr>\n    <tr>\n      <th>22</th>\n      <td>22</td>\n      <td>Rikitea</td>\n      <td>PF</td>\n      <td>-23.12</td>\n      <td>-134.97</td>\n      <td>71.71</td>\n      <td>84</td>\n      <td>97</td>\n      <td>11.12</td>\n      <td>overcast clouds</td>\n    </tr>\n    <tr>\n      <th>25</th>\n      <td>25</td>\n      <td>Akyab</td>\n      <td>MM</td>\n      <td>20.15</td>\n      <td>92.90</td>\n      <td>84.65</td>\n      <td>79</td>\n      <td>66</td>\n      <td>9.17</td>\n      <td>broken clouds</td>\n    </tr>\n    <tr>\n      <th>26</th>\n      <td>26</td>\n      <td>Faanui</td>\n      <td>PF</td>\n      <td>-16.48</td>\n      <td>-151.75</td>\n      <td>77.40</td>\n      <td>78</td>\n      <td>37</td>\n      <td>14.20</td>\n      <td>scattered clouds</td>\n    </tr>\n    <tr>\n      <th>29</th>\n      <td>29</td>\n      <td>Abu Zabad</td>\n      <td>SD</td>\n      <td>12.35</td>\n      <td>29.25</td>\n      <td>74.59</td>\n      <td>73</td>\n      <td>100</td>\n      <td>7.18</td>\n      <td>overcast clouds</td>\n    </tr>\n  </tbody>\n</table>\n</div>"
     },
     "metadata": {},
     "execution_count": 4
    }
   ],
   "source": [
    "# 3. Filter the city_data_df DataFrame using the input statements to create a new DataFrame using the loc method.\n",
    "# Filter the dataset to find the cities that fit the criteria.\n",
    "preferred_cities_df = city_data_df.loc[(city_data_df[\"Max Temp\"] <= max_temp) & \\\n",
    "                                       (city_data_df[\"Max Temp\"] >= min_temp)]\n",
    "preferred_cities_df.head(10)"
   ]
  },
  {
   "cell_type": "code",
   "execution_count": 5,
   "metadata": {},
   "outputs": [
    {
     "output_type": "execute_result",
     "data": {
      "text/plain": "City_ID                0\nCity                   0\nCountry                0\nLat                    0\nLng                    0\nMax Temp               0\nHumidity               0\nCloudiness             0\nWind Speed             0\nCurrent Description    0\ndtype: int64"
     },
     "metadata": {},
     "execution_count": 5
    }
   ],
   "source": [
    "# 4a. Determine if there are any empty rows.\n",
    "preferred_cities_df.isnull().sum()"
   ]
  },
  {
   "cell_type": "code",
   "execution_count": 26,
   "metadata": {},
   "outputs": [
    {
     "output_type": "execute_result",
     "data": {
      "text/plain": "City_ID                315\nCity                   315\nCountry                315\nLat                    315\nLng                    315\nMax Temp               315\nHumidity               315\nCloudiness             315\nWind Speed             315\nCurrent Description    315\ndtype: int64"
     },
     "metadata": {},
     "execution_count": 26
    }
   ],
   "source": [
    "preferred_cities_df.count()\n"
   ]
  },
  {
   "cell_type": "code",
   "execution_count": 7,
   "metadata": {},
   "outputs": [],
   "source": [
    "# 4b. Drop any empty rows and create a new DataFrame that doesn’t have empty rows.\n",
    "preferred_cities_df = preferred_cities_df.dropna()"
   ]
  },
  {
   "cell_type": "code",
   "execution_count": 27,
   "metadata": {},
   "outputs": [
    {
     "output_type": "execute_result",
     "data": {
      "text/plain": "              City Country  Max Temp Current Description    Lat     Lng  \\\n1            Ukiah      US     84.20           clear sky  39.15 -123.21   \n2        Porbandar      IN     80.60                haze  21.64   69.61   \n6            Kapaa      US     82.40     overcast clouds  22.08 -159.32   \n9           Avarua      CK     78.80          light rain -21.21 -159.78   \n18  Guerrero Negro      MX     74.32           clear sky  27.98 -114.06   \n19        Acapulco      MX     77.00       moderate rain  16.86  -99.89   \n22         Rikitea      PF     71.71     overcast clouds -23.12 -134.97   \n25           Akyab      MM     84.65       broken clouds  20.15   92.90   \n26          Faanui      PF     77.40    scattered clouds -16.48 -151.75   \n29       Abu Zabad      SD     74.59     overcast clouds  12.35   29.25   \n\n   Hotel Name  \n1              \n2              \n6              \n9              \n18             \n19             \n22             \n25             \n26             \n29             ",
      "text/html": "<div>\n<style scoped>\n    .dataframe tbody tr th:only-of-type {\n        vertical-align: middle;\n    }\n\n    .dataframe tbody tr th {\n        vertical-align: top;\n    }\n\n    .dataframe thead th {\n        text-align: right;\n    }\n</style>\n<table border=\"1\" class=\"dataframe\">\n  <thead>\n    <tr style=\"text-align: right;\">\n      <th></th>\n      <th>City</th>\n      <th>Country</th>\n      <th>Max Temp</th>\n      <th>Current Description</th>\n      <th>Lat</th>\n      <th>Lng</th>\n      <th>Hotel Name</th>\n    </tr>\n  </thead>\n  <tbody>\n    <tr>\n      <th>1</th>\n      <td>Ukiah</td>\n      <td>US</td>\n      <td>84.20</td>\n      <td>clear sky</td>\n      <td>39.15</td>\n      <td>-123.21</td>\n      <td></td>\n    </tr>\n    <tr>\n      <th>2</th>\n      <td>Porbandar</td>\n      <td>IN</td>\n      <td>80.60</td>\n      <td>haze</td>\n      <td>21.64</td>\n      <td>69.61</td>\n      <td></td>\n    </tr>\n    <tr>\n      <th>6</th>\n      <td>Kapaa</td>\n      <td>US</td>\n      <td>82.40</td>\n      <td>overcast clouds</td>\n      <td>22.08</td>\n      <td>-159.32</td>\n      <td></td>\n    </tr>\n    <tr>\n      <th>9</th>\n      <td>Avarua</td>\n      <td>CK</td>\n      <td>78.80</td>\n      <td>light rain</td>\n      <td>-21.21</td>\n      <td>-159.78</td>\n      <td></td>\n    </tr>\n    <tr>\n      <th>18</th>\n      <td>Guerrero Negro</td>\n      <td>MX</td>\n      <td>74.32</td>\n      <td>clear sky</td>\n      <td>27.98</td>\n      <td>-114.06</td>\n      <td></td>\n    </tr>\n    <tr>\n      <th>19</th>\n      <td>Acapulco</td>\n      <td>MX</td>\n      <td>77.00</td>\n      <td>moderate rain</td>\n      <td>16.86</td>\n      <td>-99.89</td>\n      <td></td>\n    </tr>\n    <tr>\n      <th>22</th>\n      <td>Rikitea</td>\n      <td>PF</td>\n      <td>71.71</td>\n      <td>overcast clouds</td>\n      <td>-23.12</td>\n      <td>-134.97</td>\n      <td></td>\n    </tr>\n    <tr>\n      <th>25</th>\n      <td>Akyab</td>\n      <td>MM</td>\n      <td>84.65</td>\n      <td>broken clouds</td>\n      <td>20.15</td>\n      <td>92.90</td>\n      <td></td>\n    </tr>\n    <tr>\n      <th>26</th>\n      <td>Faanui</td>\n      <td>PF</td>\n      <td>77.40</td>\n      <td>scattered clouds</td>\n      <td>-16.48</td>\n      <td>-151.75</td>\n      <td></td>\n    </tr>\n    <tr>\n      <th>29</th>\n      <td>Abu Zabad</td>\n      <td>SD</td>\n      <td>74.59</td>\n      <td>overcast clouds</td>\n      <td>12.35</td>\n      <td>29.25</td>\n      <td></td>\n    </tr>\n  </tbody>\n</table>\n</div>"
     },
     "metadata": {},
     "execution_count": 27
    }
   ],
   "source": [
    "# 5a. Create DataFrame called hotel_df to store hotel names along with city, country, max temp, and coordinates.\n",
    "hotel_df = preferred_cities_df[[\"City\", \"Country\", \"Max Temp\", \"Current Description\", \"Lat\", \"Lng\"]].copy()\n",
    "\n",
    "# 5b. Create a new column \"Hotel Name\"\n",
    "hotel_df[\"Hotel Name\"] = \"\"\n",
    "hotel_df.head(10)"
   ]
  },
  {
   "cell_type": "code",
   "execution_count": 28,
   "metadata": {
    "tags": []
   },
   "outputs": [
    {
     "output_type": "stream",
     "name": "stdout",
     "text": "Hotel not found... skipping.\nHotel not found... skipping.\nHotel not found... skipping.\nHotel not found... skipping.\nHotel not found... skipping.\nHotel not found... skipping.\nHotel not found... skipping.\nHotel not found... skipping.\nHotel not found... skipping.\nHotel not found... skipping.\nHotel not found... skipping.\nHotel not found... skipping.\nHotel not found... skipping.\nHotel not found... skipping.\nHotel not found... skipping.\nHotel not found... skipping.\nHotel not found... skipping.\nHotel not found... skipping.\nHotel not found... skipping.\nHotel not found... skipping.\nHotel not found... skipping.\nHotel not found... skipping.\nHotel not found... skipping.\nHotel not found... skipping.\nHotel not found... skipping.\nHotel not found... skipping.\nHotel not found... skipping.\nHotel not found... skipping.\nHotel not found... skipping.\nHotel not found... skipping.\nHotel not found... skipping.\nHotel not found... skipping.\nHotel not found... skipping.\nHotel not found... skipping.\nHotel not found... skipping.\nHotel not found... skipping.\nHotel not found... skipping.\nHotel not found... skipping.\nHotel not found... skipping.\nHotel not found... skipping.\nHotel not found... skipping.\nHotel not found... skipping.\nHotel not found... skipping.\nHotel not found... skipping.\nHotel not found... skipping.\nHotel not found... skipping.\nHotel not found... skipping.\nHotel not found... skipping.\nHotel not found... skipping.\nHotel not found... skipping.\nHotel not found... skipping.\nHotel not found... skipping.\nHotel not found... skipping.\nHotel not found... skipping.\nHotel not found... skipping.\nHotel not found... skipping.\nHotel not found... skipping.\nHotel not found... skipping.\nHotel not found... skipping.\nHotel not found... skipping.\nHotel not found... skipping.\nHotel not found... skipping.\nHotel not found... skipping.\nHotel not found... skipping.\nHotel not found... skipping.\nHotel not found... skipping.\nHotel not found... skipping.\nHotel not found... skipping.\nHotel not found... skipping.\nHotel not found... skipping.\nHotel not found... skipping.\nHotel not found... skipping.\nHotel not found... skipping.\nHotel not found... skipping.\nHotel not found... skipping.\nHotel not found... skipping.\nHotel not found... skipping.\nHotel not found... skipping.\nHotel not found... skipping.\nHotel not found... skipping.\nHotel not found... skipping.\nHotel not found... skipping.\nHotel not found... skipping.\nHotel not found... skipping.\nHotel not found... skipping.\nHotel not found... skipping.\nHotel not found... skipping.\nHotel not found... skipping.\nHotel not found... skipping.\nHotel not found... skipping.\nHotel not found... skipping.\nHotel not found... skipping.\nHotel not found... skipping.\nHotel not found... skipping.\nHotel not found... skipping.\nHotel not found... skipping.\nHotel not found... skipping.\nHotel not found... skipping.\nHotel not found... skipping.\nHotel not found... skipping.\nHotel not found... skipping.\nHotel not found... skipping.\nHotel not found... skipping.\nHotel not found... skipping.\nHotel not found... skipping.\nHotel not found... skipping.\nHotel not found... skipping.\nHotel not found... skipping.\nHotel not found... skipping.\nHotel not found... skipping.\nHotel not found... skipping.\nHotel not found... skipping.\nHotel not found... skipping.\nHotel not found... skipping.\nHotel not found... skipping.\nHotel not found... skipping.\nHotel not found... skipping.\nHotel not found... skipping.\nHotel not found... skipping.\nHotel not found... skipping.\nHotel not found... skipping.\nHotel not found... skipping.\nHotel not found... skipping.\nHotel not found... skipping.\nHotel not found... skipping.\nHotel not found... skipping.\nHotel not found... skipping.\nHotel not found... skipping.\nHotel not found... skipping.\nHotel not found... skipping.\nHotel not found... skipping.\nHotel not found... skipping.\nHotel not found... skipping.\nHotel not found... skipping.\nHotel not found... skipping.\nHotel not found... skipping.\nHotel not found... skipping.\nHotel not found... skipping.\nHotel not found... skipping.\nHotel not found... skipping.\nHotel not found... skipping.\nHotel not found... skipping.\nHotel not found... skipping.\nHotel not found... skipping.\nHotel not found... skipping.\nHotel not found... skipping.\nHotel not found... skipping.\nHotel not found... skipping.\nHotel not found... skipping.\nHotel not found... skipping.\nHotel not found... skipping.\nHotel not found... skipping.\nHotel not found... skipping.\nHotel not found... skipping.\nHotel not found... skipping.\nHotel not found... skipping.\nHotel not found... skipping.\nHotel not found... skipping.\nHotel not found... skipping.\nHotel not found... skipping.\nHotel not found... skipping.\nHotel not found... skipping.\nHotel not found... skipping.\nHotel not found... skipping.\nHotel not found... skipping.\nHotel not found... skipping.\nHotel not found... skipping.\nHotel not found... skipping.\nHotel not found... skipping.\nHotel not found... skipping.\nHotel not found... skipping.\nHotel not found... skipping.\nHotel not found... skipping.\nHotel not found... skipping.\nHotel not found... skipping.\nHotel not found... skipping.\nHotel not found... skipping.\nHotel not found... skipping.\nHotel not found... skipping.\nHotel not found... skipping.\nHotel not found... skipping.\nHotel not found... skipping.\nHotel not found... skipping.\nHotel not found... skipping.\nHotel not found... skipping.\nHotel not found... skipping.\nHotel not found... skipping.\nHotel not found... skipping.\nHotel not found... skipping.\nHotel not found... skipping.\nHotel not found... skipping.\nHotel not found... skipping.\nHotel not found... skipping.\nHotel not found... skipping.\nHotel not found... skipping.\nHotel not found... skipping.\nHotel not found... skipping.\nHotel not found... skipping.\nHotel not found... skipping.\nHotel not found... skipping.\nHotel not found... skipping.\nHotel not found... skipping.\nHotel not found... skipping.\nHotel not found... skipping.\nHotel not found... skipping.\nHotel not found... skipping.\nHotel not found... skipping.\nHotel not found... skipping.\nHotel not found... skipping.\nHotel not found... skipping.\nHotel not found... skipping.\nHotel not found... skipping.\nHotel not found... skipping.\nHotel not found... skipping.\nHotel not found... skipping.\nHotel not found... skipping.\nHotel not found... skipping.\nHotel not found... skipping.\nHotel not found... skipping.\nHotel not found... skipping.\nHotel not found... skipping.\nHotel not found... skipping.\nHotel not found... skipping.\nHotel not found... skipping.\nHotel not found... skipping.\nHotel not found... skipping.\nHotel not found... skipping.\nHotel not found... skipping.\nHotel not found... skipping.\nHotel not found... skipping.\nHotel not found... skipping.\nHotel not found... skipping.\nHotel not found... skipping.\nHotel not found... skipping.\nHotel not found... skipping.\nHotel not found... skipping.\nHotel not found... skipping.\nHotel not found... skipping.\nHotel not found... skipping.\nHotel not found... skipping.\nHotel not found... skipping.\nHotel not found... skipping.\nHotel not found... skipping.\nHotel not found... skipping.\nHotel not found... skipping.\nHotel not found... skipping.\nHotel not found... skipping.\nHotel not found... skipping.\nHotel not found... skipping.\nHotel not found... skipping.\nHotel not found... skipping.\nHotel not found... skipping.\nHotel not found... skipping.\nHotel not found... skipping.\nHotel not found... skipping.\nHotel not found... skipping.\nHotel not found... skipping.\nHotel not found... skipping.\nHotel not found... skipping.\nHotel not found... skipping.\nHotel not found... skipping.\nHotel not found... skipping.\nHotel not found... skipping.\nHotel not found... skipping.\nHotel not found... skipping.\nHotel not found... skipping.\nHotel not found... skipping.\nHotel not found... skipping.\nHotel not found... skipping.\nHotel not found... skipping.\nHotel not found... skipping.\nHotel not found... skipping.\nHotel not found... skipping.\nHotel not found... skipping.\nHotel not found... skipping.\nHotel not found... skipping.\nHotel not found... skipping.\nHotel not found... skipping.\nHotel not found... skipping.\nHotel not found... skipping.\nHotel not found... skipping.\nHotel not found... skipping.\nHotel not found... skipping.\nHotel not found... skipping.\nHotel not found... skipping.\nHotel not found... skipping.\nHotel not found... skipping.\nHotel not found... skipping.\nHotel not found... skipping.\nHotel not found... skipping.\nHotel not found... skipping.\nHotel not found... skipping.\nHotel not found... skipping.\nHotel not found... skipping.\n"
    }
   ],
   "source": [
    "# 6a. Set parameters to search for hotels with 5000 meters.\n",
    "params = {\n",
    "    \"radius\": 5000,\n",
    "    \"type\": \"lodging\",\n",
    "    \"key\": g_key\n",
    "}\n",
    "\n",
    "\n",
    "# 6b. Iterate through the hotel DataFrame.\n",
    "for index, row in hotel_df.iterrows():\n",
    "\n",
    "    # 6c. Get latitude and longitude from DataFrame\n",
    "    lat = row[\"Lat\"]\n",
    "    lng = row[\"Lng\"]\n",
    "    params[\"location\"] = f\"{lat},{lng}\"\n",
    "\n",
    "\n",
    "    \n",
    "    # 6d. Set up the base URL for the Google Directions API to get JSON data.\n",
    "    base_url = \"https://maps.googleapis.com/maps/api/place/nearbysearch/json\"\n",
    "    \n",
    "\n",
    "    # 6e. Make request and retrieve the JSON data from the search.\n",
    "    hotels = requests.get(base_url, params=params).json() \n",
    "    \n",
    "    \n",
    "    # 6f. Get the first hotel from the results and store the name, if a hotel isn't found skip the city.\n",
    "    try:\n",
    "        hotel_df.loc[index, \"Hotel Name\"] = hotels[\"results\"][0][\"name\"]\n",
    "    except (IndexError):\n",
    "        print(\"Hotel not found... skipping.\")\n",
    "    \n",
    "\n",
    "    \n",
    "   \n",
    "    \n",
    "        "
   ]
  },
  {
   "cell_type": "code",
   "execution_count": 10,
   "metadata": {},
   "outputs": [
    {
     "output_type": "execute_result",
     "data": {
      "text/plain": "              City Country  Max Temp Current Description    Lat     Lng  \\\n1            Ukiah      US     84.20           clear sky  39.15 -123.21   \n2        Porbandar      IN     80.60                haze  21.64   69.61   \n6            Kapaa      US     82.40     overcast clouds  22.08 -159.32   \n9           Avarua      CK     78.80          light rain -21.21 -159.78   \n18  Guerrero Negro      MX     74.32           clear sky  27.98 -114.06   \n19        Acapulco      MX     77.00       moderate rain  16.86  -99.89   \n22         Rikitea      PF     71.71     overcast clouds -23.12 -134.97   \n25           Akyab      MM     84.65       broken clouds  20.15   92.90   \n26          Faanui      PF     77.40    scattered clouds -16.48 -151.75   \n29       Abu Zabad      SD     74.59     overcast clouds  12.35   29.25   \n\n                                Hotel Name  \n1                        Hampton Inn Ukiah  \n2                      Lords Inn Porbandar  \n6   Sheraton Kauai Resort at Coconut Beach  \n9                                           \n18                                          \n19               HS Hotsson Smart Acapulco  \n22                          Pension Maro'i  \n25                                          \n26      Bora-Bora Pearl Beach Resort & Spa  \n29                                          ",
      "text/html": "<div>\n<style scoped>\n    .dataframe tbody tr th:only-of-type {\n        vertical-align: middle;\n    }\n\n    .dataframe tbody tr th {\n        vertical-align: top;\n    }\n\n    .dataframe thead th {\n        text-align: right;\n    }\n</style>\n<table border=\"1\" class=\"dataframe\">\n  <thead>\n    <tr style=\"text-align: right;\">\n      <th></th>\n      <th>City</th>\n      <th>Country</th>\n      <th>Max Temp</th>\n      <th>Current Description</th>\n      <th>Lat</th>\n      <th>Lng</th>\n      <th>Hotel Name</th>\n    </tr>\n  </thead>\n  <tbody>\n    <tr>\n      <th>1</th>\n      <td>Ukiah</td>\n      <td>US</td>\n      <td>84.20</td>\n      <td>clear sky</td>\n      <td>39.15</td>\n      <td>-123.21</td>\n      <td>Hampton Inn Ukiah</td>\n    </tr>\n    <tr>\n      <th>2</th>\n      <td>Porbandar</td>\n      <td>IN</td>\n      <td>80.60</td>\n      <td>haze</td>\n      <td>21.64</td>\n      <td>69.61</td>\n      <td>Lords Inn Porbandar</td>\n    </tr>\n    <tr>\n      <th>6</th>\n      <td>Kapaa</td>\n      <td>US</td>\n      <td>82.40</td>\n      <td>overcast clouds</td>\n      <td>22.08</td>\n      <td>-159.32</td>\n      <td>Sheraton Kauai Resort at Coconut Beach</td>\n    </tr>\n    <tr>\n      <th>9</th>\n      <td>Avarua</td>\n      <td>CK</td>\n      <td>78.80</td>\n      <td>light rain</td>\n      <td>-21.21</td>\n      <td>-159.78</td>\n      <td></td>\n    </tr>\n    <tr>\n      <th>18</th>\n      <td>Guerrero Negro</td>\n      <td>MX</td>\n      <td>74.32</td>\n      <td>clear sky</td>\n      <td>27.98</td>\n      <td>-114.06</td>\n      <td></td>\n    </tr>\n    <tr>\n      <th>19</th>\n      <td>Acapulco</td>\n      <td>MX</td>\n      <td>77.00</td>\n      <td>moderate rain</td>\n      <td>16.86</td>\n      <td>-99.89</td>\n      <td>HS Hotsson Smart Acapulco</td>\n    </tr>\n    <tr>\n      <th>22</th>\n      <td>Rikitea</td>\n      <td>PF</td>\n      <td>71.71</td>\n      <td>overcast clouds</td>\n      <td>-23.12</td>\n      <td>-134.97</td>\n      <td>Pension Maro'i</td>\n    </tr>\n    <tr>\n      <th>25</th>\n      <td>Akyab</td>\n      <td>MM</td>\n      <td>84.65</td>\n      <td>broken clouds</td>\n      <td>20.15</td>\n      <td>92.90</td>\n      <td></td>\n    </tr>\n    <tr>\n      <th>26</th>\n      <td>Faanui</td>\n      <td>PF</td>\n      <td>77.40</td>\n      <td>scattered clouds</td>\n      <td>-16.48</td>\n      <td>-151.75</td>\n      <td>Bora-Bora Pearl Beach Resort &amp; Spa</td>\n    </tr>\n    <tr>\n      <th>29</th>\n      <td>Abu Zabad</td>\n      <td>SD</td>\n      <td>74.59</td>\n      <td>overcast clouds</td>\n      <td>12.35</td>\n      <td>29.25</td>\n      <td></td>\n    </tr>\n  </tbody>\n</table>\n</div>"
     },
     "metadata": {},
     "execution_count": 10
    }
   ],
   "source": [
    "hotel_df.head(10)"
   ]
  },
  {
   "cell_type": "code",
   "execution_count": 30,
   "metadata": {},
   "outputs": [],
   "source": [
    "hotel_df[\"Hotel Name\"].replace(\"\",np.nan,inplace=True)"
   ]
  },
  {
   "cell_type": "code",
   "execution_count": 31,
   "metadata": {},
   "outputs": [
    {
     "output_type": "execute_result",
     "data": {
      "text/plain": "City                   0\nCountry                0\nMax Temp               0\nCurrent Description    0\nLat                    0\nLng                    0\nHotel Name             0\ndtype: int64"
     },
     "metadata": {},
     "execution_count": 31
    }
   ],
   "source": [
    "hotel_df[hotel_df[\"Hotel Name\"] == \"\" ].count()"
   ]
  },
  {
   "cell_type": "code",
   "execution_count": 32,
   "metadata": {},
   "outputs": [
    {
     "output_type": "execute_result",
     "data": {
      "text/plain": "294"
     },
     "metadata": {},
     "execution_count": 32
    }
   ],
   "source": [
    "hotel_df[\"Hotel Name\"].isnull().sum()"
   ]
  },
  {
   "cell_type": "code",
   "execution_count": 33,
   "metadata": {},
   "outputs": [],
   "source": [
    "# 7. Drop the rows where there is no Hotel Name.\n",
    "hotel_df = hotel_df.dropna()"
   ]
  },
  {
   "cell_type": "code",
   "execution_count": 35,
   "metadata": {},
   "outputs": [
    {
     "output_type": "execute_result",
     "data": {
      "text/plain": "                 City Country  Max Temp   Current Description    Lat     Lng  \\\n1               Ukiah      US     84.20             clear sky  39.15 -123.21   \n2           Porbandar      IN     80.60                  haze  21.64   69.61   \n6               Kapaa      US     82.40       overcast clouds  22.08 -159.32   \n9              Avarua      CK     78.80            light rain -21.21 -159.78   \n19           Acapulco      MX     77.00         moderate rain  16.86  -99.89   \n22            Rikitea      PF     71.71       overcast clouds -23.12 -134.97   \n29          Abu Zabad      SD     74.59       overcast clouds  12.35   29.25   \n76             Nicoya      CR     75.99            light rain  10.15  -85.45   \n110         Santa Ana      US     81.00             clear sky  33.75 -117.87   \n141      San Patricio      MX     81.32         broken clouds  19.22 -104.70   \n422  Puerto Escondido      MX     78.53       overcast clouds  15.85  -97.07   \n619    Kulhudhuffushi      MV     82.44       overcast clouds   6.62   73.07   \n620      Rapid Valley      US     75.20                 smoke  44.06 -103.15   \n622            Haimen      CN     84.20            few clouds  23.19  116.61   \n623           Anjiang      CN     78.24  heavy intensity rain  27.32  110.10   \n629     Alice Springs      AU     78.80            few clouds -23.70  133.88   \n631            Ixtapa      MX     87.80         broken clouds  20.70 -105.20   \n637              Yala      TH     80.60            few clouds   6.33  101.25   \n639       Meadow Lake      US     84.20             clear sky  34.80 -106.54   \n653              Tezu      IN     86.65       overcast clouds  27.92   96.17   \n658           Mae Sai      TH     84.00      scattered clouds  20.43   99.88   \n\n                                        Hotel Name  \n1                                Hampton Inn Ukiah  \n2                              Lords Inn Porbandar  \n6           Sheraton Kauai Resort at Coconut Beach  \n9                                     Paradise Inn  \n19                       HS Hotsson Smart Acapulco  \n22                                  Pension Maro'i  \n29                                  محي الدين نوري  \n76                                   Guayacan Real  \n110  Best Western Plus Orange County Airport North  \n141                              Hotel Cabo Blanco  \n422                  Aldea del Bazar Hotel and Spa  \n619                            Haajy Guest House 1  \n620  Fairfield Inn & Suites by Marriott Rapid City  \n622                         Jinghao Business Hotel  \n623                                    Dahua Hotel  \n629                     Desert Palms Alice Springs  \n631                  Container Inn Puerto Vallarta  \n637                         งานแต่ง Murnee - Wahid  \n639                  JKL Inc. R.V Park and Storage  \n653                                  Circuit House  \n658                   Piyaporn Hill Paradise Hotel  ",
      "text/html": "<div>\n<style scoped>\n    .dataframe tbody tr th:only-of-type {\n        vertical-align: middle;\n    }\n\n    .dataframe tbody tr th {\n        vertical-align: top;\n    }\n\n    .dataframe thead th {\n        text-align: right;\n    }\n</style>\n<table border=\"1\" class=\"dataframe\">\n  <thead>\n    <tr style=\"text-align: right;\">\n      <th></th>\n      <th>City</th>\n      <th>Country</th>\n      <th>Max Temp</th>\n      <th>Current Description</th>\n      <th>Lat</th>\n      <th>Lng</th>\n      <th>Hotel Name</th>\n    </tr>\n  </thead>\n  <tbody>\n    <tr>\n      <th>1</th>\n      <td>Ukiah</td>\n      <td>US</td>\n      <td>84.20</td>\n      <td>clear sky</td>\n      <td>39.15</td>\n      <td>-123.21</td>\n      <td>Hampton Inn Ukiah</td>\n    </tr>\n    <tr>\n      <th>2</th>\n      <td>Porbandar</td>\n      <td>IN</td>\n      <td>80.60</td>\n      <td>haze</td>\n      <td>21.64</td>\n      <td>69.61</td>\n      <td>Lords Inn Porbandar</td>\n    </tr>\n    <tr>\n      <th>6</th>\n      <td>Kapaa</td>\n      <td>US</td>\n      <td>82.40</td>\n      <td>overcast clouds</td>\n      <td>22.08</td>\n      <td>-159.32</td>\n      <td>Sheraton Kauai Resort at Coconut Beach</td>\n    </tr>\n    <tr>\n      <th>9</th>\n      <td>Avarua</td>\n      <td>CK</td>\n      <td>78.80</td>\n      <td>light rain</td>\n      <td>-21.21</td>\n      <td>-159.78</td>\n      <td>Paradise Inn</td>\n    </tr>\n    <tr>\n      <th>19</th>\n      <td>Acapulco</td>\n      <td>MX</td>\n      <td>77.00</td>\n      <td>moderate rain</td>\n      <td>16.86</td>\n      <td>-99.89</td>\n      <td>HS Hotsson Smart Acapulco</td>\n    </tr>\n    <tr>\n      <th>22</th>\n      <td>Rikitea</td>\n      <td>PF</td>\n      <td>71.71</td>\n      <td>overcast clouds</td>\n      <td>-23.12</td>\n      <td>-134.97</td>\n      <td>Pension Maro'i</td>\n    </tr>\n    <tr>\n      <th>29</th>\n      <td>Abu Zabad</td>\n      <td>SD</td>\n      <td>74.59</td>\n      <td>overcast clouds</td>\n      <td>12.35</td>\n      <td>29.25</td>\n      <td>محي الدين نوري</td>\n    </tr>\n    <tr>\n      <th>76</th>\n      <td>Nicoya</td>\n      <td>CR</td>\n      <td>75.99</td>\n      <td>light rain</td>\n      <td>10.15</td>\n      <td>-85.45</td>\n      <td>Guayacan Real</td>\n    </tr>\n    <tr>\n      <th>110</th>\n      <td>Santa Ana</td>\n      <td>US</td>\n      <td>81.00</td>\n      <td>clear sky</td>\n      <td>33.75</td>\n      <td>-117.87</td>\n      <td>Best Western Plus Orange County Airport North</td>\n    </tr>\n    <tr>\n      <th>141</th>\n      <td>San Patricio</td>\n      <td>MX</td>\n      <td>81.32</td>\n      <td>broken clouds</td>\n      <td>19.22</td>\n      <td>-104.70</td>\n      <td>Hotel Cabo Blanco</td>\n    </tr>\n    <tr>\n      <th>422</th>\n      <td>Puerto Escondido</td>\n      <td>MX</td>\n      <td>78.53</td>\n      <td>overcast clouds</td>\n      <td>15.85</td>\n      <td>-97.07</td>\n      <td>Aldea del Bazar Hotel and Spa</td>\n    </tr>\n    <tr>\n      <th>619</th>\n      <td>Kulhudhuffushi</td>\n      <td>MV</td>\n      <td>82.44</td>\n      <td>overcast clouds</td>\n      <td>6.62</td>\n      <td>73.07</td>\n      <td>Haajy Guest House 1</td>\n    </tr>\n    <tr>\n      <th>620</th>\n      <td>Rapid Valley</td>\n      <td>US</td>\n      <td>75.20</td>\n      <td>smoke</td>\n      <td>44.06</td>\n      <td>-103.15</td>\n      <td>Fairfield Inn &amp; Suites by Marriott Rapid City</td>\n    </tr>\n    <tr>\n      <th>622</th>\n      <td>Haimen</td>\n      <td>CN</td>\n      <td>84.20</td>\n      <td>few clouds</td>\n      <td>23.19</td>\n      <td>116.61</td>\n      <td>Jinghao Business Hotel</td>\n    </tr>\n    <tr>\n      <th>623</th>\n      <td>Anjiang</td>\n      <td>CN</td>\n      <td>78.24</td>\n      <td>heavy intensity rain</td>\n      <td>27.32</td>\n      <td>110.10</td>\n      <td>Dahua Hotel</td>\n    </tr>\n    <tr>\n      <th>629</th>\n      <td>Alice Springs</td>\n      <td>AU</td>\n      <td>78.80</td>\n      <td>few clouds</td>\n      <td>-23.70</td>\n      <td>133.88</td>\n      <td>Desert Palms Alice Springs</td>\n    </tr>\n    <tr>\n      <th>631</th>\n      <td>Ixtapa</td>\n      <td>MX</td>\n      <td>87.80</td>\n      <td>broken clouds</td>\n      <td>20.70</td>\n      <td>-105.20</td>\n      <td>Container Inn Puerto Vallarta</td>\n    </tr>\n    <tr>\n      <th>637</th>\n      <td>Yala</td>\n      <td>TH</td>\n      <td>80.60</td>\n      <td>few clouds</td>\n      <td>6.33</td>\n      <td>101.25</td>\n      <td>งานแต่ง Murnee - Wahid</td>\n    </tr>\n    <tr>\n      <th>639</th>\n      <td>Meadow Lake</td>\n      <td>US</td>\n      <td>84.20</td>\n      <td>clear sky</td>\n      <td>34.80</td>\n      <td>-106.54</td>\n      <td>JKL Inc. R.V Park and Storage</td>\n    </tr>\n    <tr>\n      <th>653</th>\n      <td>Tezu</td>\n      <td>IN</td>\n      <td>86.65</td>\n      <td>overcast clouds</td>\n      <td>27.92</td>\n      <td>96.17</td>\n      <td>Circuit House</td>\n    </tr>\n    <tr>\n      <th>658</th>\n      <td>Mae Sai</td>\n      <td>TH</td>\n      <td>84.00</td>\n      <td>scattered clouds</td>\n      <td>20.43</td>\n      <td>99.88</td>\n      <td>Piyaporn Hill Paradise Hotel</td>\n    </tr>\n  </tbody>\n</table>\n</div>"
     },
     "metadata": {},
     "execution_count": 35
    }
   ],
   "source": [
    "hotel_df"
   ]
  },
  {
   "cell_type": "code",
   "execution_count": 36,
   "metadata": {},
   "outputs": [],
   "source": [
    "# 8a. Create the output File (CSV)\n",
    "output_data_file = \"WeatherPy_vacation.csv\"\n",
    "# 8b. Export the City_Data into a csv\n",
    "hotel_df.to_csv(output_data_file, index_label=\"City_ID\")"
   ]
  },
  {
   "cell_type": "code",
   "execution_count": 37,
   "metadata": {},
   "outputs": [],
   "source": [
    "# 9. Using the template add city name, the country code, the weather description and maximum temperature for the city.\n",
    "info_box_template = \"\"\"\n",
    "<dl>\n",
    "<dt>Hotel Name</dt><dd>{Hotel Name}</dd>\n",
    "<dt>City Name</dt><dd>{City}</dd>\n",
    "<dt>Country Code</dt><dd>{Country}</dd>\n",
    "<dt>Current Weather</dt><dd>{Current Description} and {Max Temp} °F</dd>\n",
    "</dl>\n",
    "\"\"\"\n",
    "\n",
    "# 10a. Get the data from each row and add it to the formatting template and store the data in a list.\n",
    "hotel_info = [info_box_template.format(**row) for index, row in hotel_df.iterrows()]\n",
    "\n",
    "# 10b. Get the latitude and longitude from each row and store in a new DataFrame.\n",
    "locations = hotel_df[[\"Lat\", \"Lng\"]]"
   ]
  },
  {
   "cell_type": "code",
   "execution_count": 23,
   "metadata": {},
   "outputs": [
    {
     "output_type": "display_data",
     "data": {
      "text/plain": "Figure(layout=FigureLayout(height='420px'))",
      "application/vnd.jupyter.widget-view+json": {
       "version_major": 2,
       "version_minor": 0,
       "model_id": "3dfc9a83883f4068a24c67b74c52dd14"
      }
     },
     "metadata": {}
    }
   ],
   "source": [
    "# 11a. Add a marker layer for each city to the map.\n",
    "fig = gmaps.figure(center=(30.0, 31.0), zoom_level=1.5)\n",
    "\n",
    "marker_layer = gmaps.marker_layer(locations, info_box_content=hotel_info)\n",
    "fig.add_layer(marker_layer) \n",
    "\n",
    "# 11b. Display the figure\n",
    "fig\n"
   ]
  },
  {
   "cell_type": "code",
   "execution_count": null,
   "metadata": {},
   "outputs": [],
   "source": []
  },
  {
   "cell_type": "code",
   "execution_count": null,
   "metadata": {},
   "outputs": [],
   "source": []
  }
 ],
 "metadata": {
  "kernelspec": {
   "display_name": "PythonData",
   "language": "python",
   "name": "pythondata"
  },
  "language_info": {
   "codemirror_mode": {
    "name": "ipython",
    "version": 3
   },
   "file_extension": ".py",
   "mimetype": "text/x-python",
   "name": "python",
   "nbconvert_exporter": "python",
   "pygments_lexer": "ipython3",
   "version": "3.6.10-final"
  },
  "latex_envs": {
   "LaTeX_envs_menu_present": true,
   "autoclose": false,
   "autocomplete": true,
   "bibliofile": "biblio.bib",
   "cite_by": "apalike",
   "current_citInitial": 1,
   "eqLabelWithNumbers": true,
   "eqNumInitial": 1,
   "hotkeys": {
    "equation": "Ctrl-E",
    "itemize": "Ctrl-I"
   },
   "labels_anchors": false,
   "latex_user_defs": false,
   "report_style_numbering": false,
   "user_envs_cfg": false
  }
 },
 "nbformat": 4,
 "nbformat_minor": 2
}