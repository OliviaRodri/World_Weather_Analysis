{
 "cells": [
  {
   "cell_type": "markdown",
   "metadata": {},
   "source": [
    "## Deliverable 2. Create a Customer Travel Destinations Map."
   ]
  },
  {
   "cell_type": "code",
   "execution_count": 38,
   "metadata": {},
   "outputs": [],
   "source": [
    "# Dependencies and Setup\n",
    "import pandas as pd\n",
    "import requests\n",
    "import gmaps\n",
    "import os\n",
    "import matplotlib.pyplot as plt\n",
    "import numpy as np\n",
    "\n",
    "# Import the random module.\n",
    "import random\n",
    "# Use the citipy module to determine city based on latitude and longitude.\n",
    "from citipy import citipy\n",
    "\n",
    "import os,sys,inspect\n",
    "currentdir = os.path.dirname(os.path.abspath(inspect.getfile(inspect.currentframe())))\n",
    "parentdir = os.path.dirname(currentdir)\n",
    "sys.path.insert(0,parentdir) \n",
    "# Import API key\n",
    "from config import g_key\n",
    "\n",
    "# Configure gmaps API key\n",
    "gmaps.configure(api_key=g_key)"
   ]
  },
  {
   "cell_type": "code",
   "execution_count": 51,
   "metadata": {},
   "outputs": [
    {
     "output_type": "execute_result",
     "data": {
      "text/plain": "   City_ID           City Country    Lat     Lng  Max Temp  Humidity  \\\n0        0         Kovrov      RU  56.36   41.32     54.59        73   \n1        1          Ukiah      US  39.15 -123.21     84.20        26   \n2        2      Porbandar      IN  21.64   69.61     80.60        88   \n3        3  Vasterhaninge      SE  59.12   18.10     60.01        54   \n4        4        Qaanaaq      GL  77.48  -69.36     23.23        81   \n\n   Cloudiness  Wind Speed Current Description  \n0         100        7.61     overcast clouds  \n1           1        6.93           clear sky  \n2          20        4.70                haze  \n3          33       14.25    scattered clouds  \n4           0        8.34           clear sky  ",
      "text/html": "<div>\n<style scoped>\n    .dataframe tbody tr th:only-of-type {\n        vertical-align: middle;\n    }\n\n    .dataframe tbody tr th {\n        vertical-align: top;\n    }\n\n    .dataframe thead th {\n        text-align: right;\n    }\n</style>\n<table border=\"1\" class=\"dataframe\">\n  <thead>\n    <tr style=\"text-align: right;\">\n      <th></th>\n      <th>City_ID</th>\n      <th>City</th>\n      <th>Country</th>\n      <th>Lat</th>\n      <th>Lng</th>\n      <th>Max Temp</th>\n      <th>Humidity</th>\n      <th>Cloudiness</th>\n      <th>Wind Speed</th>\n      <th>Current Description</th>\n    </tr>\n  </thead>\n  <tbody>\n    <tr>\n      <th>0</th>\n      <td>0</td>\n      <td>Kovrov</td>\n      <td>RU</td>\n      <td>56.36</td>\n      <td>41.32</td>\n      <td>54.59</td>\n      <td>73</td>\n      <td>100</td>\n      <td>7.61</td>\n      <td>overcast clouds</td>\n    </tr>\n    <tr>\n      <th>1</th>\n      <td>1</td>\n      <td>Ukiah</td>\n      <td>US</td>\n      <td>39.15</td>\n      <td>-123.21</td>\n      <td>84.20</td>\n      <td>26</td>\n      <td>1</td>\n      <td>6.93</td>\n      <td>clear sky</td>\n    </tr>\n    <tr>\n      <th>2</th>\n      <td>2</td>\n      <td>Porbandar</td>\n      <td>IN</td>\n      <td>21.64</td>\n      <td>69.61</td>\n      <td>80.60</td>\n      <td>88</td>\n      <td>20</td>\n      <td>4.70</td>\n      <td>haze</td>\n    </tr>\n    <tr>\n      <th>3</th>\n      <td>3</td>\n      <td>Vasterhaninge</td>\n      <td>SE</td>\n      <td>59.12</td>\n      <td>18.10</td>\n      <td>60.01</td>\n      <td>54</td>\n      <td>33</td>\n      <td>14.25</td>\n      <td>scattered clouds</td>\n    </tr>\n    <tr>\n      <th>4</th>\n      <td>4</td>\n      <td>Qaanaaq</td>\n      <td>GL</td>\n      <td>77.48</td>\n      <td>-69.36</td>\n      <td>23.23</td>\n      <td>81</td>\n      <td>0</td>\n      <td>8.34</td>\n      <td>clear sky</td>\n    </tr>\n  </tbody>\n</table>\n</div>"
     },
     "metadata": {},
     "execution_count": 51
    }
   ],
   "source": [
    "# 1. Import the WeatherPy_database.csv file.\n",
    "city_data_df = pd.read_csv(parentdir+'\\\\Weather_Database\\\\WeatherPy_Database.csv')\n",
    "city_data_df.head()"
   ]
  },
  {
   "cell_type": "code",
   "execution_count": 52,
   "metadata": {},
   "outputs": [],
   "source": [
    "# 2. Prompt the user to enter minimum and maximum temperature criteria \n",
    "# Ask the customer to add a minimum and maximum temperature value.\n",
    "min_temp = float(input(\"What is the minimum temperature you would like for your trip? \"))\n",
    "max_temp = float(input(\"What is the maximum temperature you would like for your trip? \"))"
   ]
  },
  {
   "cell_type": "code",
   "execution_count": 53,
   "metadata": {},
   "outputs": [
    {
     "output_type": "execute_result",
     "data": {
      "text/plain": "    City_ID           City Country    Lat     Lng  Max Temp  Humidity  \\\n0         0         Kovrov      RU  56.36   41.32     54.59        73   \n1         1          Ukiah      US  39.15 -123.21     84.20        26   \n2         2      Porbandar      IN  21.64   69.61     80.60        88   \n3         3  Vasterhaninge      SE  59.12   18.10     60.01        54   \n5         5          Tiksi      RU  71.69  128.87     52.25        72   \n6         6          Kapaa      US  22.08 -159.32     82.40        65   \n7         7      Cape Town      ZA -33.93   18.42     57.00        93   \n8         8       Ucluelet      CA  48.93 -125.55     59.00        90   \n9         9         Avarua      CK -21.21 -159.78     78.80        83   \n10       10        Waipawa      NZ -41.41  175.52     60.80        82   \n\n    Cloudiness  Wind Speed Current Description  \n0          100        7.61     overcast clouds  \n1            1        6.93           clear sky  \n2           20        4.70                haze  \n3           33       14.25    scattered clouds  \n5           82        3.04       broken clouds  \n6           90       10.29     overcast clouds  \n7           75       11.41       broken clouds  \n8           34        8.01    scattered clouds  \n9            1        8.05          light rain  \n10          41       18.34    scattered clouds  ",
      "text/html": "<div>\n<style scoped>\n    .dataframe tbody tr th:only-of-type {\n        vertical-align: middle;\n    }\n\n    .dataframe tbody tr th {\n        vertical-align: top;\n    }\n\n    .dataframe thead th {\n        text-align: right;\n    }\n</style>\n<table border=\"1\" class=\"dataframe\">\n  <thead>\n    <tr style=\"text-align: right;\">\n      <th></th>\n      <th>City_ID</th>\n      <th>City</th>\n      <th>Country</th>\n      <th>Lat</th>\n      <th>Lng</th>\n      <th>Max Temp</th>\n      <th>Humidity</th>\n      <th>Cloudiness</th>\n      <th>Wind Speed</th>\n      <th>Current Description</th>\n    </tr>\n  </thead>\n  <tbody>\n    <tr>\n      <th>0</th>\n      <td>0</td>\n      <td>Kovrov</td>\n      <td>RU</td>\n      <td>56.36</td>\n      <td>41.32</td>\n      <td>54.59</td>\n      <td>73</td>\n      <td>100</td>\n      <td>7.61</td>\n      <td>overcast clouds</td>\n    </tr>\n    <tr>\n      <th>1</th>\n      <td>1</td>\n      <td>Ukiah</td>\n      <td>US</td>\n      <td>39.15</td>\n      <td>-123.21</td>\n      <td>84.20</td>\n      <td>26</td>\n      <td>1</td>\n      <td>6.93</td>\n      <td>clear sky</td>\n    </tr>\n    <tr>\n      <th>2</th>\n      <td>2</td>\n      <td>Porbandar</td>\n      <td>IN</td>\n      <td>21.64</td>\n      <td>69.61</td>\n      <td>80.60</td>\n      <td>88</td>\n      <td>20</td>\n      <td>4.70</td>\n      <td>haze</td>\n    </tr>\n    <tr>\n      <th>3</th>\n      <td>3</td>\n      <td>Vasterhaninge</td>\n      <td>SE</td>\n      <td>59.12</td>\n      <td>18.10</td>\n      <td>60.01</td>\n      <td>54</td>\n      <td>33</td>\n      <td>14.25</td>\n      <td>scattered clouds</td>\n    </tr>\n    <tr>\n      <th>5</th>\n      <td>5</td>\n      <td>Tiksi</td>\n      <td>RU</td>\n      <td>71.69</td>\n      <td>128.87</td>\n      <td>52.25</td>\n      <td>72</td>\n      <td>82</td>\n      <td>3.04</td>\n      <td>broken clouds</td>\n    </tr>\n    <tr>\n      <th>6</th>\n      <td>6</td>\n      <td>Kapaa</td>\n      <td>US</td>\n      <td>22.08</td>\n      <td>-159.32</td>\n      <td>82.40</td>\n      <td>65</td>\n      <td>90</td>\n      <td>10.29</td>\n      <td>overcast clouds</td>\n    </tr>\n    <tr>\n      <th>7</th>\n      <td>7</td>\n      <td>Cape Town</td>\n      <td>ZA</td>\n      <td>-33.93</td>\n      <td>18.42</td>\n      <td>57.00</td>\n      <td>93</td>\n      <td>75</td>\n      <td>11.41</td>\n      <td>broken clouds</td>\n    </tr>\n    <tr>\n      <th>8</th>\n      <td>8</td>\n      <td>Ucluelet</td>\n      <td>CA</td>\n      <td>48.93</td>\n      <td>-125.55</td>\n      <td>59.00</td>\n      <td>90</td>\n      <td>34</td>\n      <td>8.01</td>\n      <td>scattered clouds</td>\n    </tr>\n    <tr>\n      <th>9</th>\n      <td>9</td>\n      <td>Avarua</td>\n      <td>CK</td>\n      <td>-21.21</td>\n      <td>-159.78</td>\n      <td>78.80</td>\n      <td>83</td>\n      <td>1</td>\n      <td>8.05</td>\n      <td>light rain</td>\n    </tr>\n    <tr>\n      <th>10</th>\n      <td>10</td>\n      <td>Waipawa</td>\n      <td>NZ</td>\n      <td>-41.41</td>\n      <td>175.52</td>\n      <td>60.80</td>\n      <td>82</td>\n      <td>41</td>\n      <td>18.34</td>\n      <td>scattered clouds</td>\n    </tr>\n  </tbody>\n</table>\n</div>"
     },
     "metadata": {},
     "execution_count": 53
    }
   ],
   "source": [
    "# 3. Filter the city_data_df DataFrame using the input statements to create a new DataFrame using the loc method.\n",
    "# Filter the dataset to find the cities that fit the criteria.\n",
    "preferred_cities_df = city_data_df.loc[(city_data_df[\"Max Temp\"] <= max_temp) & \\\n",
    "                                       (city_data_df[\"Max Temp\"] >= min_temp)]\n",
    "preferred_cities_df.head(10)"
   ]
  },
  {
   "cell_type": "code",
   "execution_count": 57,
   "metadata": {},
   "outputs": [
    {
     "output_type": "execute_result",
     "data": {
      "text/plain": "City_ID                0\nCity                   0\nCountry                0\nLat                    0\nLng                    0\nMax Temp               0\nHumidity               0\nCloudiness             0\nWind Speed             0\nCurrent Description    0\ndtype: int64"
     },
     "metadata": {},
     "execution_count": 57
    }
   ],
   "source": [
    "# 4a. Determine if there are any empty rows.\n",
    "preferred_cities_df.isnull().sum()"
   ]
  },
  {
   "cell_type": "code",
   "execution_count": 58,
   "metadata": {},
   "outputs": [
    {
     "output_type": "execute_result",
     "data": {
      "text/plain": "City_ID                594\nCity                   594\nCountry                594\nLat                    594\nLng                    594\nMax Temp               594\nHumidity               594\nCloudiness             594\nWind Speed             594\nCurrent Description    594\ndtype: int64"
     },
     "metadata": {},
     "execution_count": 58
    }
   ],
   "source": [
    "preferred_cities_df.count()\n"
   ]
  },
  {
   "cell_type": "code",
   "execution_count": 56,
   "metadata": {},
   "outputs": [],
   "source": [
    "# 4b. Drop any empty rows and create a new DataFrame that doesn’t have empty rows.\n",
    "preferred_cities_df = preferred_cities_df.dropna()"
   ]
  },
  {
   "cell_type": "code",
   "execution_count": 60,
   "metadata": {},
   "outputs": [
    {
     "output_type": "execute_result",
     "data": {
      "text/plain": "             City Country  Max Temp Current Description    Lat     Lng  \\\n0          Kovrov      RU     54.59     overcast clouds  56.36   41.32   \n1           Ukiah      US     84.20           clear sky  39.15 -123.21   \n2       Porbandar      IN     80.60                haze  21.64   69.61   \n3   Vasterhaninge      SE     60.01    scattered clouds  59.12   18.10   \n5           Tiksi      RU     52.25       broken clouds  71.69  128.87   \n6           Kapaa      US     82.40     overcast clouds  22.08 -159.32   \n7       Cape Town      ZA     57.00       broken clouds -33.93   18.42   \n8        Ucluelet      CA     59.00    scattered clouds  48.93 -125.55   \n9          Avarua      CK     78.80          light rain -21.21 -159.78   \n10        Waipawa      NZ     60.80    scattered clouds -41.41  175.52   \n\n   Hotel Name  \n0              \n1              \n2              \n3              \n5              \n6              \n7              \n8              \n9              \n10             ",
      "text/html": "<div>\n<style scoped>\n    .dataframe tbody tr th:only-of-type {\n        vertical-align: middle;\n    }\n\n    .dataframe tbody tr th {\n        vertical-align: top;\n    }\n\n    .dataframe thead th {\n        text-align: right;\n    }\n</style>\n<table border=\"1\" class=\"dataframe\">\n  <thead>\n    <tr style=\"text-align: right;\">\n      <th></th>\n      <th>City</th>\n      <th>Country</th>\n      <th>Max Temp</th>\n      <th>Current Description</th>\n      <th>Lat</th>\n      <th>Lng</th>\n      <th>Hotel Name</th>\n    </tr>\n  </thead>\n  <tbody>\n    <tr>\n      <th>0</th>\n      <td>Kovrov</td>\n      <td>RU</td>\n      <td>54.59</td>\n      <td>overcast clouds</td>\n      <td>56.36</td>\n      <td>41.32</td>\n      <td></td>\n    </tr>\n    <tr>\n      <th>1</th>\n      <td>Ukiah</td>\n      <td>US</td>\n      <td>84.20</td>\n      <td>clear sky</td>\n      <td>39.15</td>\n      <td>-123.21</td>\n      <td></td>\n    </tr>\n    <tr>\n      <th>2</th>\n      <td>Porbandar</td>\n      <td>IN</td>\n      <td>80.60</td>\n      <td>haze</td>\n      <td>21.64</td>\n      <td>69.61</td>\n      <td></td>\n    </tr>\n    <tr>\n      <th>3</th>\n      <td>Vasterhaninge</td>\n      <td>SE</td>\n      <td>60.01</td>\n      <td>scattered clouds</td>\n      <td>59.12</td>\n      <td>18.10</td>\n      <td></td>\n    </tr>\n    <tr>\n      <th>5</th>\n      <td>Tiksi</td>\n      <td>RU</td>\n      <td>52.25</td>\n      <td>broken clouds</td>\n      <td>71.69</td>\n      <td>128.87</td>\n      <td></td>\n    </tr>\n    <tr>\n      <th>6</th>\n      <td>Kapaa</td>\n      <td>US</td>\n      <td>82.40</td>\n      <td>overcast clouds</td>\n      <td>22.08</td>\n      <td>-159.32</td>\n      <td></td>\n    </tr>\n    <tr>\n      <th>7</th>\n      <td>Cape Town</td>\n      <td>ZA</td>\n      <td>57.00</td>\n      <td>broken clouds</td>\n      <td>-33.93</td>\n      <td>18.42</td>\n      <td></td>\n    </tr>\n    <tr>\n      <th>8</th>\n      <td>Ucluelet</td>\n      <td>CA</td>\n      <td>59.00</td>\n      <td>scattered clouds</td>\n      <td>48.93</td>\n      <td>-125.55</td>\n      <td></td>\n    </tr>\n    <tr>\n      <th>9</th>\n      <td>Avarua</td>\n      <td>CK</td>\n      <td>78.80</td>\n      <td>light rain</td>\n      <td>-21.21</td>\n      <td>-159.78</td>\n      <td></td>\n    </tr>\n    <tr>\n      <th>10</th>\n      <td>Waipawa</td>\n      <td>NZ</td>\n      <td>60.80</td>\n      <td>scattered clouds</td>\n      <td>-41.41</td>\n      <td>175.52</td>\n      <td></td>\n    </tr>\n  </tbody>\n</table>\n</div>"
     },
     "metadata": {},
     "execution_count": 60
    }
   ],
   "source": [
    "# 5a. Create DataFrame called hotel_df to store hotel names along with city, country, max temp, and coordinates.\n",
    "hotel_df = preferred_cities_df[[\"City\", \"Country\", \"Max Temp\", \"Current Description\", \"Lat\", \"Lng\"]].copy()\n",
    "\n",
    "# 5b. Create a new column \"Hotel Name\"\n",
    "hotel_df[\"Hotel Name\"] = \"\"\n",
    "hotel_df.head(10)"
   ]
  },
  {
   "cell_type": "code",
   "execution_count": 64,
   "metadata": {
    "tags": []
   },
   "outputs": [
    {
     "output_type": "stream",
     "name": "stdout",
     "text": "Hotel not found... skipping.\nHotel not found... skipping.\nHotel not found... skipping.\nHotel not found... skipping.\nHotel not found... skipping.\nHotel not found... skipping.\nHotel not found... skipping.\nHotel not found... skipping.\nHotel not found... skipping.\nHotel not found... skipping.\nHotel not found... skipping.\nHotel not found... skipping.\nHotel not found... skipping.\nHotel not found... skipping.\nHotel not found... skipping.\nHotel not found... skipping.\nHotel not found... skipping.\nHotel not found... skipping.\nHotel not found... skipping.\nHotel not found... skipping.\nHotel not found... skipping.\nHotel not found... skipping.\nHotel not found... skipping.\nHotel not found... skipping.\nHotel not found... skipping.\nHotel not found... skipping.\nHotel not found... skipping.\nHotel not found... skipping.\nHotel not found... skipping.\nHotel not found... skipping.\nHotel not found... skipping.\nHotel not found... skipping.\nHotel not found... skipping.\nHotel not found... skipping.\nHotel not found... skipping.\nHotel not found... skipping.\nHotel not found... skipping.\nHotel not found... skipping.\nHotel not found... skipping.\nHotel not found... skipping.\nHotel not found... skipping.\nHotel not found... skipping.\nHotel not found... skipping.\nHotel not found... skipping.\nHotel not found... skipping.\nHotel not found... skipping.\nHotel not found... skipping.\nHotel not found... skipping.\nHotel not found... skipping.\nHotel not found... skipping.\nHotel not found... skipping.\n"
    }
   ],
   "source": [
    "# 6a. Set parameters to search for hotels with 5000 meters.\n",
    "params = {\n",
    "    \"radius\": 5000,\n",
    "    \"type\": \"lodging\",\n",
    "    \"key\": g_key\n",
    "}\n",
    "\n",
    "\n",
    "# 6b. Iterate through the hotel DataFrame.\n",
    "for index, row in hotel_df.iterrows():\n",
    "\n",
    "    # 6c. Get latitude and longitude from DataFrame\n",
    "    lat = row[\"Lat\"]\n",
    "    lng = row[\"Lng\"]\n",
    "    params[\"location\"] = f\"{lat},{lng}\"\n",
    "\n",
    "\n",
    "    \n",
    "    # 6d. Set up the base URL for the Google Directions API to get JSON data.\n",
    "    base_url = \"https://maps.googleapis.com/maps/api/place/nearbysearch/json\"\n",
    "    \n",
    "\n",
    "    # 6e. Make request and retrieve the JSON data from the search.\n",
    "    hotels = requests.get(base_url, params=params).json() \n",
    "    \n",
    "    \n",
    "    # 6f. Get the first hotel from the results and store the name, if a hotel isn't found skip the city.\n",
    "    try:\n",
    "        hotel_df.loc[index, \"Hotel Name\"] = hotels[\"results\"][0][\"name\"]\n",
    "    except (IndexError):\n",
    "        print(\"Hotel not found... skipping.\")\n",
    "    \n",
    "\n",
    "    \n",
    "   \n",
    "    \n",
    "        "
   ]
  },
  {
   "cell_type": "code",
   "execution_count": 71,
   "metadata": {},
   "outputs": [
    {
     "output_type": "execute_result",
     "data": {
      "text/plain": "             City Country  Max Temp Current Description    Lat     Lng  \\\n0          Kovrov      RU     54.59     overcast clouds  56.36   41.32   \n1           Ukiah      US     84.20           clear sky  39.15 -123.21   \n2       Porbandar      IN     80.60                haze  21.64   69.61   \n3   Vasterhaninge      SE     60.01    scattered clouds  59.12   18.10   \n5           Tiksi      RU     52.25       broken clouds  71.69  128.87   \n6           Kapaa      US     82.40     overcast clouds  22.08 -159.32   \n7       Cape Town      ZA     57.00       broken clouds -33.93   18.42   \n8        Ucluelet      CA     59.00    scattered clouds  48.93 -125.55   \n9          Avarua      CK     78.80          light rain -21.21 -159.78   \n10        Waipawa      NZ     60.80    scattered clouds -41.41  175.52   \n\n                                Hotel Name  \n0                            Hostel Domino  \n1                        Hampton Inn Ukiah  \n2                      Lords Inn Porbandar  \n3                                   Viamap  \n5                                  Arktika  \n6   Sheraton Kauai Resort at Coconut Beach  \n7        Southern Sun Waterfront Cape Town  \n8             Black Rock Oceanfront Resort  \n9                             Paradise Inn  \n10                       Tora Coastal Walk  ",
      "text/html": "<div>\n<style scoped>\n    .dataframe tbody tr th:only-of-type {\n        vertical-align: middle;\n    }\n\n    .dataframe tbody tr th {\n        vertical-align: top;\n    }\n\n    .dataframe thead th {\n        text-align: right;\n    }\n</style>\n<table border=\"1\" class=\"dataframe\">\n  <thead>\n    <tr style=\"text-align: right;\">\n      <th></th>\n      <th>City</th>\n      <th>Country</th>\n      <th>Max Temp</th>\n      <th>Current Description</th>\n      <th>Lat</th>\n      <th>Lng</th>\n      <th>Hotel Name</th>\n    </tr>\n  </thead>\n  <tbody>\n    <tr>\n      <th>0</th>\n      <td>Kovrov</td>\n      <td>RU</td>\n      <td>54.59</td>\n      <td>overcast clouds</td>\n      <td>56.36</td>\n      <td>41.32</td>\n      <td>Hostel Domino</td>\n    </tr>\n    <tr>\n      <th>1</th>\n      <td>Ukiah</td>\n      <td>US</td>\n      <td>84.20</td>\n      <td>clear sky</td>\n      <td>39.15</td>\n      <td>-123.21</td>\n      <td>Hampton Inn Ukiah</td>\n    </tr>\n    <tr>\n      <th>2</th>\n      <td>Porbandar</td>\n      <td>IN</td>\n      <td>80.60</td>\n      <td>haze</td>\n      <td>21.64</td>\n      <td>69.61</td>\n      <td>Lords Inn Porbandar</td>\n    </tr>\n    <tr>\n      <th>3</th>\n      <td>Vasterhaninge</td>\n      <td>SE</td>\n      <td>60.01</td>\n      <td>scattered clouds</td>\n      <td>59.12</td>\n      <td>18.10</td>\n      <td>Viamap</td>\n    </tr>\n    <tr>\n      <th>5</th>\n      <td>Tiksi</td>\n      <td>RU</td>\n      <td>52.25</td>\n      <td>broken clouds</td>\n      <td>71.69</td>\n      <td>128.87</td>\n      <td>Arktika</td>\n    </tr>\n    <tr>\n      <th>6</th>\n      <td>Kapaa</td>\n      <td>US</td>\n      <td>82.40</td>\n      <td>overcast clouds</td>\n      <td>22.08</td>\n      <td>-159.32</td>\n      <td>Sheraton Kauai Resort at Coconut Beach</td>\n    </tr>\n    <tr>\n      <th>7</th>\n      <td>Cape Town</td>\n      <td>ZA</td>\n      <td>57.00</td>\n      <td>broken clouds</td>\n      <td>-33.93</td>\n      <td>18.42</td>\n      <td>Southern Sun Waterfront Cape Town</td>\n    </tr>\n    <tr>\n      <th>8</th>\n      <td>Ucluelet</td>\n      <td>CA</td>\n      <td>59.00</td>\n      <td>scattered clouds</td>\n      <td>48.93</td>\n      <td>-125.55</td>\n      <td>Black Rock Oceanfront Resort</td>\n    </tr>\n    <tr>\n      <th>9</th>\n      <td>Avarua</td>\n      <td>CK</td>\n      <td>78.80</td>\n      <td>light rain</td>\n      <td>-21.21</td>\n      <td>-159.78</td>\n      <td>Paradise Inn</td>\n    </tr>\n    <tr>\n      <th>10</th>\n      <td>Waipawa</td>\n      <td>NZ</td>\n      <td>60.80</td>\n      <td>scattered clouds</td>\n      <td>-41.41</td>\n      <td>175.52</td>\n      <td>Tora Coastal Walk</td>\n    </tr>\n  </tbody>\n</table>\n</div>"
     },
     "metadata": {},
     "execution_count": 71
    }
   ],
   "source": [
    "hotel_df.head(10)"
   ]
  },
  {
   "cell_type": "code",
   "execution_count": 84,
   "metadata": {},
   "outputs": [],
   "source": [
    "hotel_df[\"Hotel Name\"].replace(\"\",np.nan,inplace=True)"
   ]
  },
  {
   "cell_type": "code",
   "execution_count": 80,
   "metadata": {},
   "outputs": [
    {
     "output_type": "execute_result",
     "data": {
      "text/plain": "City                   51\nCountry                51\nMax Temp               51\nCurrent Description    51\nLat                    51\nLng                    51\nHotel Name             51\ndtype: int64"
     },
     "metadata": {},
     "execution_count": 80
    }
   ],
   "source": [
    "hotel_df[hotel_df[\"Hotel Name\"] == \"\" ].count()"
   ]
  },
  {
   "cell_type": "code",
   "execution_count": 87,
   "metadata": {},
   "outputs": [
    {
     "output_type": "execute_result",
     "data": {
      "text/plain": "0"
     },
     "metadata": {},
     "execution_count": 87
    }
   ],
   "source": [
    "hotel_df[\"Hotel Name\"].isnull().sum()"
   ]
  },
  {
   "cell_type": "code",
   "execution_count": 86,
   "metadata": {},
   "outputs": [],
   "source": [
    "# 7. Drop the rows where there is no Hotel Name.\n",
    "hotel_df = hotel_df.dropna()"
   ]
  },
  {
   "cell_type": "code",
   "execution_count": 88,
   "metadata": {},
   "outputs": [],
   "source": [
    "# 8a. Create the output File (CSV)\n",
    "output_data_file = \"WeatherPy_vacation.csv\"\n",
    "# 8b. Export the City_Data into a csv\n",
    "hotel_df.to_csv(output_data_file, index_label=\"City_ID\")"
   ]
  },
  {
   "cell_type": "code",
   "execution_count": 94,
   "metadata": {},
   "outputs": [],
   "source": [
    "# 9. Using the template add city name, the country code, the weather description and maximum temperature for the city.\n",
    "info_box_template = \"\"\"\n",
    "<dl>\n",
    "<dt>City Name</dt><dd>{City}</dd>\n",
    "<dt>Country Code</dt><dd>{Country}</dd>\n",
    "<dt>Current Weather</dt><dd>{Current Description}</dd>\n",
    "<dt>Max Temp</dt><dd>{Max Temp} °F</dd>\n",
    "</dl>\n",
    "\"\"\"\n",
    "\n",
    "# 10a. Get the data from each row and add it to the formatting template and store the data in a list.\n",
    "hotel_info = [info_box_template.format(**row) for index, row in hotel_df.iterrows()]\n",
    "\n",
    "# 10b. Get the latitude and longitude from each row and store in a new DataFrame.\n",
    "locations = hotel_df[[\"Lat\", \"Lng\"]]"
   ]
  },
  {
   "cell_type": "code",
   "execution_count": 95,
   "metadata": {},
   "outputs": [
    {
     "output_type": "display_data",
     "data": {
      "text/plain": "Figure(layout=FigureLayout(height='420px'))",
      "application/vnd.jupyter.widget-view+json": {
       "version_major": 2,
       "version_minor": 0,
       "model_id": "5527e56db4034f7080cbef757f70005e"
      }
     },
     "metadata": {}
    }
   ],
   "source": [
    "# 11a. Add a marker layer for each city to the map.\n",
    "fig = gmaps.figure(center=(30.0, 31.0), zoom_level=1.5)\n",
    "\n",
    "marker_layer = gmaps.marker_layer(locations, info_box_content=hotel_info)\n",
    "fig.add_layer(marker_layer) \n",
    "\n",
    "# 11b. Display the figure\n",
    "fig\n"
   ]
  },
  {
   "cell_type": "code",
   "execution_count": null,
   "metadata": {},
   "outputs": [],
   "source": []
  },
  {
   "cell_type": "code",
   "execution_count": null,
   "metadata": {},
   "outputs": [],
   "source": []
  }
 ],
 "metadata": {
  "kernelspec": {
   "display_name": "PythonData",
   "language": "python",
   "name": "pythondata"
  },
  "language_info": {
   "codemirror_mode": {
    "name": "ipython",
    "version": 3
   },
   "file_extension": ".py",
   "mimetype": "text/x-python",
   "name": "python",
   "nbconvert_exporter": "python",
   "pygments_lexer": "ipython3",
   "version": "3.6.10-final"
  },
  "latex_envs": {
   "LaTeX_envs_menu_present": true,
   "autoclose": false,
   "autocomplete": true,
   "bibliofile": "biblio.bib",
   "cite_by": "apalike",
   "current_citInitial": 1,
   "eqLabelWithNumbers": true,
   "eqNumInitial": 1,
   "hotkeys": {
    "equation": "Ctrl-E",
    "itemize": "Ctrl-I"
   },
   "labels_anchors": false,
   "latex_user_defs": false,
   "report_style_numbering": false,
   "user_envs_cfg": false
  }
 },
 "nbformat": 4,
 "nbformat_minor": 2
}