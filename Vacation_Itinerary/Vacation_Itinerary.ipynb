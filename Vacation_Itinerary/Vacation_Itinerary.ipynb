{
 "cells": [
  {
   "cell_type": "markdown",
   "metadata": {},
   "source": [
    "## Deliverable 3. Create a Travel Itinerary Map."
   ]
  },
  {
   "cell_type": "code",
   "execution_count": 8,
   "metadata": {},
   "outputs": [],
   "source": [
    "\n",
    "# Dependencies and Setup\n",
    "import pandas as pd\n",
    "import requests\n",
    "import gmaps\n",
    "\n",
    "import os\n",
    "import matplotlib.pyplot as plt\n",
    "import numpy as np\n",
    "\n",
    "# Import the random module.\n",
    "import random\n",
    "# Use the citipy module to determine city based on latitude and longitude.\n",
    "from citipy import citipy\n",
    "\n",
    "import os,sys,inspect\n",
    "currentdir = os.path.dirname(os.path.abspath(inspect.getfile(inspect.currentframe())))\n",
    "parentdir = os.path.dirname(currentdir)\n",
    "sys.path.insert(0,parentdir) \n",
    "\n",
    "# Import API key\n",
    "from config import g_key\n",
    "\n",
    "# Configure gmaps\n",
    "gmaps.configure(api_key=g_key)"
   ]
  },
  {
   "cell_type": "code",
   "execution_count": 10,
   "metadata": {},
   "outputs": [
    {
     "output_type": "execute_result",
     "data": {
      "text/plain": "    City_ID              City Country  Max Temp   Current Description    Lat  \\\n0         1             Ukiah      US     84.20             clear sky  39.15   \n1         2         Porbandar      IN     80.60                  haze  21.64   \n2         6             Kapaa      US     82.40       overcast clouds  22.08   \n3         9            Avarua      CK     78.80            light rain -21.21   \n4        19          Acapulco      MX     77.00         moderate rain  16.86   \n5        22           Rikitea      PF     71.71       overcast clouds -23.12   \n6        29         Abu Zabad      SD     74.59       overcast clouds  12.35   \n7        76            Nicoya      CR     75.99            light rain  10.15   \n8       110         Santa Ana      US     81.00             clear sky  33.75   \n9       141      San Patricio      MX     81.32         broken clouds  19.22   \n10      422  Puerto Escondido      MX     78.53       overcast clouds  15.85   \n11      619    Kulhudhuffushi      MV     82.44       overcast clouds   6.62   \n12      620      Rapid Valley      US     75.20                 smoke  44.06   \n13      622            Haimen      CN     84.20            few clouds  23.19   \n14      623           Anjiang      CN     78.24  heavy intensity rain  27.32   \n15      629     Alice Springs      AU     78.80            few clouds -23.70   \n16      631            Ixtapa      MX     87.80         broken clouds  20.70   \n17      637              Yala      TH     80.60            few clouds   6.33   \n18      639       Meadow Lake      US     84.20             clear sky  34.80   \n19      653              Tezu      IN     86.65       overcast clouds  27.92   \n20      658           Mae Sai      TH     84.00      scattered clouds  20.43   \n\n       Lng                                     Hotel Name  \n0  -123.21                              Hampton Inn Ukiah  \n1    69.61                            Lords Inn Porbandar  \n2  -159.32         Sheraton Kauai Resort at Coconut Beach  \n3  -159.78                                   Paradise Inn  \n4   -99.89                      HS Hotsson Smart Acapulco  \n5  -134.97                                 Pension Maro'i  \n6    29.25                                 محي الدين نوري  \n7   -85.45                                  Guayacan Real  \n8  -117.87  Best Western Plus Orange County Airport North  \n9  -104.70                              Hotel Cabo Blanco  \n10  -97.07                  Aldea del Bazar Hotel and Spa  \n11   73.07                            Haajy Guest House 1  \n12 -103.15  Fairfield Inn & Suites by Marriott Rapid City  \n13  116.61                         Jinghao Business Hotel  \n14  110.10                                    Dahua Hotel  \n15  133.88                     Desert Palms Alice Springs  \n16 -105.20                  Container Inn Puerto Vallarta  \n17  101.25                         งานแต่ง Murnee - Wahid  \n18 -106.54                  JKL Inc. R.V Park and Storage  \n19   96.17                                  Circuit House  \n20   99.88                   Piyaporn Hill Paradise Hotel  ",
      "text/html": "<div>\n<style scoped>\n    .dataframe tbody tr th:only-of-type {\n        vertical-align: middle;\n    }\n\n    .dataframe tbody tr th {\n        vertical-align: top;\n    }\n\n    .dataframe thead th {\n        text-align: right;\n    }\n</style>\n<table border=\"1\" class=\"dataframe\">\n  <thead>\n    <tr style=\"text-align: right;\">\n      <th></th>\n      <th>City_ID</th>\n      <th>City</th>\n      <th>Country</th>\n      <th>Max Temp</th>\n      <th>Current Description</th>\n      <th>Lat</th>\n      <th>Lng</th>\n      <th>Hotel Name</th>\n    </tr>\n  </thead>\n  <tbody>\n    <tr>\n      <th>0</th>\n      <td>1</td>\n      <td>Ukiah</td>\n      <td>US</td>\n      <td>84.20</td>\n      <td>clear sky</td>\n      <td>39.15</td>\n      <td>-123.21</td>\n      <td>Hampton Inn Ukiah</td>\n    </tr>\n    <tr>\n      <th>1</th>\n      <td>2</td>\n      <td>Porbandar</td>\n      <td>IN</td>\n      <td>80.60</td>\n      <td>haze</td>\n      <td>21.64</td>\n      <td>69.61</td>\n      <td>Lords Inn Porbandar</td>\n    </tr>\n    <tr>\n      <th>2</th>\n      <td>6</td>\n      <td>Kapaa</td>\n      <td>US</td>\n      <td>82.40</td>\n      <td>overcast clouds</td>\n      <td>22.08</td>\n      <td>-159.32</td>\n      <td>Sheraton Kauai Resort at Coconut Beach</td>\n    </tr>\n    <tr>\n      <th>3</th>\n      <td>9</td>\n      <td>Avarua</td>\n      <td>CK</td>\n      <td>78.80</td>\n      <td>light rain</td>\n      <td>-21.21</td>\n      <td>-159.78</td>\n      <td>Paradise Inn</td>\n    </tr>\n    <tr>\n      <th>4</th>\n      <td>19</td>\n      <td>Acapulco</td>\n      <td>MX</td>\n      <td>77.00</td>\n      <td>moderate rain</td>\n      <td>16.86</td>\n      <td>-99.89</td>\n      <td>HS Hotsson Smart Acapulco</td>\n    </tr>\n    <tr>\n      <th>5</th>\n      <td>22</td>\n      <td>Rikitea</td>\n      <td>PF</td>\n      <td>71.71</td>\n      <td>overcast clouds</td>\n      <td>-23.12</td>\n      <td>-134.97</td>\n      <td>Pension Maro'i</td>\n    </tr>\n    <tr>\n      <th>6</th>\n      <td>29</td>\n      <td>Abu Zabad</td>\n      <td>SD</td>\n      <td>74.59</td>\n      <td>overcast clouds</td>\n      <td>12.35</td>\n      <td>29.25</td>\n      <td>محي الدين نوري</td>\n    </tr>\n    <tr>\n      <th>7</th>\n      <td>76</td>\n      <td>Nicoya</td>\n      <td>CR</td>\n      <td>75.99</td>\n      <td>light rain</td>\n      <td>10.15</td>\n      <td>-85.45</td>\n      <td>Guayacan Real</td>\n    </tr>\n    <tr>\n      <th>8</th>\n      <td>110</td>\n      <td>Santa Ana</td>\n      <td>US</td>\n      <td>81.00</td>\n      <td>clear sky</td>\n      <td>33.75</td>\n      <td>-117.87</td>\n      <td>Best Western Plus Orange County Airport North</td>\n    </tr>\n    <tr>\n      <th>9</th>\n      <td>141</td>\n      <td>San Patricio</td>\n      <td>MX</td>\n      <td>81.32</td>\n      <td>broken clouds</td>\n      <td>19.22</td>\n      <td>-104.70</td>\n      <td>Hotel Cabo Blanco</td>\n    </tr>\n    <tr>\n      <th>10</th>\n      <td>422</td>\n      <td>Puerto Escondido</td>\n      <td>MX</td>\n      <td>78.53</td>\n      <td>overcast clouds</td>\n      <td>15.85</td>\n      <td>-97.07</td>\n      <td>Aldea del Bazar Hotel and Spa</td>\n    </tr>\n    <tr>\n      <th>11</th>\n      <td>619</td>\n      <td>Kulhudhuffushi</td>\n      <td>MV</td>\n      <td>82.44</td>\n      <td>overcast clouds</td>\n      <td>6.62</td>\n      <td>73.07</td>\n      <td>Haajy Guest House 1</td>\n    </tr>\n    <tr>\n      <th>12</th>\n      <td>620</td>\n      <td>Rapid Valley</td>\n      <td>US</td>\n      <td>75.20</td>\n      <td>smoke</td>\n      <td>44.06</td>\n      <td>-103.15</td>\n      <td>Fairfield Inn &amp; Suites by Marriott Rapid City</td>\n    </tr>\n    <tr>\n      <th>13</th>\n      <td>622</td>\n      <td>Haimen</td>\n      <td>CN</td>\n      <td>84.20</td>\n      <td>few clouds</td>\n      <td>23.19</td>\n      <td>116.61</td>\n      <td>Jinghao Business Hotel</td>\n    </tr>\n    <tr>\n      <th>14</th>\n      <td>623</td>\n      <td>Anjiang</td>\n      <td>CN</td>\n      <td>78.24</td>\n      <td>heavy intensity rain</td>\n      <td>27.32</td>\n      <td>110.10</td>\n      <td>Dahua Hotel</td>\n    </tr>\n    <tr>\n      <th>15</th>\n      <td>629</td>\n      <td>Alice Springs</td>\n      <td>AU</td>\n      <td>78.80</td>\n      <td>few clouds</td>\n      <td>-23.70</td>\n      <td>133.88</td>\n      <td>Desert Palms Alice Springs</td>\n    </tr>\n    <tr>\n      <th>16</th>\n      <td>631</td>\n      <td>Ixtapa</td>\n      <td>MX</td>\n      <td>87.80</td>\n      <td>broken clouds</td>\n      <td>20.70</td>\n      <td>-105.20</td>\n      <td>Container Inn Puerto Vallarta</td>\n    </tr>\n    <tr>\n      <th>17</th>\n      <td>637</td>\n      <td>Yala</td>\n      <td>TH</td>\n      <td>80.60</td>\n      <td>few clouds</td>\n      <td>6.33</td>\n      <td>101.25</td>\n      <td>งานแต่ง Murnee - Wahid</td>\n    </tr>\n    <tr>\n      <th>18</th>\n      <td>639</td>\n      <td>Meadow Lake</td>\n      <td>US</td>\n      <td>84.20</td>\n      <td>clear sky</td>\n      <td>34.80</td>\n      <td>-106.54</td>\n      <td>JKL Inc. R.V Park and Storage</td>\n    </tr>\n    <tr>\n      <th>19</th>\n      <td>653</td>\n      <td>Tezu</td>\n      <td>IN</td>\n      <td>86.65</td>\n      <td>overcast clouds</td>\n      <td>27.92</td>\n      <td>96.17</td>\n      <td>Circuit House</td>\n    </tr>\n    <tr>\n      <th>20</th>\n      <td>658</td>\n      <td>Mae Sai</td>\n      <td>TH</td>\n      <td>84.00</td>\n      <td>scattered clouds</td>\n      <td>20.43</td>\n      <td>99.88</td>\n      <td>Piyaporn Hill Paradise Hotel</td>\n    </tr>\n  </tbody>\n</table>\n</div>"
     },
     "metadata": {},
     "execution_count": 10
    }
   ],
   "source": [
    "# 1. Read the WeatherPy_vacation.csv into a DataFrame.\n",
    "vacation_df = pd.read_csv(parentdir+'\\\\Vacation_Search\\\\WeatherPy_vacation.csv')\n",
    "#vacation_df = pd.read_csv(\"Vacation_Search/WeatherPy_vacation.csv\")\n",
    "vacation_df"
   ]
  },
  {
   "cell_type": "code",
   "execution_count": 12,
   "metadata": {},
   "outputs": [],
   "source": [
    "# 2. Using the template add the city name, the country code, the weather description and maximum temperature for the city.\n",
    "info_box_template = \"\"\"\n",
    "<dl>\n",
    "<dt>Hotel Name</dt><dd>{Hotel Name}</dd>\n",
    "<dt>City Name</dt><dd>{City}</dd>\n",
    "<dt>Country Code</dt><dd>{Country}</dd>\n",
    "<dt>Current Weather</dt><dd>{Current Description} and {Max Temp} °F</dd>\n",
    "</dl>\n",
    "\"\"\"\n",
    "\n",
    "# 3a. Get the data from each row and add it to the formatting template and store the data in a list.\n",
    "vacation_info = [info_box_template.format(**row) for index, row in vacation_df.iterrows()]\n",
    "\n",
    "# 3b. Get the latitude and longitude from each row and store in a new DataFrame.\n",
    "locations = vacation_df[[\"Lat\", \"Lng\"]]\n"
   ]
  },
  {
   "cell_type": "code",
   "execution_count": 13,
   "metadata": {},
   "outputs": [
    {
     "output_type": "display_data",
     "data": {
      "text/plain": "Figure(layout=FigureLayout(height='420px'))",
      "application/vnd.jupyter.widget-view+json": {
       "version_major": 2,
       "version_minor": 0,
       "model_id": "abcd4512562447348f63549fc3fb1aeb"
      }
     },
     "metadata": {}
    }
   ],
   "source": [
    "# 4a. Add a marker layer for each city to the map.\n",
    "fig = gmaps.figure(center=(30.0, 31.0), zoom_level=1.5)\n",
    "marker_layer = gmaps.marker_layer(locations, info_box_content=vacation_info)\n",
    "fig.add_layer(marker_layer)\n",
    "\n",
    "# 4b. Display the figure\n",
    "fig\n"
   ]
  },
  {
   "cell_type": "code",
   "execution_count": 15,
   "metadata": {},
   "outputs": [],
   "source": [
    "# From the map above pick 4 cities and create a vacation itinerary route to travel between the four cities.\n",
    "Mexico_itinerary = [\"Puerto Escondido\", \"Acapulco\", \"San Patricio\", \"Ixtapa\"]\n",
    "\n",
    "# 5. Create DataFrames for each city by filtering the 'vacation_df' using the loc method.\n",
    "# Hint: The starting and ending city should be the same city.\n",
    "\n",
    "vacation_start = vacation_df.loc[vacation_df[\"City\"] == Mexico_itinerary[0]]\n",
    "vacation_stop1 = vacation_df.loc[vacation_df[\"City\"] == Mexico_itinerary[1]]\n",
    "vacation_stop2 = vacation_df.loc[vacation_df[\"City\"] == Mexico_itinerary[2]] \n",
    "vacation_stop3 = vacation_df.loc[vacation_df[\"City\"] == Mexico_itinerary[3]]"
   ]
  },
  {
   "cell_type": "code",
   "execution_count": 16,
   "metadata": {
    "tags": []
   },
   "outputs": [
    {
     "output_type": "stream",
     "name": "stdout",
     "text": "(15.85, -97.07) (15.85, -97.07) (16.86, -99.89) (19.22, -104.7) (20.7, -105.2)\n"
    }
   ],
   "source": [
    "# 6. Get the latitude-longitude pairs as tuples from each city DataFrame using the to_numpy function and list indexing.\n",
    "start = (vacation_start[\"Lat\"].to_numpy()[0],vacation_start[\"Lng\"].to_numpy()[0])\n",
    "end = (vacation_start[\"Lat\"].to_numpy()[0],vacation_start[\"Lng\"].to_numpy()[0])\n",
    "stop1 = (vacation_stop1[\"Lat\"].to_numpy()[0],vacation_stop1[\"Lng\"].to_numpy()[0])\n",
    "stop2 = (vacation_stop2[\"Lat\"].to_numpy()[0],vacation_stop2[\"Lng\"].to_numpy()[0])\n",
    "stop3 = (vacation_stop3[\"Lat\"].to_numpy()[0],vacation_stop3[\"Lng\"].to_numpy()[0])\n",
    "print(start,end,stop1,stop2,stop3)"
   ]
  },
  {
   "cell_type": "code",
   "execution_count": 18,
   "metadata": {
    "scrolled": true
   },
   "outputs": [
    {
     "output_type": "display_data",
     "data": {
      "text/plain": "Figure(layout=FigureLayout(height='420px'))",
      "application/vnd.jupyter.widget-view+json": {
       "version_major": 2,
       "version_minor": 0,
       "model_id": "d2f1953504d2404dab5a0f99175ded8e"
      }
     },
     "metadata": {}
    }
   ],
   "source": [
    "# 7. Create a direction layer map using the start and end latitude-longitude pairs,\n",
    "# and stop1, stop2, and stop3 as the waypoints. The travel_mode should be \"DRIVING\", \"BICYCLING\", or \"C\".\n",
    "import gmaps.datasets\n",
    "\n",
    "# Latitude-longitude pairs\n",
    "fig = gmaps.figure()\n",
    "roundtrip = gmaps.directions_layer(start, end, waypoints=[stop1, stop2, stop3],travel_mode=\"DRIVING\")\n",
    "fig.add_layer(roundtrip)\n",
    "fig\n",
    "\n",
    "\n"
   ]
  },
  {
   "cell_type": "code",
   "execution_count": 19,
   "metadata": {},
   "outputs": [
    {
     "output_type": "execute_result",
     "data": {
      "text/plain": "   City_ID              City Country  Max Temp Current Description    Lat  \\\n0      422  Puerto Escondido      MX     78.53     overcast clouds  15.85   \n1       19          Acapulco      MX     77.00       moderate rain  16.86   \n2      141      San Patricio      MX     81.32       broken clouds  19.22   \n3      631            Ixtapa      MX     87.80       broken clouds  20.70   \n\n      Lng                     Hotel Name  \n0  -97.07  Aldea del Bazar Hotel and Spa  \n1  -99.89      HS Hotsson Smart Acapulco  \n2 -104.70              Hotel Cabo Blanco  \n3 -105.20  Container Inn Puerto Vallarta  ",
      "text/html": "<div>\n<style scoped>\n    .dataframe tbody tr th:only-of-type {\n        vertical-align: middle;\n    }\n\n    .dataframe tbody tr th {\n        vertical-align: top;\n    }\n\n    .dataframe thead th {\n        text-align: right;\n    }\n</style>\n<table border=\"1\" class=\"dataframe\">\n  <thead>\n    <tr style=\"text-align: right;\">\n      <th></th>\n      <th>City_ID</th>\n      <th>City</th>\n      <th>Country</th>\n      <th>Max Temp</th>\n      <th>Current Description</th>\n      <th>Lat</th>\n      <th>Lng</th>\n      <th>Hotel Name</th>\n    </tr>\n  </thead>\n  <tbody>\n    <tr>\n      <th>0</th>\n      <td>422</td>\n      <td>Puerto Escondido</td>\n      <td>MX</td>\n      <td>78.53</td>\n      <td>overcast clouds</td>\n      <td>15.85</td>\n      <td>-97.07</td>\n      <td>Aldea del Bazar Hotel and Spa</td>\n    </tr>\n    <tr>\n      <th>1</th>\n      <td>19</td>\n      <td>Acapulco</td>\n      <td>MX</td>\n      <td>77.00</td>\n      <td>moderate rain</td>\n      <td>16.86</td>\n      <td>-99.89</td>\n      <td>HS Hotsson Smart Acapulco</td>\n    </tr>\n    <tr>\n      <th>2</th>\n      <td>141</td>\n      <td>San Patricio</td>\n      <td>MX</td>\n      <td>81.32</td>\n      <td>broken clouds</td>\n      <td>19.22</td>\n      <td>-104.70</td>\n      <td>Hotel Cabo Blanco</td>\n    </tr>\n    <tr>\n      <th>3</th>\n      <td>631</td>\n      <td>Ixtapa</td>\n      <td>MX</td>\n      <td>87.80</td>\n      <td>broken clouds</td>\n      <td>20.70</td>\n      <td>-105.20</td>\n      <td>Container Inn Puerto Vallarta</td>\n    </tr>\n  </tbody>\n</table>\n</div>"
     },
     "metadata": {},
     "execution_count": 19
    }
   ],
   "source": [
    "# 8. To create a marker layer map between the four cities.\n",
    "#  Combine the four city DataFrames into one DataFrame using the concat() function.\n",
    "itinerary_df = pd.concat([vacation_start, vacation_stop1, vacation_stop2, vacation_stop3],ignore_index=True)\n",
    "itinerary_df"
   ]
  },
  {
   "cell_type": "code",
   "execution_count": 20,
   "metadata": {},
   "outputs": [],
   "source": [
    "# 9 Using the template add city name, the country code, the weather description and maximum temperature for the city. \n",
    "info_box_template = \"\"\"\n",
    "<dl>\n",
    "<dt>Hotel Name</dt><dd>{Hotel Name}</dd>\n",
    "<dt>City Name</dt><dd>{City}</dd>\n",
    "<dt>Country Code</dt><dd>{Country}</dd>\n",
    "<dt>Current Weather</dt><dd>{Current Description} and {Max Temp} °F</dd>\n",
    "</dl>\n",
    "\"\"\"\n",
    "\n",
    "# 10a Get the data from each row and add it to the formatting template and store the data in a list.\n",
    "hotel_info = [info_box_template.format(**row) for index, row in itinerary_df.iterrows()]\n",
    "\n",
    "# 10b. Get the latitude and longitude from each row and store in a new DataFrame.\n",
    "locations = itinerary_df[[\"Lat\", \"Lng\"]]"
   ]
  },
  {
   "cell_type": "code",
   "execution_count": 42,
   "metadata": {},
   "outputs": [
    {
     "output_type": "display_data",
     "data": {
      "text/plain": "Figure(layout=FigureLayout(height='420px'))",
      "application/vnd.jupyter.widget-view+json": {
       "version_major": 2,
       "version_minor": 0,
       "model_id": "1b98ad1feeae4051bdf1146222370143"
      }
     },
     "metadata": {}
    }
   ],
   "source": [
    "# 11a. Add a marker layer for each city to the map.\n",
    "fig = gmaps.figure(center=(20, -100.0), zoom_level=5.0)\n",
    "\n",
    "marker_layer = gmaps.marker_layer(locations, info_box_content=hotel_info)\n",
    "fig.add_layer(marker_layer) \n",
    "# 11b. Display the figure\n",
    "fig"
   ]
  },
  {
   "cell_type": "code",
   "execution_count": null,
   "metadata": {},
   "outputs": [],
   "source": []
  }
 ],
 "metadata": {
  "kernelspec": {
   "display_name": "PythonData",
   "language": "python",
   "name": "pythondata"
  },
  "language_info": {
   "codemirror_mode": {
    "name": "ipython",
    "version": 3
   },
   "file_extension": ".py",
   "mimetype": "text/x-python",
   "name": "python",
   "nbconvert_exporter": "python",
   "pygments_lexer": "ipython3",
   "version": "3.6.10-final"
  },
  "latex_envs": {
   "LaTeX_envs_menu_present": true,
   "autoclose": false,
   "autocomplete": true,
   "bibliofile": "biblio.bib",
   "cite_by": "apalike",
   "current_citInitial": 1,
   "eqLabelWithNumbers": true,
   "eqNumInitial": 1,
   "hotkeys": {
    "equation": "Ctrl-E",
    "itemize": "Ctrl-I"
   },
   "labels_anchors": false,
   "latex_user_defs": false,
   "report_style_numbering": false,
   "user_envs_cfg": false
  }
 },
 "nbformat": 4,
 "nbformat_minor": 2
}