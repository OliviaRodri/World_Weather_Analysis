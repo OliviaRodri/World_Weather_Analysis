{
 "metadata": {
  "language_info": {
   "codemirror_mode": {
    "name": "ipython",
    "version": 3
   },
   "file_extension": ".py",
   "mimetype": "text/x-python",
   "name": "python",
   "nbconvert_exporter": "python",
   "pygments_lexer": "ipython3",
   "version": "3.6.10-final"
  },
  "orig_nbformat": 2,
  "kernelspec": {
   "name": "pythondata",
   "display_name": "PythonData"
  }
 },
 "nbformat": 4,
 "nbformat_minor": 2,
 "cells": [
  {
   "cell_type": "code",
   "execution_count": 1,
   "metadata": {},
   "outputs": [],
   "source": [
    "# Import the dependencies.\n",
    "import pandas as pd\n",
    "import matplotlib.pyplot as plt\n",
    "import numpy as np"
   ]
  },
  {
   "cell_type": "code",
   "execution_count": 2,
   "metadata": {
    "tags": []
   },
   "outputs": [
    {
     "output_type": "stream",
     "name": "stdout",
     "text": "[-65.66649405  -1.15057034  51.58653969 ... -80.39875199  48.56522163\n  20.87836837]\n[139.90944161 -53.23371735 152.32804982 ... 145.66114188  19.90335293\n -12.11389524]\n"
    }
   ],
   "source": [
    "# Create a set of random latitude and longitude combinations.\n",
    "lats = np.random.uniform(low=-90.000, high=90.000, size=1500)\n",
    "lngs = np.random.uniform(low=-180.000, high=180.000, size=1500)\n",
    "lat_lngs = zip(lats, lngs)\n",
    "lat_lngs\n",
    "print(lats)\n",
    "print(lngs)"
   ]
  },
  {
   "cell_type": "code",
   "execution_count": 3,
   "metadata": {
    "tags": []
   },
   "outputs": [],
   "source": [
    "# Add the latitudes and longitudes to a list.\n",
    "coordinates = list(lat_lngs)\n"
   ]
  },
  {
   "cell_type": "code",
   "execution_count": 4,
   "metadata": {},
   "outputs": [],
   "source": [
    "# Use the citipy module to determine city based on latitude and longitude.\n",
    "from citipy import citipy"
   ]
  },
  {
   "cell_type": "code",
   "execution_count": 6,
   "metadata": {},
   "outputs": [
    {
     "output_type": "execute_result",
     "data": {
      "text/plain": "604"
     },
     "metadata": {},
     "execution_count": 6
    }
   ],
   "source": [
    "# Create a list for holding the cities.\n",
    "cities = []\n",
    "# Identify the nearest city for each latitude and longitude combination.\n",
    "for coordinate in coordinates:\n",
    "    city = citipy.nearest_city(coordinate[0], coordinate[1]).city_name\n",
    "\n",
    "    # If the city is unique, then we will add it to the cities list.\n",
    "    if city not in cities:\n",
    "        cities.append(city)\n",
    "# Print the city count to confirm sufficient count.\n",
    "len(cities)"
   ]
  },
  {
   "cell_type": "code",
   "execution_count": 7,
   "metadata": {},
   "outputs": [],
   "source": [
    "# Import the requests library.\n",
    "import requests\n",
    "\n",
    "# Import the API key.\n",
    "from config import weather_api_key"
   ]
  },
  {
   "cell_type": "code",
   "execution_count": 8,
   "metadata": {},
   "outputs": [],
   "source": [
    "# Import the datetime module from the datetime library.\n",
    "from datetime import datetime"
   ]
  },
  {
   "cell_type": "code",
   "execution_count": 18,
   "metadata": {
    "tags": []
   },
   "outputs": [],
   "source": [
    "# Starting URL for Weather Map API Call.\n",
    "url = \"http://api.openweathermap.org/data/2.5/weather?units=Imperial&APPID=\" + weather_api_key"
   ]
  },
  {
   "cell_type": "code",
   "execution_count": null,
   "metadata": {},
   "outputs": [],
   "source": [
    "\n",
    "# Create an empty list to hold the weather data.\n",
    "city_data = []\n",
    "# Print the beginning of the logging.\n",
    "print(\"Beginning Data Retrieval     \")\n",
    "print(\"-----------------------------\")\n",
    "\n",
    "# Create counters.\n",
    "record_count = 1\n",
    "set_count = 1\n",
    "# Loop through all the cities in the list.\n",
    "for i, city in enumerate(cities):\n",
    "\n",
    "    # Group cities in sets of 50 for logging purposes.\n",
    "    if (i % 50 == 0 and i >= 50):\n",
    "        set_count += 1\n",
    "        record_count = 1\n",
    "    # Create endpoint URL with each city.\n",
    "    city_url = url + \"&q=\" + city.replace(\" \",\"+\")\n",
    "\n",
    "    # Log the URL, record, and set numbers and the city.\n",
    "    #print(f\"Processing Record {record_count} of Set {set_count} | {city}\")\n",
    "    # Add 1 to the record count.\n",
    "    record_count += 1\n",
    "    # Run an API request for each of the cities.\n",
    "    try:\n",
    "        # Parse the JSON and retrieve data.\n",
    "        city_weather = requests.get(city_url).json()\n",
    "        # Parse out the needed data.\n",
    "        city_lat = city_weather[\"coord\"][\"lat\"]\n",
    "        city_lng = city_weather[\"coord\"][\"lon\"]\n",
    "        city_max_temp = city_weather[\"main\"][\"temp_max\"]\n",
    "        city_humidity = city_weather[\"main\"][\"humidity\"]\n",
    "        city_clouds = city_weather[\"clouds\"][\"all\"]\n",
    "        city_wind = city_weather[\"wind\"][\"speed\"]\n",
    "        city_country = city_weather[\"sys\"][\"country\"]\n",
    "        # Convert the date to ISO standard.\n",
    "        city_date = datetime.utcfromtimestamp(city_weather[\"dt\"]).strftime('%Y-%m-%d %H:%M:%S')\n",
    "        # Append the city information into city_data list.\n",
    "        city_data.append({\"City\": city.title(),\n",
    "                            \"Lat\": city_lat,\n",
    "                            \"Lng\": city_lng,\n",
    "                            \"Max Temp\": city_max_temp,\n",
    "                            \"Humidity\": city_humidity,\n",
    "                            \"Cloudiness\": city_clouds,\n",
    "                            \"Wind Speed\": city_wind,\n",
    "                            \"Country\": city_country,\n",
    "                            \"Date\": city_date})\n",
    "\n",
    "    # If an error is experienced, skip the city.\n",
    "    except:\n",
    "        print(\"City not found. Skipping...\")\n",
    "        pass\n",
    "\n",
    "    # Indicate that Data Loading is complete.\n",
    "    print(\"-----------------------------\")\n",
    "    print(\"Data Retrieval Complete      \")\n",
    "    print(\"-----------------------------\")"
   ]
  },
  {
   "cell_type": "code",
   "execution_count": 10,
   "metadata": {},
   "outputs": [],
   "source": [
    "# Add the latitudes and longitudes to a list.\n",
    "#coordinates = list(lat_lngs)"
   ]
  },
  {
   "cell_type": "code",
   "execution_count": 20,
   "metadata": {
    "tags": [
     "outputPrepend"
    ]
   },
   "outputs": [
    {
     "output_type": "stream",
     "name": "stdout",
     "text": "Max Temp': 72.16, 'Humidity': 78, 'Cloudiness': 0, 'Wind Speed': 0.74, 'Country': 'CN', 'Date': '2020-09-02 14:17:17'}, {'City': 'Saint-Francois', 'Lat': 46.42, 'Lng': 3.91, 'Max Temp': 73.4, 'Humidity': 35, 'Cloudiness': 76, 'Wind Speed': 10.29, 'Country': 'FR', 'Date': '2020-09-02 14:17:17'}, {'City': 'Kennett', 'Lat': 36.24, 'Lng': -90.06, 'Max Temp': 73.4, 'Humidity': 100, 'Cloudiness': 90, 'Wind Speed': 3.2, 'Country': 'US', 'Date': '2020-09-02 14:17:18'}, {'City': 'Thinadhoo', 'Lat': 0.53, 'Lng': 72.93, 'Max Temp': 82.74, 'Humidity': 76, 'Cloudiness': 100, 'Wind Speed': 12.5, 'Country': 'MV', 'Date': '2020-09-02 14:17:18'}, {'City': 'Taksimo', 'Lat': 56.34, 'Lng': 114.88, 'Max Temp': 53.2, 'Humidity': 71, 'Cloudiness': 31, 'Wind Speed': 1.59, 'Country': 'RU', 'Date': '2020-09-02 14:17:18'}, {'City': 'Puerto Suarez', 'Lat': -18.95, 'Lng': -57.8, 'Max Temp': 68, 'Humidity': 72, 'Cloudiness': 74, 'Wind Speed': 13.87, 'Country': 'BO', 'Date': '2020-09-02 14:17:19'}, {'City': 'Alice Springs', 'Lat': -23.7, 'Lng': 133.88, 'Max Temp': 75, 'Humidity': 18, 'Cloudiness': 0, 'Wind Speed': 7.36, 'Country': 'AU', 'Date': '2020-09-02 14:16:24'}, {'City': 'Nizhniye Vyazovyye', 'Lat': 55.8, 'Lng': 48.52, 'Max Temp': 64.4, 'Humidity': 45, 'Cloudiness': 0, 'Wind Speed': 13.42, 'Country': 'RU', 'Date': '2020-09-02 14:12:50'}, {'City': 'Dubbo', 'Lat': -32.25, 'Lng': 148.62, 'Max Temp': 55.4, 'Humidity': 76, 'Cloudiness': 0, 'Wind Speed': 6.93, 'Country': 'AU', 'Date': '2020-09-02 14:17:19'}, {'City': 'Khatassy', 'Lat': 61.9, 'Lng': 129.64, 'Max Temp': 50, 'Humidity': 93, 'Cloudiness': 0, 'Wind Speed': 2.24, 'Country': 'RU', 'Date': '2020-09-02 14:17:20'}, {'City': 'Port Said', 'Lat': 31.26, 'Lng': 32.28, 'Max Temp': 86, 'Humidity': 62, 'Cloudiness': 0, 'Wind Speed': 8.05, 'Country': 'EG', 'Date': '2020-09-02 14:17:20'}, {'City': 'Magistralnyy', 'Lat': 56.17, 'Lng': 107.45, 'Max Temp': 52.97, 'Humidity': 88, 'Cloudiness': 47, 'Wind Speed': 3.6, 'Country': 'RU', 'Date': '2020-09-02 14:17:20'}, {'City': 'Otradnoye', 'Lat': 59.78, 'Lng': 30.82, 'Max Temp': 62.01, 'Humidity': 67, 'Cloudiness': 73, 'Wind Speed': 7.85, 'Country': 'RU', 'Date': '2020-09-02 14:17:21'}, {'City': 'Green River', 'Lat': 41.53, 'Lng': -109.47, 'Max Temp': 53.6, 'Humidity': 54, 'Cloudiness': 1, 'Wind Speed': 13.87, 'Country': 'US', 'Date': '2020-09-02 14:17:21'}, {'City': 'Mitsamiouli', 'Lat': -11.38, 'Lng': 43.28, 'Max Temp': 76.95, 'Humidity': 71, 'Cloudiness': 95, 'Wind Speed': 6.96, 'Country': 'KM', 'Date': '2020-09-02 14:17:21'}, {'City': 'Vao', 'Lat': -22.67, 'Lng': 167.48, 'Max Temp': 67.91, 'Humidity': 72, 'Cloudiness': 23, 'Wind Speed': 15.19, 'Country': 'NC', 'Date': '2020-09-02 14:17:22'}, {'City': 'Tazovskiy', 'Lat': 67.47, 'Lng': 78.7, 'Max Temp': 45.55, 'Humidity': 70, 'Cloudiness': 100, 'Wind Speed': 12.06, 'Country': 'RU', 'Date': '2020-09-02 14:17:22'}, {'City': 'Salalah', 'Lat': 17.02, 'Lng': 54.09, 'Max Temp': 80.6, 'Humidity': 88, 'Cloudiness': 75, 'Wind Speed': 13.87, 'Country': 'OM', 'Date': '2020-09-02 14:13:38'}, {'City': 'Port-Gentil', 'Lat': -0.72, 'Lng': 8.78, 'Max Temp': 80.6, 'Humidity': 74, 'Cloudiness': 75, 'Wind Speed': 11.3, 'Country': 'GA', 'Date': '2020-09-02 14:17:22'}, {'City': 'Igarka', 'Lat': 67.47, 'Lng': 86.58, 'Max Temp': 54.09, 'Humidity': 61, 'Cloudiness': 97, 'Wind Speed': 4.09, 'Country': 'RU', 'Date': '2020-09-02 14:17:23'}, {'City': 'Canton', 'Lat': 23.12, 'Lng': 113.25, 'Max Temp': 93, 'Humidity': 25, 'Cloudiness': 14, 'Wind Speed': 5.35, 'Country': 'CN', 'Date': '2020-09-02 14:17:08'}, {'City': 'Muroto', 'Lat': 33.28, 'Lng': 134.15, 'Max Temp': 84.85, 'Humidity': 81, 'Cloudiness': 100, 'Wind Speed': 24.36, 'Country': 'JP', 'Date': '2020-09-02 14:17:23'}, {'City': 'Yola', 'Lat': 9.2, 'Lng': 12.48, 'Max Temp': 85.6, 'Humidity': 68, 'Cloudiness': 56, 'Wind Speed': 10.11, 'Country': 'NG', 'Date': '2020-09-02 14:17:23'}, {'City': 'Nuuk', 'Lat': 64.18, 'Lng': -51.72, 'Max Temp': 44.6, 'Humidity': 87, 'Cloudiness': 40, 'Wind Speed': 9.17, 'Country': 'GL', 'Date': '2020-09-02 14:14:33'}, {'City': 'Necochea', 'Lat': -38.55, 'Lng': -58.74, 'Max Temp': 48, 'Humidity': 83, 'Cloudiness': 100, 'Wind Speed': 5.99, 'Country': 'AR', 'Date': '2020-09-02 14:17:24'}, {'City': 'Lubao', 'Lat': 14.92, 'Lng': 120.55, 'Max Temp': 80.6, 'Humidity': 88, 'Cloudiness': 20, 'Wind Speed': 1.12, 'Country': 'PH', 'Date': '2020-09-02 14:17:24'}, {'City': 'Smithers', 'Lat': 54.78, 'Lng': -127.17, 'Max Temp': 39.2, 'Humidity': 100, 'Cloudiness': 40, 'Wind Speed': 2.24, 'Country': 'CA', 'Date': '2020-09-02 14:15:02'}, {'City': 'San Ramon', 'Lat': 37.78, 'Lng': -121.98, 'Max Temp': 60.01, 'Humidity': 87, 'Cloudiness': 90, 'Wind Speed': 10.29, 'Country': 'US', 'Date': '2020-09-02 14:13:04'}, {'City': 'Chapais', 'Lat': 49.78, 'Lng': -74.85, 'Max Temp': 57.2, 'Humidity': 100, 'Cloudiness': 90, 'Wind Speed': 5.82, 'Country': 'CA', 'Date': '2020-09-02 14:17:25'}, {'City': 'Simpang', 'Lat': -1.27, 'Lng': 104.08, 'Max Temp': 77.05, 'Humidity': 84, 'Cloudiness': 100, 'Wind Speed': 2.01, 'Country': 'ID', 'Date': '2020-09-02 14:17:25'}, {'City': 'Dalianwan', 'Lat': 39.03, 'Lng': 121.69, 'Max Temp': 79, 'Humidity': 64, 'Cloudiness': 48, 'Wind Speed': 8.95, 'Country': 'CN', 'Date': '2020-09-02 14:17:25'}, {'City': 'Lata', 'Lat': 40.16, 'Lng': -8.33, 'Max Temp': 89.01, 'Humidity': 40, 'Cloudiness': 0, 'Wind Speed': 5.79, 'Country': 'PT', 'Date': '2020-09-02 14:17:25'}, {'City': 'Akureyri', 'Lat': 65.68, 'Lng': -18.09, 'Max Temp': 46.4, 'Humidity': 81, 'Cloudiness': 90, 'Wind Speed': 13.87, 'Country': 'IS', 'Date': '2020-09-02 14:17:26'}, {'City': 'Luwuk', 'Lat': -0.95, 'Lng': 122.79, 'Max Temp': 77.99, 'Humidity': 78, 'Cloudiness': 100, 'Wind Speed': 3.89, 'Country': 'ID', 'Date': '2020-09-02 14:17:26'}, {'City': 'Porto Belo', 'Lat': -27.16, 'Lng': -48.55, 'Max Temp': 70, 'Humidity': 82, 'Cloudiness': 75, 'Wind Speed': 6.93, 'Country': 'BR', 'Date': '2020-09-02 14:17:26'}, {'City': 'Huilong', 'Lat': 31.81, 'Lng': 121.66, 'Max Temp': 78.01, 'Humidity': 89, 'Cloudiness': 0, 'Wind Speed': 1.01, 'Country': 'CN', 'Date': '2020-09-02 14:17:27'}, {'City': 'Cap-Aux-Meules', 'Lat': 47.38, 'Lng': -61.86, 'Max Temp': 62.6, 'Humidity': 77, 'Cloudiness': 40, 'Wind Speed': 13.87, 'Country': 'CA', 'Date': '2020-09-02 14:17:27'}, {'City': 'Jimeta', 'Lat': 9.28, 'Lng': 12.47, 'Max Temp': 86.38, 'Humidity': 65, 'Cloudiness': 48, 'Wind Speed': 10.83, 'Country': 'NG', 'Date': '2020-09-02 14:17:27'}, {'City': 'Coquimbo', 'Lat': -29.95, 'Lng': -71.34, 'Max Temp': 51.8, 'Humidity': 66, 'Cloudiness': 0, 'Wind Speed': 6.93, 'Country': 'CL', 'Date': '2020-09-02 14:17:28'}, {'City': 'Paamiut', 'Lat': 61.99, 'Lng': -49.67, 'Max Temp': 43.74, 'Humidity': 61, 'Cloudiness': 0, 'Wind Speed': 15.64, 'Country': 'GL', 'Date': '2020-09-02 14:17:28'}, {'City': 'Yurimaguas', 'Lat': -5.9, 'Lng': -76.08, 'Max Temp': 87.17, 'Humidity': 49, 'Cloudiness': 95, 'Wind Speed': 0.54, 'Country': 'PE', 'Date': '2020-09-02 14:17:28'}, {'City': 'Tecpan', 'Lat': 14.76, 'Lng': -90.99, 'Max Temp': 64.4, 'Humidity': 88, 'Cloudiness': 75, 'Wind Speed': 13.87, 'Country': 'GT', 'Date': '2020-09-02 14:17:29'}, {'City': 'Palana', 'Lat': 59.12, 'Lng': 159.97, 'Max Temp': 42.1, 'Humidity': 86, 'Cloudiness': 100, 'Wind Speed': 4.29, 'Country': 'RU', 'Date': '2020-09-02 14:17:29'}, {'City': 'Nantucket', 'Lat': 41.28, 'Lng': -70.1, 'Max Temp': 66.2, 'Humidity': 88, 'Cloudiness': 90, 'Wind Speed': 14.99, 'Country': 'US', 'Date': '2020-09-02 14:17:29'}, {'City': 'Kolobovo', 'Lat': 56.7, 'Lng': 41.34, 'Max Temp': 63.63, 'Humidity': 58, 'Cloudiness': 0, 'Wind Speed': 6.76, 'Country': 'RU', 'Date': '2020-09-02 14:17:29'}, {'City': 'Paita', 'Lat': -5.09, 'Lng': -81.11, 'Max Temp': 62.6, 'Humidity': 77, 'Cloudiness': 100, 'Wind Speed': 27.51, 'Country': 'PE', 'Date': '2020-09-02 14:17:30'}, {'City': 'Port Blair', 'Lat': 11.67, 'Lng': 92.75, 'Max Temp': 83.73, 'Humidity': 77, 'Cloudiness': 100, 'Wind Speed': 10.2, 'Country': 'IN', 'Date': '2020-09-02 14:16:06'}, {'City': 'Roald', 'Lat': 62.58, 'Lng': 6.13, 'Max Temp': 69.01, 'Humidity': 42, 'Cloudiness': 0, 'Wind Speed': 11.41, 'Country': 'NO', 'Date': '2020-09-02 14:17:30'}, {'City': 'Sao Felix Do Xingu', 'Lat': -6.64, 'Lng': -51.99, 'Max Temp': 94.3, 'Humidity': 19, 'Cloudiness': 0, 'Wind Speed': 7.05, 'Country': 'BR', 'Date': '2020-09-02 14:17:30'}, {'City': 'Lazaro Cardenas', 'Lat': 17.96, 'Lng': -102.2, 'Max Temp': 76.17, 'Humidity': 81, 'Cloudiness': 0, 'Wind Speed': 5.01, 'Country': 'MX', 'Date': '2020-09-02 14:17:31'}, {'City': 'Pishva', 'Lat': 35.31, 'Lng': 51.73, 'Max Temp': 89.6, 'Humidity': 13, 'Cloudiness': 0, 'Wind Speed': 4.7, 'Country': 'IR', 'Date': '2020-09-02 14:17:31'}, {'City': 'Taltal', 'Lat': -25.4, 'Lng': -70.48, 'Max Temp': 64.17, 'Humidity': 41, 'Cloudiness': 0, 'Wind Speed': 8.95, 'Country': 'CL', 'Date': '2020-09-02 14:17:31'}, {'City': 'Goderich', 'Lat': 43.75, 'Lng': -81.72, 'Max Temp': 75, 'Humidity': 74, 'Cloudiness': 56, 'Wind Speed': 1.01, 'Country': 'CA', 'Date': '2020-09-02 14:17:31'}, {'City': 'Harnosand', 'Lat': 62.63, 'Lng': 17.94, 'Max Temp': 66.2, 'Humidity': 67, 'Cloudiness': 0, 'Wind Speed': 14.99, 'Country': 'SE', 'Date': '2020-09-02 14:17:32'}, {'City': 'Xam Nua', 'Lat': 20.42, 'Lng': 104.04, 'Max Temp': 70.59, 'Humidity': 82, 'Cloudiness': 13, 'Wind Speed': 1.81, 'Country': 'LA', 'Date': '2020-09-02 14:17:32'}, {'City': 'Cam Ranh', 'Lat': 11.92, 'Lng': 109.16, 'Max Temp': 86, 'Humidity': 70, 'Cloudiness': 20, 'Wind Speed': 1.12, 'Country': 'VN', 'Date': '2020-09-02 14:17:32'}, {'City': 'Anadyr', 'Lat': 64.75, 'Lng': 177.48, 'Max Temp': 35.6, 'Humidity': 93, 'Cloudiness': 93, 'Wind Speed': 4.47, 'Country': 'RU', 'Date': '2020-09-02 14:17:32'}, {'City': 'Shubarshi', 'Lat': 48.59, 'Lng': 57.19, 'Max Temp': 90.05, 'Humidity': 16, 'Cloudiness': 0, 'Wind Speed': 9.08, 'Country': 'KZ', 'Date': '2020-09-02 14:17:33'}, {'City': 'Ouesso', 'Lat': 1.61, 'Lng': 16.05, 'Max Temp': 85.41, 'Humidity': 63, 'Cloudiness': 68, 'Wind Speed': 2.39, 'Country': 'CG', 'Date': '2020-09-02 14:17:33'}, {'City': 'Tanout', 'Lat': 14.97, 'Lng': 8.89, 'Max Temp': 91.22, 'Humidity': 40, 'Cloudiness': 66, 'Wind Speed': 5.75, 'Country': 'NE', 'Date': '2020-09-02 14:17:33'}, {'City': 'Oksfjord', 'Lat': 70.24, 'Lng': 22.35, 'Max Temp': 61, 'Humidity': 67, 'Cloudiness': 100, 'Wind Speed': 10.29, 'Country': 'NO', 'Date': '2020-09-02 14:17:34'}, {'City': 'Naze', 'Lat': 28.37, 'Lng': 129.48, 'Max Temp': 84.2, 'Humidity': 89, 'Cloudiness': 20, 'Wind Speed': 13.87, 'Country': 'JP', 'Date': '2020-09-02 14:17:34'}, {'City': 'Antofagasta', 'Lat': -23.65, 'Lng': -70.4, 'Max Temp': 57.2, 'Humidity': 71, 'Cloudiness': 20, 'Wind Speed': 16.11, 'Country': 'CL', 'Date': '2020-09-02 14:14:09'}, {'City': 'Axim', 'Lat': 4.87, 'Lng': -2.24, 'Max Temp': 78.94, 'Humidity': 75, 'Cloudiness': 81, 'Wind Speed': 10.49, 'Country': 'GH', 'Date': '2020-09-02 14:17:34'}, {'City': 'Sebinkarahisar', 'Lat': 40.29, 'Lng': 38.42, 'Max Temp': 77.47, 'Humidity': 34, 'Cloudiness': 62, 'Wind Speed': 8.48, 'Country': 'TR', 'Date': '2020-09-02 14:17:35'}, {'City': 'Stykkisholmur', 'Lat': 65.08, 'Lng': -22.73, 'Max Temp': 47.17, 'Humidity': 75, 'Cloudiness': 100, 'Wind Speed': 16.26, 'Country': 'IS', 'Date': '2020-09-02 14:17:35'}, {'City': 'Ikom', 'Lat': 5.97, 'Lng': 8.71, 'Max Temp': 78.03, 'Humidity': 85, 'Cloudiness': 100, 'Wind Speed': 0.31, 'Country': 'NG', 'Date': '2020-09-02 14:17:35'}, {'City': 'Mecca', 'Lat': 21.43, 'Lng': 39.83, 'Max Temp': 104.16, 'Humidity': 20, 'Cloudiness': 3, 'Wind Speed': 18.28, 'Country': 'SA', 'Date': '2020-09-02 14:14:33'}, {'City': 'Elbistan', 'Lat': 38.21, 'Lng': 37.2, 'Max Temp': 89.8, 'Humidity': 17, 'Cloudiness': 81, 'Wind Speed': 5.5, 'Country': 'TR', 'Date': '2020-09-02 14:17:36'}, {'City': 'Watertown', 'Lat': 42.37, 'Lng': -71.18, 'Max Temp': 71.01, 'Humidity': 88, 'Cloudiness': 90, 'Wind Speed': 4.7, 'Country': 'US', 'Date': '2020-09-02 14:17:37'}, {'City': 'Waingapu', 'Lat': -9.66, 'Lng': 120.26, 'Max Temp': 77.25, 'Humidity': 83, 'Cloudiness': 98, 'Wind Speed': 11.07, 'Country': 'ID', 'Date': '2020-09-02 14:17:37'}, {'City': 'Kitoy', 'Lat': 52.6, 'Lng': 103.9, 'Max Temp': 57.2, 'Humidity': 100, 'Cloudiness': 20, 'Wind Speed': 6.71, 'Country': 'RU', 'Date': '2020-09-02 14:17:37'}, {'City': 'Zyryanovsk', 'Lat': 49.74, 'Lng': 84.27, 'Max Temp': 64.26, 'Humidity': 56, 'Cloudiness': 0, 'Wind Speed': 1.79, 'Country': 'KZ', 'Date': '2020-09-02 14:17:37'}, {'City': 'Hogyesz', 'Lat': 46.5, 'Lng': 18.42, 'Max Temp': 71.6, 'Humidity': 43, 'Cloudiness': 100, 'Wind Speed': 4.7, 'Country': 'HU', 'Date': '2020-09-02 14:17:38'}, {'City': 'Newport', 'Lat': 51.59, 'Lng': -3, 'Max Temp': 62.01, 'Humidity': 92, 'Cloudiness': 100, 'Wind Speed': 1.01, 'Country': 'GB', 'Date': '2020-09-02 14:15:34'}, {'City': 'Vadso', 'Lat': 70.07, 'Lng': 29.75, 'Max Temp': 62.6, 'Humidity': 71, 'Cloudiness': 100, 'Wind Speed': 6.93, 'Country': 'NO', 'Date': '2020-09-02 14:17:38'}, {'City': 'Ibra', 'Lat': 22.69, 'Lng': 58.53, 'Max Temp': 95.99, 'Humidity': 17, 'Cloudiness': 0, 'Wind Speed': 14.52, 'Country': 'OM', 'Date': '2020-09-02 14:17:38'}, {'City': 'Murray Bridge', 'Lat': -35.12, 'Lng': 139.27, 'Max Temp': 55, 'Humidity': 85, 'Cloudiness': 19, 'Wind Speed': 6.08, 'Country': 'AU', 'Date': '2020-09-02 14:17:39'}, {'City': 'Beloha', 'Lat': -25.17, 'Lng': 45.05, 'Max Temp': 63.81, 'Humidity': 56, 'Cloudiness': 33, 'Wind Speed': 14.05, 'Country': 'MG', 'Date': '2020-09-02 14:17:39'}, {'City': 'Vila Velha', 'Lat': -20.33, 'Lng': -40.29, 'Max Temp': 78.01, 'Humidity': 78, 'Cloudiness': 40, 'Wind Speed': 8.05, 'Country': 'BR', 'Date': '2020-09-02 14:17:39'}, {'City': 'Lewistown', 'Lat': 40.6, 'Lng': -77.57, 'Max Temp': 73, 'Humidity': 100, 'Cloudiness': 90, 'Wind Speed': 3.65, 'Country': 'US', 'Date': '2020-09-02 14:17:40'}, {'City': 'San Joaquin', 'Lat': 10.26, 'Lng': -67.79, 'Max Temp': 80.35, 'Humidity': 71, 'Cloudiness': 67, 'Wind Speed': 3.38, 'Country': 'VE', 'Date': '2020-09-02 14:17:40'}, {'City': 'Mulege', 'Lat': 26.88, 'Lng': -111.98, 'Max Temp': 83.84, 'Humidity': 65, 'Cloudiness': 0, 'Wind Speed': 3.58, 'Country': 'MX', 'Date': '2020-09-02 14:17:40'}, {'City': 'Severo-Yeniseyskiy', 'Lat': 60.37, 'Lng': 93.04, 'Max Temp': 46.56, 'Humidity': 95, 'Cloudiness': 0, 'Wind Speed': 6.15, 'Country': 'RU', 'Date': '2020-09-02 14:17:40'}, {'City': 'Mercedes', 'Lat': -34.65, 'Lng': -59.43, 'Max Temp': 50, 'Humidity': 95, 'Cloudiness': 100, 'Wind Speed': 15.01, 'Country': 'AR', 'Date': '2020-09-02 14:17:41'}, {'City': 'Korsakovo', 'Lat': 53.27, 'Lng': 37.36, 'Max Temp': 70.05, 'Humidity': 64, 'Cloudiness': 0, 'Wind Speed': 14.94, 'Country': 'RU', 'Date': '2020-09-02 14:17:41'}, {'City': 'Troitsk', 'Lat': 54.1, 'Lng': 61.58, 'Max Temp': 58.98, 'Humidity': 66, 'Cloudiness': 70, 'Wind Speed': 20.27, 'Country': 'RU', 'Date': '2020-09-02 14:17:42'}, {'City': 'Manzhouli', 'Lat': 49.6, 'Lng': 117.43, 'Max Temp': 53.67, 'Humidity': 85, 'Cloudiness': 0, 'Wind Speed': 5.57, 'Country': 'CN', 'Date': '2020-09-02 14:17:42'}, {'City': 'Luganville', 'Lat': -15.53, 'Lng': 167.17, 'Max Temp': 75.11, 'Humidity': 81, 'Cloudiness': 100, 'Wind Speed': 12.84, 'Country': 'VU', 'Date': '2020-09-02 14:17:42'}, {'City': 'Itarantim', 'Lat': -15.66, 'Lng': -40.07, 'Max Temp': 75.38, 'Humidity': 66, 'Cloudiness': 86, 'Wind Speed': 10.33, 'Country': 'BR', 'Date': '2020-09-02 14:17:43'}, {'City': 'Karachi', 'Lat': 24.91, 'Lng': 67.08, 'Max Temp': 87.8, 'Humidity': 66, 'Cloudiness': 40, 'Wind Speed': 9.17, 'Country': 'PK', 'Date': '2020-09-02 14:17:43'}, {'City': 'Chicama', 'Lat': -7.84, 'Lng': -79.15, 'Max Temp': 63.19, 'Humidity': 73, 'Cloudiness': 88, 'Wind Speed': 7.63, 'Country': 'PE', 'Date': '2020-09-02 14:17:09'}, {'City': 'Half Moon Bay', 'Lat': 37.46, 'Lng': -122.43, 'Max Temp': 60.8, 'Humidity': 87, 'Cloudiness': 90, 'Wind Speed': 4.7, 'Country': 'US', 'Date': '2020-09-02 14:13:49'}, {'City': 'Curanilahue', 'Lat': -37.47, 'Lng': -73.35, 'Max Temp': 49.44, 'Humidity': 81, 'Cloudiness': 100, 'Wind Speed': 2.13, 'Country': 'CL', 'Date': '2020-09-02 14:17:44'}, {'City': 'Tema', 'Lat': 5.67, 'Lng': -0.02, 'Max Temp': 82.4, 'Humidity': 69, 'Cloudiness': 20, 'Wind Speed': 17.22, 'Country': 'GH', 'Date': '2020-09-02 14:17:44'}, {'City': 'Irece', 'Lat': -11.3, 'Lng': -41.86, 'Max Temp': 81.43, 'Humidity': 36, 'Cloudiness': 5, 'Wind Speed': 18.9, 'Country': 'BR', 'Date': '2020-09-02 14:17:44'}, {'City': 'Keti Bandar', 'Lat': 24.14, 'Lng': 67.45, 'Max Temp': 81.7, 'Humidity': 75, 'Cloudiness': 74, 'Wind Speed': 10.38, 'Country': 'PK', 'Date': '2020-09-02 14:17:45'}, {'City': 'Kosh-Agach', 'Lat': 50, 'Lng': 88.67, 'Max Temp': 53.35, 'Humidity': 43, 'Cloudiness': 0, 'Wind Speed': 4.43, 'Country': 'RU', 'Date': '2020-09-02 14:17:45'}, {'City': 'Poum', 'Lat': -20.23, 'Lng': 164.02, 'Max Temp': 70.03, 'Humidity': 73, 'Cloudiness': 10, 'Wind Speed': 13.78, 'Country': 'NC', 'Date': '2020-09-02 14:17:45'}, {'City': 'Maldonado', 'Lat': -34.67, 'Lng': -54.92, 'Max Temp': 52, 'Humidity': 93, 'Cloudiness': 90, 'Wind Speed': 17.22, 'Country': 'UY', 'Date': '2020-09-02 14:17:46'}, {'City': 'Pontal Do Parana', 'Lat': -25.65, 'Lng': -48.51, 'Max Temp': 62.01, 'Humidity': 87, 'Cloudiness': 90, 'Wind Speed': 12.75, 'Country': 'BR', 'Date': '2020-09-02 14:17:46'}, {'City': 'Toguchin', 'Lat': 55.24, 'Lng': 84.39, 'Max Temp': 63.48, 'Humidity': 92, 'Cloudiness': 100, 'Wind Speed': 6.76, 'Country': 'RU', 'Date': '2020-09-02 14:17:46'}, {'City': 'Chadiza', 'Lat': -14.07, 'Lng': 32.44, 'Max Temp': 80.4, 'Humidity': 30, 'Cloudiness': 14, 'Wind Speed': 13.04, 'Country': 'ZM', 'Date': '2020-09-02 14:17:46'}, {'City': 'Skjervoy', 'Lat': 70.03, 'Lng': 20.97, 'Max Temp': 57.2, 'Humidity': 71, 'Cloudiness': 100, 'Wind Speed': 1.12, 'Country': 'NO', 'Date': '2020-09-02 14:17:47'}, {'City': 'Santa Vitoria Do Palmar', 'Lat': -33.52, 'Lng': -53.37, 'Max Temp': 54.5, 'Humidity': 94, 'Cloudiness': 100, 'Wind Speed': 23.51, 'Country': 'BR', 'Date': '2020-09-02 14:17:47'}, {'City': 'Aklavik', 'Lat': 68.22, 'Lng': -135.01, 'Max Temp': 44.6, 'Humidity': 100, 'Cloudiness': 90, 'Wind Speed': 4.7, 'Country': 'CA', 'Date': '2020-09-02 14:17:48'}, {'City': 'Gouyave', 'Lat': 12.16, 'Lng': -61.73, 'Max Temp': 86, 'Humidity': 74, 'Cloudiness': 20, 'Wind Speed': 13.87, 'Country': 'GD', 'Date': '2020-09-02 14:17:48'}, {'City': 'Tarnogskiy Gorodok', 'Lat': 60.5, 'Lng': 43.58, 'Max Temp': 60.8, 'Humidity': 63, 'Cloudiness': 0, 'Wind Speed': 2.64, 'Country': 'RU', 'Date': '2020-09-02 14:17:48'}, {'City': 'Jacksonville Beach', 'Lat': 30.29, 'Lng': -81.39, 'Max Temp': 82.4, 'Humidity': 94, 'Cloudiness': 75, 'Wind Speed': 3.36, 'Country': 'US', 'Date': '2020-09-02 14:15:01'}, {'City': 'Masallatah', 'Lat': 32.62, 'Lng': 14, 'Max Temp': 84.2, 'Humidity': 57, 'Cloudiness': 0, 'Wind Speed': 16.33, 'Country': 'LY', 'Date': '2020-09-02 14:17:49'}, {'City': 'Benxi', 'Lat': 41.29, 'Lng': 123.77, 'Max Temp': 69.8, 'Humidity': 73, 'Cloudiness': 100, 'Wind Speed': 4.47, 'Country': 'CN', 'Date': '2020-09-02 14:17:49'}, {'City': 'Winslow', 'Lat': 35.02, 'Lng': -110.7, 'Max Temp': 50, 'Humidity': 53, 'Cloudiness': 1, 'Wind Speed': 2.1, 'Country': 'US', 'Date': '2020-09-02 14:13:09'}, {'City': 'San Luis', 'Lat': -33.3, 'Lng': -66.34, 'Max Temp': 51.44, 'Humidity': 45, 'Cloudiness': 0, 'Wind Speed': 4.47, 'Country': 'AR', 'Date': '2020-09-02 14:17:49'}, {'City': 'Betioky', 'Lat': -23.72, 'Lng': 44.38, 'Max Temp': 70.2, 'Humidity': 52, 'Cloudiness': 6, 'Wind Speed': 15.5, 'Country': 'MG', 'Date': '2020-09-02 14:17:50'}, {'City': 'Ibague', 'Lat': 4.44, 'Lng': -75.23, 'Max Temp': 73.09, 'Humidity': 55, 'Cloudiness': 99, 'Wind Speed': 3.71, 'Country': 'CO', 'Date': '2020-09-02 14:13:56'}, {'City': 'Kilembe', 'Lat': 0.2, 'Lng': 30, 'Max Temp': 74.66, 'Humidity': 47, 'Cloudiness': 55, 'Wind Speed': 2.82, 'Country': 'UG', 'Date': '2020-09-02 14:17:50'}, {'City': 'Tisovec', 'Lat': 48.68, 'Lng': 19.94, 'Max Temp': 66, 'Humidity': 72, 'Cloudiness': 75, 'Wind Speed': 3.36, 'Country': 'SK', 'Date': '2020-09-02 14:17:50'}]\n"
    }
   ],
   "source": [
    "print(city_data)"
   ]
  },
  {
   "cell_type": "code",
   "execution_count": 24,
   "metadata": {},
   "outputs": [
    {
     "output_type": "execute_result",
     "data": {
      "text/plain": "556"
     },
     "metadata": {},
     "execution_count": 24
    }
   ],
   "source": [
    "len(city_data)"
   ]
  },
  {
   "cell_type": "code",
   "execution_count": 43,
   "metadata": {},
   "outputs": [
    {
     "output_type": "execute_result",
     "data": {
      "text/plain": "              City    Lat     Lng  Max Temp  Humidity  Cloudiness  Wind Speed  \\\n0           Hobart -42.88  147.33     54.00        66          20       10.29   \n1          Prainha  -1.80  -53.48     89.83        50           0        6.06   \n2   Severo-Kurilsk  50.68  156.12     53.40        79         100        8.16   \n3           Kodiak  57.79 -152.41     51.80        81          90        1.61   \n4     Punta Arenas -53.15  -70.92     37.00        72          90        5.82   \n5  Arraial Do Cabo -22.97  -42.03     77.00        83          75        8.05   \n6           Arroyo  41.61   -4.80     81.00        29           0        5.82   \n7        Kavaratti  10.57   72.64     80.64        83         100       12.91   \n8       Nikolskoye  59.70   30.79     62.60        59          40       15.66   \n9       Chokurdakh  70.63  147.92     38.14        88          98        9.40   \n\n  Country                 Date  \n0      AU  2020-09-02 14:12:33  \n1      BR  2020-09-02 14:15:04  \n2      RU  2020-09-02 14:15:05  \n3      US  2020-09-02 14:15:05  \n4      CL  2020-09-02 14:15:05  \n5      BR  2020-09-02 14:15:06  \n6      ES  2020-09-02 14:15:06  \n7      IN  2020-09-02 14:15:06  \n8      RU  2020-09-02 14:15:07  \n9      RU  2020-09-02 14:15:07  ",
      "text/html": "<div>\n<style scoped>\n    .dataframe tbody tr th:only-of-type {\n        vertical-align: middle;\n    }\n\n    .dataframe tbody tr th {\n        vertical-align: top;\n    }\n\n    .dataframe thead th {\n        text-align: right;\n    }\n</style>\n<table border=\"1\" class=\"dataframe\">\n  <thead>\n    <tr style=\"text-align: right;\">\n      <th></th>\n      <th>City</th>\n      <th>Lat</th>\n      <th>Lng</th>\n      <th>Max Temp</th>\n      <th>Humidity</th>\n      <th>Cloudiness</th>\n      <th>Wind Speed</th>\n      <th>Country</th>\n      <th>Date</th>\n    </tr>\n  </thead>\n  <tbody>\n    <tr>\n      <th>0</th>\n      <td>Hobart</td>\n      <td>-42.88</td>\n      <td>147.33</td>\n      <td>54.00</td>\n      <td>66</td>\n      <td>20</td>\n      <td>10.29</td>\n      <td>AU</td>\n      <td>2020-09-02 14:12:33</td>\n    </tr>\n    <tr>\n      <th>1</th>\n      <td>Prainha</td>\n      <td>-1.80</td>\n      <td>-53.48</td>\n      <td>89.83</td>\n      <td>50</td>\n      <td>0</td>\n      <td>6.06</td>\n      <td>BR</td>\n      <td>2020-09-02 14:15:04</td>\n    </tr>\n    <tr>\n      <th>2</th>\n      <td>Severo-Kurilsk</td>\n      <td>50.68</td>\n      <td>156.12</td>\n      <td>53.40</td>\n      <td>79</td>\n      <td>100</td>\n      <td>8.16</td>\n      <td>RU</td>\n      <td>2020-09-02 14:15:05</td>\n    </tr>\n    <tr>\n      <th>3</th>\n      <td>Kodiak</td>\n      <td>57.79</td>\n      <td>-152.41</td>\n      <td>51.80</td>\n      <td>81</td>\n      <td>90</td>\n      <td>1.61</td>\n      <td>US</td>\n      <td>2020-09-02 14:15:05</td>\n    </tr>\n    <tr>\n      <th>4</th>\n      <td>Punta Arenas</td>\n      <td>-53.15</td>\n      <td>-70.92</td>\n      <td>37.00</td>\n      <td>72</td>\n      <td>90</td>\n      <td>5.82</td>\n      <td>CL</td>\n      <td>2020-09-02 14:15:05</td>\n    </tr>\n    <tr>\n      <th>5</th>\n      <td>Arraial Do Cabo</td>\n      <td>-22.97</td>\n      <td>-42.03</td>\n      <td>77.00</td>\n      <td>83</td>\n      <td>75</td>\n      <td>8.05</td>\n      <td>BR</td>\n      <td>2020-09-02 14:15:06</td>\n    </tr>\n    <tr>\n      <th>6</th>\n      <td>Arroyo</td>\n      <td>41.61</td>\n      <td>-4.80</td>\n      <td>81.00</td>\n      <td>29</td>\n      <td>0</td>\n      <td>5.82</td>\n      <td>ES</td>\n      <td>2020-09-02 14:15:06</td>\n    </tr>\n    <tr>\n      <th>7</th>\n      <td>Kavaratti</td>\n      <td>10.57</td>\n      <td>72.64</td>\n      <td>80.64</td>\n      <td>83</td>\n      <td>100</td>\n      <td>12.91</td>\n      <td>IN</td>\n      <td>2020-09-02 14:15:06</td>\n    </tr>\n    <tr>\n      <th>8</th>\n      <td>Nikolskoye</td>\n      <td>59.70</td>\n      <td>30.79</td>\n      <td>62.60</td>\n      <td>59</td>\n      <td>40</td>\n      <td>15.66</td>\n      <td>RU</td>\n      <td>2020-09-02 14:15:07</td>\n    </tr>\n    <tr>\n      <th>9</th>\n      <td>Chokurdakh</td>\n      <td>70.63</td>\n      <td>147.92</td>\n      <td>38.14</td>\n      <td>88</td>\n      <td>98</td>\n      <td>9.40</td>\n      <td>RU</td>\n      <td>2020-09-02 14:15:07</td>\n    </tr>\n  </tbody>\n</table>\n</div>"
     },
     "metadata": {},
     "execution_count": 43
    }
   ],
   "source": [
    "# Convert the array of dictionaries to a Pandas DataFrame.\n",
    "city_data_df = pd.DataFrame(city_data)\n",
    "city_data_df.head(10)"
   ]
  },
  {
   "cell_type": "code",
   "execution_count": 38,
   "metadata": {},
   "outputs": [],
   "source": [
    "new_column_order = [\"City\", \"Country\", \"Date\", \"Lat\", \"Lng\", \"Max Temp\", \"Humidity\", \"Cloudiness\", \"Wind Speed\"]\n",
    " "
   ]
  },
  {
   "cell_type": "code",
   "execution_count": 45,
   "metadata": {},
   "outputs": [
    {
     "output_type": "execute_result",
     "data": {
      "text/plain": "              City Country                 Date    Lat     Lng  Max Temp  \\\n0           Hobart      AU  2020-09-02 14:12:33 -42.88  147.33     54.00   \n1          Prainha      BR  2020-09-02 14:15:04  -1.80  -53.48     89.83   \n2   Severo-Kurilsk      RU  2020-09-02 14:15:05  50.68  156.12     53.40   \n3           Kodiak      US  2020-09-02 14:15:05  57.79 -152.41     51.80   \n4     Punta Arenas      CL  2020-09-02 14:15:05 -53.15  -70.92     37.00   \n5  Arraial Do Cabo      BR  2020-09-02 14:15:06 -22.97  -42.03     77.00   \n6           Arroyo      ES  2020-09-02 14:15:06  41.61   -4.80     81.00   \n7        Kavaratti      IN  2020-09-02 14:15:06  10.57   72.64     80.64   \n8       Nikolskoye      RU  2020-09-02 14:15:07  59.70   30.79     62.60   \n9       Chokurdakh      RU  2020-09-02 14:15:07  70.63  147.92     38.14   \n\n   Humidity  Cloudiness  Wind Speed  \n0        66          20       10.29  \n1        50           0        6.06  \n2        79         100        8.16  \n3        81          90        1.61  \n4        72          90        5.82  \n5        83          75        8.05  \n6        29           0        5.82  \n7        83         100       12.91  \n8        59          40       15.66  \n9        88          98        9.40  ",
      "text/html": "<div>\n<style scoped>\n    .dataframe tbody tr th:only-of-type {\n        vertical-align: middle;\n    }\n\n    .dataframe tbody tr th {\n        vertical-align: top;\n    }\n\n    .dataframe thead th {\n        text-align: right;\n    }\n</style>\n<table border=\"1\" class=\"dataframe\">\n  <thead>\n    <tr style=\"text-align: right;\">\n      <th></th>\n      <th>City</th>\n      <th>Country</th>\n      <th>Date</th>\n      <th>Lat</th>\n      <th>Lng</th>\n      <th>Max Temp</th>\n      <th>Humidity</th>\n      <th>Cloudiness</th>\n      <th>Wind Speed</th>\n    </tr>\n  </thead>\n  <tbody>\n    <tr>\n      <th>0</th>\n      <td>Hobart</td>\n      <td>AU</td>\n      <td>2020-09-02 14:12:33</td>\n      <td>-42.88</td>\n      <td>147.33</td>\n      <td>54.00</td>\n      <td>66</td>\n      <td>20</td>\n      <td>10.29</td>\n    </tr>\n    <tr>\n      <th>1</th>\n      <td>Prainha</td>\n      <td>BR</td>\n      <td>2020-09-02 14:15:04</td>\n      <td>-1.80</td>\n      <td>-53.48</td>\n      <td>89.83</td>\n      <td>50</td>\n      <td>0</td>\n      <td>6.06</td>\n    </tr>\n    <tr>\n      <th>2</th>\n      <td>Severo-Kurilsk</td>\n      <td>RU</td>\n      <td>2020-09-02 14:15:05</td>\n      <td>50.68</td>\n      <td>156.12</td>\n      <td>53.40</td>\n      <td>79</td>\n      <td>100</td>\n      <td>8.16</td>\n    </tr>\n    <tr>\n      <th>3</th>\n      <td>Kodiak</td>\n      <td>US</td>\n      <td>2020-09-02 14:15:05</td>\n      <td>57.79</td>\n      <td>-152.41</td>\n      <td>51.80</td>\n      <td>81</td>\n      <td>90</td>\n      <td>1.61</td>\n    </tr>\n    <tr>\n      <th>4</th>\n      <td>Punta Arenas</td>\n      <td>CL</td>\n      <td>2020-09-02 14:15:05</td>\n      <td>-53.15</td>\n      <td>-70.92</td>\n      <td>37.00</td>\n      <td>72</td>\n      <td>90</td>\n      <td>5.82</td>\n    </tr>\n    <tr>\n      <th>5</th>\n      <td>Arraial Do Cabo</td>\n      <td>BR</td>\n      <td>2020-09-02 14:15:06</td>\n      <td>-22.97</td>\n      <td>-42.03</td>\n      <td>77.00</td>\n      <td>83</td>\n      <td>75</td>\n      <td>8.05</td>\n    </tr>\n    <tr>\n      <th>6</th>\n      <td>Arroyo</td>\n      <td>ES</td>\n      <td>2020-09-02 14:15:06</td>\n      <td>41.61</td>\n      <td>-4.80</td>\n      <td>81.00</td>\n      <td>29</td>\n      <td>0</td>\n      <td>5.82</td>\n    </tr>\n    <tr>\n      <th>7</th>\n      <td>Kavaratti</td>\n      <td>IN</td>\n      <td>2020-09-02 14:15:06</td>\n      <td>10.57</td>\n      <td>72.64</td>\n      <td>80.64</td>\n      <td>83</td>\n      <td>100</td>\n      <td>12.91</td>\n    </tr>\n    <tr>\n      <th>8</th>\n      <td>Nikolskoye</td>\n      <td>RU</td>\n      <td>2020-09-02 14:15:07</td>\n      <td>59.70</td>\n      <td>30.79</td>\n      <td>62.60</td>\n      <td>59</td>\n      <td>40</td>\n      <td>15.66</td>\n    </tr>\n    <tr>\n      <th>9</th>\n      <td>Chokurdakh</td>\n      <td>RU</td>\n      <td>2020-09-02 14:15:07</td>\n      <td>70.63</td>\n      <td>147.92</td>\n      <td>38.14</td>\n      <td>88</td>\n      <td>98</td>\n      <td>9.40</td>\n    </tr>\n  </tbody>\n</table>\n</div>"
     },
     "metadata": {},
     "execution_count": 45
    }
   ],
   "source": [
    "city_data_df = city_data_df[new_column_order]\n",
    "city_data_df.head(10)"
   ]
  },
  {
   "cell_type": "code",
   "execution_count": 46,
   "metadata": {},
   "outputs": [],
   "source": [
    "# Create the output file (CSV).\n",
    "output_data_file = \"weather_data/cities.csv\"\n",
    "# Export the City_Data into a CSV.\n",
    "city_data_df.to_csv(output_data_file, index_label=\"City_ID\")"
   ]
  },
  {
   "cell_type": "code",
   "execution_count": null,
   "metadata": {},
   "outputs": [],
   "source": []
  }
 ]
}