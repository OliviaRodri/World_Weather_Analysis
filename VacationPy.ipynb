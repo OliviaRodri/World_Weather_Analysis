{
 "metadata": {
  "language_info": {
   "codemirror_mode": {
    "name": "ipython",
    "version": 3
   },
   "file_extension": ".py",
   "mimetype": "text/x-python",
   "name": "python",
   "nbconvert_exporter": "python",
   "pygments_lexer": "ipython3",
   "version": "3.6.10-final"
  },
  "orig_nbformat": 2,
  "kernelspec": {
   "name": "pythondata",
   "display_name": "PythonData"
  }
 },
 "nbformat": 4,
 "nbformat_minor": 2,
 "cells": [
  {
   "cell_type": "code",
   "execution_count": 1,
   "metadata": {},
   "outputs": [],
   "source": [
    "# Import the dependencies.\n",
    "import pandas as pd\n",
    "import gmaps\n",
    "import requests\n",
    "\n",
    "# Import the API key.\n",
    "from config import g_key"
   ]
  },
  {
   "cell_type": "code",
   "execution_count": 2,
   "metadata": {},
   "outputs": [
    {
     "output_type": "execute_result",
     "data": {
      "text/plain": "   City_ID            City Country                 Date    Lat     Lng  \\\n0        0          Hobart      AU  2020-09-02 14:12:33 -42.88  147.33   \n1        1         Prainha      BR  2020-09-02 14:15:04  -1.80  -53.48   \n2        2  Severo-Kurilsk      RU  2020-09-02 14:15:05  50.68  156.12   \n3        3          Kodiak      US  2020-09-02 14:15:05  57.79 -152.41   \n4        4    Punta Arenas      CL  2020-09-02 14:15:05 -53.15  -70.92   \n\n   Max Temp  Humidity  Cloudiness  Wind Speed  \n0     54.00        66          20       10.29  \n1     89.83        50           0        6.06  \n2     53.40        79         100        8.16  \n3     51.80        81          90        1.61  \n4     37.00        72          90        5.82  ",
      "text/html": "<div>\n<style scoped>\n    .dataframe tbody tr th:only-of-type {\n        vertical-align: middle;\n    }\n\n    .dataframe tbody tr th {\n        vertical-align: top;\n    }\n\n    .dataframe thead th {\n        text-align: right;\n    }\n</style>\n<table border=\"1\" class=\"dataframe\">\n  <thead>\n    <tr style=\"text-align: right;\">\n      <th></th>\n      <th>City_ID</th>\n      <th>City</th>\n      <th>Country</th>\n      <th>Date</th>\n      <th>Lat</th>\n      <th>Lng</th>\n      <th>Max Temp</th>\n      <th>Humidity</th>\n      <th>Cloudiness</th>\n      <th>Wind Speed</th>\n    </tr>\n  </thead>\n  <tbody>\n    <tr>\n      <th>0</th>\n      <td>0</td>\n      <td>Hobart</td>\n      <td>AU</td>\n      <td>2020-09-02 14:12:33</td>\n      <td>-42.88</td>\n      <td>147.33</td>\n      <td>54.00</td>\n      <td>66</td>\n      <td>20</td>\n      <td>10.29</td>\n    </tr>\n    <tr>\n      <th>1</th>\n      <td>1</td>\n      <td>Prainha</td>\n      <td>BR</td>\n      <td>2020-09-02 14:15:04</td>\n      <td>-1.80</td>\n      <td>-53.48</td>\n      <td>89.83</td>\n      <td>50</td>\n      <td>0</td>\n      <td>6.06</td>\n    </tr>\n    <tr>\n      <th>2</th>\n      <td>2</td>\n      <td>Severo-Kurilsk</td>\n      <td>RU</td>\n      <td>2020-09-02 14:15:05</td>\n      <td>50.68</td>\n      <td>156.12</td>\n      <td>53.40</td>\n      <td>79</td>\n      <td>100</td>\n      <td>8.16</td>\n    </tr>\n    <tr>\n      <th>3</th>\n      <td>3</td>\n      <td>Kodiak</td>\n      <td>US</td>\n      <td>2020-09-02 14:15:05</td>\n      <td>57.79</td>\n      <td>-152.41</td>\n      <td>51.80</td>\n      <td>81</td>\n      <td>90</td>\n      <td>1.61</td>\n    </tr>\n    <tr>\n      <th>4</th>\n      <td>4</td>\n      <td>Punta Arenas</td>\n      <td>CL</td>\n      <td>2020-09-02 14:15:05</td>\n      <td>-53.15</td>\n      <td>-70.92</td>\n      <td>37.00</td>\n      <td>72</td>\n      <td>90</td>\n      <td>5.82</td>\n    </tr>\n  </tbody>\n</table>\n</div>"
     },
     "metadata": {},
     "execution_count": 2
    }
   ],
   "source": [
    "# Store the CSV you saved created in part one into a DataFrame.\n",
    "city_data_df = pd.read_csv(\"weather_data/cities.csv\")\n",
    "city_data_df.head()"
   ]
  },
  {
   "cell_type": "code",
   "execution_count": 35,
   "metadata": {},
   "outputs": [
    {
     "output_type": "execute_result",
     "data": {
      "text/plain": "City_ID         int64\nCity           object\nCountry        object\nDate           object\nLat           float64\nLng           float64\nMax Temp      float64\nHumidity        int64\nCloudiness      int64\nWind Speed    float64\ndtype: object"
     },
     "metadata": {},
     "execution_count": 35
    }
   ],
   "source": [
    "city_data_df.dtypes"
   ]
  },
  {
   "cell_type": "code",
   "execution_count": 36,
   "metadata": {},
   "outputs": [],
   "source": [
    "# Configure gmaps to use your Google API key.\n",
    "gmaps.configure(api_key=g_key)"
   ]
  },
  {
   "cell_type": "code",
   "execution_count": 55,
   "metadata": {},
   "outputs": [
    {
     "output_type": "display_data",
     "data": {
      "text/plain": "Figure(layout=FigureLayout(height='420px'))",
      "application/vnd.jupyter.widget-view+json": {
       "version_major": 2,
       "version_minor": 0,
       "model_id": "a843b8e30c244621b3ebd525db640cb0"
      }
     },
     "metadata": {}
    }
   ],
   "source": [
    "# Heatmap of temperature\n",
    "# Get the latitude and longitude.\n",
    "locations = city_data_df[[\"Lat\", \"Lng\"]]\n",
    "# Get the maximum temperature.\n",
    "max_temp = city_data_df[\"Max Temp\"]\n",
    "# Assign the figure variable.\n",
    "fig = gmaps.figure(center=(30.0, 31.0), zoom_level=1.5)\n",
    "# Assign the heatmap variable.\n",
    "heat_layer = gmaps.heatmap_layer(locations, weights=max_temp, dissipating=False, max_intensity=300, point_radius=4)\n",
    "# Add the heatmap layer.\n",
    "fig.add_layer(heat_layer)\n",
    "# Call the figure to plot the data.\n",
    "fig \n"
   ]
  },
  {
   "cell_type": "code",
   "execution_count": 38,
   "metadata": {},
   "outputs": [
    {
     "output_type": "execute_result",
     "data": {
      "text/plain": "0"
     },
     "metadata": {},
     "execution_count": 38
    }
   ],
   "source": [
    "neg_values= city_data_df[\"Max Temp\"] <=0 \n",
    "neg_values.sum()"
   ]
  },
  {
   "cell_type": "code",
   "execution_count": 56,
   "metadata": {},
   "outputs": [
    {
     "output_type": "display_data",
     "data": {
      "text/plain": "Figure(layout=FigureLayout(height='420px'))",
      "application/vnd.jupyter.widget-view+json": {
       "version_major": 2,
       "version_minor": 0,
       "model_id": "3cc4167817ce4c8fb9ee88e625de5e83"
      }
     },
     "metadata": {}
    }
   ],
   "source": [
    "# Heatmap of percent humidity\n",
    "locations = city_data_df[[\"Lat\", \"Lng\"]]\n",
    "humidity = city_data_df[\"Humidity\"]\n",
    "fig = gmaps.figure(center=(30.0, 31.0), zoom_level=1.5)\n",
    "heat_layer = gmaps.heatmap_layer(locations, weights=humidity, dissipating=False, max_intensity=300, point_radius=4)\n",
    "\n",
    "fig.add_layer(heat_layer)\n",
    "# Call the figure to plot the data.\n",
    "fig"
   ]
  },
  {
   "cell_type": "code",
   "execution_count": 58,
   "metadata": {},
   "outputs": [
    {
     "output_type": "display_data",
     "data": {
      "text/plain": "Figure(layout=FigureLayout(height='420px'))",
      "application/vnd.jupyter.widget-view+json": {
       "version_major": 2,
       "version_minor": 0,
       "model_id": "44f1317dba344b25befe6af582346eed"
      }
     },
     "metadata": {}
    }
   ],
   "source": [
    "# Heatmap of percent cloudiness\n",
    "locations = city_data_df[[\"Lat\", \"Lng\"]]\n",
    "clouds = city_data_df[\"Cloudiness\"]\n",
    "fig = gmaps.figure(center=(30.0, 31.0), zoom_level=1.5)\n",
    "heat_layer = gmaps.heatmap_layer(locations, weights=clouds, dissipating=False, max_intensity=300, point_radius=4)\n",
    "\n",
    "fig.add_layer(heat_layer)\n",
    "# Call the figure to plot the data.\n",
    "fig"
   ]
  },
  {
   "cell_type": "code",
   "execution_count": 59,
   "metadata": {},
   "outputs": [
    {
     "output_type": "display_data",
     "data": {
      "text/plain": "Figure(layout=FigureLayout(height='420px'))",
      "application/vnd.jupyter.widget-view+json": {
       "version_major": 2,
       "version_minor": 0,
       "model_id": "04d9d2fc409e44f395e803cd0e8d708c"
      }
     },
     "metadata": {}
    }
   ],
   "source": [
    "# Heatmap of percent wind\n",
    "locations = city_data_df[[\"Lat\", \"Lng\"]]\n",
    "wind = city_data_df[\"Wind Speed\"]\n",
    "fig = gmaps.figure(center=(30.0, 31.0), zoom_level=1.5)\n",
    "heat_layer = gmaps.heatmap_layer(locations, weights=wind, dissipating=False, max_intensity=300, point_radius=4)\n",
    "\n",
    "fig.add_layer(heat_layer)\n",
    "# Call the figure to plot the data.\n",
    "fig"
   ]
  },
  {
   "cell_type": "code",
   "execution_count": 60,
   "metadata": {},
   "outputs": [],
   "source": [
    "# Ask the customer to add a minimum and maximum temperature value.\n",
    "min_temp = float(input(\"What is the minimum temperature you would like for your trip? \"))\n",
    "max_temp = float(input(\"What is the maximum temperature you would like for your trip? \"))"
   ]
  },
  {
   "cell_type": "code",
   "execution_count": 61,
   "metadata": {},
   "outputs": [
    {
     "output_type": "execute_result",
     "data": {
      "text/plain": "    City_ID             City Country                 Date    Lat     Lng  \\\n1         1          Prainha      BR  2020-09-02 14:15:04  -1.80  -53.48   \n5         5  Arraial Do Cabo      BR  2020-09-02 14:15:06 -22.97  -42.03   \n6         6           Arroyo      ES  2020-09-02 14:15:06  41.61   -4.80   \n7         7        Kavaratti      IN  2020-09-02 14:15:06  10.57   72.64   \n10       10             Mana      GF  2020-09-02 14:15:08   5.66  -53.78   \n14       14         Valdosta      US  2020-09-02 14:15:09  30.83  -83.28   \n17       17       Zhezkazgan      KZ  2020-09-02 14:15:10  47.80   67.71   \n23       23        Caravelas      BR  2020-09-02 14:15:12 -17.71  -39.25   \n26       26         Victoria      HK  2020-09-02 14:14:33  22.29  114.16   \n27       27           Hasaki      JP  2020-09-02 14:15:14  35.73  140.83   \n\n    Max Temp  Humidity  Cloudiness  Wind Speed  \n1      89.83        50           0        6.06  \n5      77.00        83          75        8.05  \n6      81.00        29           0        5.82  \n7      80.64        83         100       12.91  \n10     84.43        62           0        7.87  \n14     80.60        83          90        5.57  \n17     87.80        12           0        6.71  \n23     78.51        56           3       10.25  \n26     86.00        79          34        3.00  \n27     79.00       100          75        5.82  ",
      "text/html": "<div>\n<style scoped>\n    .dataframe tbody tr th:only-of-type {\n        vertical-align: middle;\n    }\n\n    .dataframe tbody tr th {\n        vertical-align: top;\n    }\n\n    .dataframe thead th {\n        text-align: right;\n    }\n</style>\n<table border=\"1\" class=\"dataframe\">\n  <thead>\n    <tr style=\"text-align: right;\">\n      <th></th>\n      <th>City_ID</th>\n      <th>City</th>\n      <th>Country</th>\n      <th>Date</th>\n      <th>Lat</th>\n      <th>Lng</th>\n      <th>Max Temp</th>\n      <th>Humidity</th>\n      <th>Cloudiness</th>\n      <th>Wind Speed</th>\n    </tr>\n  </thead>\n  <tbody>\n    <tr>\n      <th>1</th>\n      <td>1</td>\n      <td>Prainha</td>\n      <td>BR</td>\n      <td>2020-09-02 14:15:04</td>\n      <td>-1.80</td>\n      <td>-53.48</td>\n      <td>89.83</td>\n      <td>50</td>\n      <td>0</td>\n      <td>6.06</td>\n    </tr>\n    <tr>\n      <th>5</th>\n      <td>5</td>\n      <td>Arraial Do Cabo</td>\n      <td>BR</td>\n      <td>2020-09-02 14:15:06</td>\n      <td>-22.97</td>\n      <td>-42.03</td>\n      <td>77.00</td>\n      <td>83</td>\n      <td>75</td>\n      <td>8.05</td>\n    </tr>\n    <tr>\n      <th>6</th>\n      <td>6</td>\n      <td>Arroyo</td>\n      <td>ES</td>\n      <td>2020-09-02 14:15:06</td>\n      <td>41.61</td>\n      <td>-4.80</td>\n      <td>81.00</td>\n      <td>29</td>\n      <td>0</td>\n      <td>5.82</td>\n    </tr>\n    <tr>\n      <th>7</th>\n      <td>7</td>\n      <td>Kavaratti</td>\n      <td>IN</td>\n      <td>2020-09-02 14:15:06</td>\n      <td>10.57</td>\n      <td>72.64</td>\n      <td>80.64</td>\n      <td>83</td>\n      <td>100</td>\n      <td>12.91</td>\n    </tr>\n    <tr>\n      <th>10</th>\n      <td>10</td>\n      <td>Mana</td>\n      <td>GF</td>\n      <td>2020-09-02 14:15:08</td>\n      <td>5.66</td>\n      <td>-53.78</td>\n      <td>84.43</td>\n      <td>62</td>\n      <td>0</td>\n      <td>7.87</td>\n    </tr>\n    <tr>\n      <th>14</th>\n      <td>14</td>\n      <td>Valdosta</td>\n      <td>US</td>\n      <td>2020-09-02 14:15:09</td>\n      <td>30.83</td>\n      <td>-83.28</td>\n      <td>80.60</td>\n      <td>83</td>\n      <td>90</td>\n      <td>5.57</td>\n    </tr>\n    <tr>\n      <th>17</th>\n      <td>17</td>\n      <td>Zhezkazgan</td>\n      <td>KZ</td>\n      <td>2020-09-02 14:15:10</td>\n      <td>47.80</td>\n      <td>67.71</td>\n      <td>87.80</td>\n      <td>12</td>\n      <td>0</td>\n      <td>6.71</td>\n    </tr>\n    <tr>\n      <th>23</th>\n      <td>23</td>\n      <td>Caravelas</td>\n      <td>BR</td>\n      <td>2020-09-02 14:15:12</td>\n      <td>-17.71</td>\n      <td>-39.25</td>\n      <td>78.51</td>\n      <td>56</td>\n      <td>3</td>\n      <td>10.25</td>\n    </tr>\n    <tr>\n      <th>26</th>\n      <td>26</td>\n      <td>Victoria</td>\n      <td>HK</td>\n      <td>2020-09-02 14:14:33</td>\n      <td>22.29</td>\n      <td>114.16</td>\n      <td>86.00</td>\n      <td>79</td>\n      <td>34</td>\n      <td>3.00</td>\n    </tr>\n    <tr>\n      <th>27</th>\n      <td>27</td>\n      <td>Hasaki</td>\n      <td>JP</td>\n      <td>2020-09-02 14:15:14</td>\n      <td>35.73</td>\n      <td>140.83</td>\n      <td>79.00</td>\n      <td>100</td>\n      <td>75</td>\n      <td>5.82</td>\n    </tr>\n  </tbody>\n</table>\n</div>"
     },
     "metadata": {},
     "execution_count": 61
    }
   ],
   "source": [
    "# Filter the dataset to find the cities that fit the criteria.\n",
    "preferred_cities_df = city_data_df.loc[(city_data_df[\"Max Temp\"] <= max_temp) & \\\n",
    "                                       (city_data_df[\"Max Temp\"] >= min_temp)]\n",
    "preferred_cities_df.head(10)"
   ]
  },
  {
   "cell_type": "code",
   "execution_count": 63,
   "metadata": {},
   "outputs": [
    {
     "output_type": "execute_result",
     "data": {
      "text/plain": "City_ID       0\nCity          0\nCountry       1\nDate          0\nLat           0\nLng           0\nMax Temp      0\nHumidity      0\nCloudiness    0\nWind Speed    0\ndtype: int64"
     },
     "metadata": {},
     "execution_count": 63
    }
   ],
   "source": [
    "preferred_cities_df.isnull().sum()"
   ]
  },
  {
   "cell_type": "code",
   "execution_count": 62,
   "metadata": {},
   "outputs": [
    {
     "output_type": "execute_result",
     "data": {
      "text/plain": "City_ID       206\nCity          206\nCountry       205\nDate          206\nLat           206\nLng           206\nMax Temp      206\nHumidity      206\nCloudiness    206\nWind Speed    206\ndtype: int64"
     },
     "metadata": {},
     "execution_count": 62
    }
   ],
   "source": [
    "preferred_cities_df.count()"
   ]
  },
  {
   "cell_type": "code",
   "execution_count": 67,
   "metadata": {},
   "outputs": [
    {
     "output_type": "execute_result",
     "data": {
      "text/plain": "     City_ID             City Country                 Date    Lat     Lng  \\\n1          1          Prainha      BR  2020-09-02 14:15:04  -1.80  -53.48   \n5          5  Arraial Do Cabo      BR  2020-09-02 14:15:06 -22.97  -42.03   \n6          6           Arroyo      ES  2020-09-02 14:15:06  41.61   -4.80   \n7          7        Kavaratti      IN  2020-09-02 14:15:06  10.57   72.64   \n10        10             Mana      GF  2020-09-02 14:15:08   5.66  -53.78   \n..       ...              ...     ...                  ...    ...     ...   \n469      469        Dalianwan      CN  2020-09-02 14:17:25  39.03  121.69   \n470      470             Lata      PT  2020-09-02 14:17:25  40.16   -8.33   \n472      472            Luwuk      ID  2020-09-02 14:17:26  -0.95  122.79   \n474      474          Huilong      CN  2020-09-02 14:17:27  31.81  121.66   \n476      476           Jimeta      NG  2020-09-02 14:17:27   9.28   12.47   \n\n     Max Temp  Humidity  Cloudiness  Wind Speed  \n1       89.83        50           0        6.06  \n5       77.00        83          75        8.05  \n6       81.00        29           0        5.82  \n7       80.64        83         100       12.91  \n10      84.43        62           0        7.87  \n..        ...       ...         ...         ...  \n469     79.00        64          48        8.95  \n470     89.01        40           0        5.79  \n472     77.99        78         100        3.89  \n474     78.01        89           0        1.01  \n476     86.38        65          48       10.83  \n\n[180 rows x 10 columns]",
      "text/html": "<div>\n<style scoped>\n    .dataframe tbody tr th:only-of-type {\n        vertical-align: middle;\n    }\n\n    .dataframe tbody tr th {\n        vertical-align: top;\n    }\n\n    .dataframe thead th {\n        text-align: right;\n    }\n</style>\n<table border=\"1\" class=\"dataframe\">\n  <thead>\n    <tr style=\"text-align: right;\">\n      <th></th>\n      <th>City_ID</th>\n      <th>City</th>\n      <th>Country</th>\n      <th>Date</th>\n      <th>Lat</th>\n      <th>Lng</th>\n      <th>Max Temp</th>\n      <th>Humidity</th>\n      <th>Cloudiness</th>\n      <th>Wind Speed</th>\n    </tr>\n  </thead>\n  <tbody>\n    <tr>\n      <th>1</th>\n      <td>1</td>\n      <td>Prainha</td>\n      <td>BR</td>\n      <td>2020-09-02 14:15:04</td>\n      <td>-1.80</td>\n      <td>-53.48</td>\n      <td>89.83</td>\n      <td>50</td>\n      <td>0</td>\n      <td>6.06</td>\n    </tr>\n    <tr>\n      <th>5</th>\n      <td>5</td>\n      <td>Arraial Do Cabo</td>\n      <td>BR</td>\n      <td>2020-09-02 14:15:06</td>\n      <td>-22.97</td>\n      <td>-42.03</td>\n      <td>77.00</td>\n      <td>83</td>\n      <td>75</td>\n      <td>8.05</td>\n    </tr>\n    <tr>\n      <th>6</th>\n      <td>6</td>\n      <td>Arroyo</td>\n      <td>ES</td>\n      <td>2020-09-02 14:15:06</td>\n      <td>41.61</td>\n      <td>-4.80</td>\n      <td>81.00</td>\n      <td>29</td>\n      <td>0</td>\n      <td>5.82</td>\n    </tr>\n    <tr>\n      <th>7</th>\n      <td>7</td>\n      <td>Kavaratti</td>\n      <td>IN</td>\n      <td>2020-09-02 14:15:06</td>\n      <td>10.57</td>\n      <td>72.64</td>\n      <td>80.64</td>\n      <td>83</td>\n      <td>100</td>\n      <td>12.91</td>\n    </tr>\n    <tr>\n      <th>10</th>\n      <td>10</td>\n      <td>Mana</td>\n      <td>GF</td>\n      <td>2020-09-02 14:15:08</td>\n      <td>5.66</td>\n      <td>-53.78</td>\n      <td>84.43</td>\n      <td>62</td>\n      <td>0</td>\n      <td>7.87</td>\n    </tr>\n    <tr>\n      <th>...</th>\n      <td>...</td>\n      <td>...</td>\n      <td>...</td>\n      <td>...</td>\n      <td>...</td>\n      <td>...</td>\n      <td>...</td>\n      <td>...</td>\n      <td>...</td>\n      <td>...</td>\n    </tr>\n    <tr>\n      <th>469</th>\n      <td>469</td>\n      <td>Dalianwan</td>\n      <td>CN</td>\n      <td>2020-09-02 14:17:25</td>\n      <td>39.03</td>\n      <td>121.69</td>\n      <td>79.00</td>\n      <td>64</td>\n      <td>48</td>\n      <td>8.95</td>\n    </tr>\n    <tr>\n      <th>470</th>\n      <td>470</td>\n      <td>Lata</td>\n      <td>PT</td>\n      <td>2020-09-02 14:17:25</td>\n      <td>40.16</td>\n      <td>-8.33</td>\n      <td>89.01</td>\n      <td>40</td>\n      <td>0</td>\n      <td>5.79</td>\n    </tr>\n    <tr>\n      <th>472</th>\n      <td>472</td>\n      <td>Luwuk</td>\n      <td>ID</td>\n      <td>2020-09-02 14:17:26</td>\n      <td>-0.95</td>\n      <td>122.79</td>\n      <td>77.99</td>\n      <td>78</td>\n      <td>100</td>\n      <td>3.89</td>\n    </tr>\n    <tr>\n      <th>474</th>\n      <td>474</td>\n      <td>Huilong</td>\n      <td>CN</td>\n      <td>2020-09-02 14:17:27</td>\n      <td>31.81</td>\n      <td>121.66</td>\n      <td>78.01</td>\n      <td>89</td>\n      <td>0</td>\n      <td>1.01</td>\n    </tr>\n    <tr>\n      <th>476</th>\n      <td>476</td>\n      <td>Jimeta</td>\n      <td>NG</td>\n      <td>2020-09-02 14:17:27</td>\n      <td>9.28</td>\n      <td>12.47</td>\n      <td>86.38</td>\n      <td>65</td>\n      <td>48</td>\n      <td>10.83</td>\n    </tr>\n  </tbody>\n</table>\n<p>180 rows × 10 columns</p>\n</div>"
     },
     "metadata": {},
     "execution_count": 67
    }
   ],
   "source": [
    "preferred_cities_df = preferred_cities_df.iloc[0:180,:]\n",
    "preferred_cities_df"
   ]
  },
  {
   "cell_type": "code",
   "execution_count": 69,
   "metadata": {},
   "outputs": [
    {
     "output_type": "execute_result",
     "data": {
      "text/plain": "               City Country  Max Temp    Lat     Lng Hotel Name\n1           Prainha      BR     89.83  -1.80  -53.48           \n5   Arraial Do Cabo      BR     77.00 -22.97  -42.03           \n6            Arroyo      ES     81.00  41.61   -4.80           \n7         Kavaratti      IN     80.64  10.57   72.64           \n10             Mana      GF     84.43   5.66  -53.78           \n14         Valdosta      US     80.60  30.83  -83.28           \n17       Zhezkazgan      KZ     87.80  47.80   67.71           \n23        Caravelas      BR     78.51 -17.71  -39.25           \n26         Victoria      HK     86.00  22.29  114.16           \n27           Hasaki      JP     79.00  35.73  140.83           ",
      "text/html": "<div>\n<style scoped>\n    .dataframe tbody tr th:only-of-type {\n        vertical-align: middle;\n    }\n\n    .dataframe tbody tr th {\n        vertical-align: top;\n    }\n\n    .dataframe thead th {\n        text-align: right;\n    }\n</style>\n<table border=\"1\" class=\"dataframe\">\n  <thead>\n    <tr style=\"text-align: right;\">\n      <th></th>\n      <th>City</th>\n      <th>Country</th>\n      <th>Max Temp</th>\n      <th>Lat</th>\n      <th>Lng</th>\n      <th>Hotel Name</th>\n    </tr>\n  </thead>\n  <tbody>\n    <tr>\n      <th>1</th>\n      <td>Prainha</td>\n      <td>BR</td>\n      <td>89.83</td>\n      <td>-1.80</td>\n      <td>-53.48</td>\n      <td></td>\n    </tr>\n    <tr>\n      <th>5</th>\n      <td>Arraial Do Cabo</td>\n      <td>BR</td>\n      <td>77.00</td>\n      <td>-22.97</td>\n      <td>-42.03</td>\n      <td></td>\n    </tr>\n    <tr>\n      <th>6</th>\n      <td>Arroyo</td>\n      <td>ES</td>\n      <td>81.00</td>\n      <td>41.61</td>\n      <td>-4.80</td>\n      <td></td>\n    </tr>\n    <tr>\n      <th>7</th>\n      <td>Kavaratti</td>\n      <td>IN</td>\n      <td>80.64</td>\n      <td>10.57</td>\n      <td>72.64</td>\n      <td></td>\n    </tr>\n    <tr>\n      <th>10</th>\n      <td>Mana</td>\n      <td>GF</td>\n      <td>84.43</td>\n      <td>5.66</td>\n      <td>-53.78</td>\n      <td></td>\n    </tr>\n    <tr>\n      <th>14</th>\n      <td>Valdosta</td>\n      <td>US</td>\n      <td>80.60</td>\n      <td>30.83</td>\n      <td>-83.28</td>\n      <td></td>\n    </tr>\n    <tr>\n      <th>17</th>\n      <td>Zhezkazgan</td>\n      <td>KZ</td>\n      <td>87.80</td>\n      <td>47.80</td>\n      <td>67.71</td>\n      <td></td>\n    </tr>\n    <tr>\n      <th>23</th>\n      <td>Caravelas</td>\n      <td>BR</td>\n      <td>78.51</td>\n      <td>-17.71</td>\n      <td>-39.25</td>\n      <td></td>\n    </tr>\n    <tr>\n      <th>26</th>\n      <td>Victoria</td>\n      <td>HK</td>\n      <td>86.00</td>\n      <td>22.29</td>\n      <td>114.16</td>\n      <td></td>\n    </tr>\n    <tr>\n      <th>27</th>\n      <td>Hasaki</td>\n      <td>JP</td>\n      <td>79.00</td>\n      <td>35.73</td>\n      <td>140.83</td>\n      <td></td>\n    </tr>\n  </tbody>\n</table>\n</div>"
     },
     "metadata": {},
     "execution_count": 69
    }
   ],
   "source": [
    "# Create DataFrame called hotel_df to store hotel names along with city, country, max temp, and coordinates.\n",
    "hotel_df = preferred_cities_df[[\"City\", \"Country\", \"Max Temp\", \"Lat\", \"Lng\"]].copy()\n",
    "hotel_df[\"Hotel Name\"] = \"\"\n",
    "hotel_df.head(10)"
   ]
  },
  {
   "cell_type": "code",
   "execution_count": 70,
   "metadata": {},
   "outputs": [],
   "source": [
    "# Set parameters to search for a hotel.\n",
    "params = {\n",
    "    \"radius\": 5000,\n",
    "    \"type\": \"lodging\",\n",
    "    \"key\": g_key\n",
    "}"
   ]
  },
  {
   "cell_type": "code",
   "execution_count": 76,
   "metadata": {
    "tags": []
   },
   "outputs": [
    {
     "output_type": "stream",
     "name": "stdout",
     "text": "Hotel not found... skipping.\nHotel not found... skipping.\nHotel not found... skipping.\nHotel not found... skipping.\nHotel not found... skipping.\nHotel not found... skipping.\nHotel not found... skipping.\nHotel not found... skipping.\nHotel not found... skipping.\nHotel not found... skipping.\nHotel not found... skipping.\nHotel not found... skipping.\nHotel not found... skipping.\n"
    }
   ],
   "source": [
    "# Iterate through the DataFrame.\n",
    "for index, row in hotel_df.iterrows():\n",
    "    # Get the latitude and longitude.\n",
    "    lat = row[\"Lat\"]\n",
    "    lng = row[\"Lng\"]\n",
    "\n",
    "    # Add the latitude and longitude to location key for the params dictionary.\n",
    "    params[\"location\"] = f\"{lat},{lng}\"\n",
    "\n",
    "    # Use the search term: \"lodging\" and our latitude and longitude.\n",
    "    base_url = \"https://maps.googleapis.com/maps/api/place/nearbysearch/json\"\n",
    "    # Make request and get the JSON data from the search.\n",
    "    hotels = requests.get(base_url, params=params).json()\n",
    "    # Grab the first hotel from the results and store the name.\n",
    "    try:\n",
    "        hotel_df.loc[index, \"Hotel Name\"] = hotels[\"results\"][0][\"name\"]\n",
    "    except (IndexError):\n",
    "        print(\"Hotel not found... skipping.\")\n",
    "\n",
    " "
   ]
  },
  {
   "cell_type": "code",
   "execution_count": 79,
   "metadata": {},
   "outputs": [
    {
     "output_type": "execute_result",
     "data": {
      "text/plain": "               City Country  Max Temp    Lat     Lng  \\\n1           Prainha      BR     89.83  -1.80  -53.48   \n5   Arraial Do Cabo      BR     77.00 -22.97  -42.03   \n6            Arroyo      ES     81.00  41.61   -4.80   \n7         Kavaratti      IN     80.64  10.57   72.64   \n10             Mana      GF     84.43   5.66  -53.78   \n14         Valdosta      US     80.60  30.83  -83.28   \n17       Zhezkazgan      KZ     87.80  47.80   67.71   \n23        Caravelas      BR     78.51 -17.71  -39.25   \n26         Victoria      HK     86.00  22.29  114.16   \n27           Hasaki      JP     79.00  35.73  140.83   \n\n                        Hotel Name  \n1                   Hotel Brasília  \n5              Pousada Porto Praia  \n6     Hotel El Jardín de la Abadía  \n7    Hotels in Lakshadweep Islands  \n10                       LE SAMANA  \n14  Courtyard by Marriott Valdosta  \n17            Kvartiry Posutochno.  \n23          Pousada dos Navegantes  \n26              Mini Hotel Central  \n27           Inubosaki Kanko Hotel  ",
      "text/html": "<div>\n<style scoped>\n    .dataframe tbody tr th:only-of-type {\n        vertical-align: middle;\n    }\n\n    .dataframe tbody tr th {\n        vertical-align: top;\n    }\n\n    .dataframe thead th {\n        text-align: right;\n    }\n</style>\n<table border=\"1\" class=\"dataframe\">\n  <thead>\n    <tr style=\"text-align: right;\">\n      <th></th>\n      <th>City</th>\n      <th>Country</th>\n      <th>Max Temp</th>\n      <th>Lat</th>\n      <th>Lng</th>\n      <th>Hotel Name</th>\n    </tr>\n  </thead>\n  <tbody>\n    <tr>\n      <th>1</th>\n      <td>Prainha</td>\n      <td>BR</td>\n      <td>89.83</td>\n      <td>-1.80</td>\n      <td>-53.48</td>\n      <td>Hotel Brasília</td>\n    </tr>\n    <tr>\n      <th>5</th>\n      <td>Arraial Do Cabo</td>\n      <td>BR</td>\n      <td>77.00</td>\n      <td>-22.97</td>\n      <td>-42.03</td>\n      <td>Pousada Porto Praia</td>\n    </tr>\n    <tr>\n      <th>6</th>\n      <td>Arroyo</td>\n      <td>ES</td>\n      <td>81.00</td>\n      <td>41.61</td>\n      <td>-4.80</td>\n      <td>Hotel El Jardín de la Abadía</td>\n    </tr>\n    <tr>\n      <th>7</th>\n      <td>Kavaratti</td>\n      <td>IN</td>\n      <td>80.64</td>\n      <td>10.57</td>\n      <td>72.64</td>\n      <td>Hotels in Lakshadweep Islands</td>\n    </tr>\n    <tr>\n      <th>10</th>\n      <td>Mana</td>\n      <td>GF</td>\n      <td>84.43</td>\n      <td>5.66</td>\n      <td>-53.78</td>\n      <td>LE SAMANA</td>\n    </tr>\n    <tr>\n      <th>14</th>\n      <td>Valdosta</td>\n      <td>US</td>\n      <td>80.60</td>\n      <td>30.83</td>\n      <td>-83.28</td>\n      <td>Courtyard by Marriott Valdosta</td>\n    </tr>\n    <tr>\n      <th>17</th>\n      <td>Zhezkazgan</td>\n      <td>KZ</td>\n      <td>87.80</td>\n      <td>47.80</td>\n      <td>67.71</td>\n      <td>Kvartiry Posutochno.</td>\n    </tr>\n    <tr>\n      <th>23</th>\n      <td>Caravelas</td>\n      <td>BR</td>\n      <td>78.51</td>\n      <td>-17.71</td>\n      <td>-39.25</td>\n      <td>Pousada dos Navegantes</td>\n    </tr>\n    <tr>\n      <th>26</th>\n      <td>Victoria</td>\n      <td>HK</td>\n      <td>86.00</td>\n      <td>22.29</td>\n      <td>114.16</td>\n      <td>Mini Hotel Central</td>\n    </tr>\n    <tr>\n      <th>27</th>\n      <td>Hasaki</td>\n      <td>JP</td>\n      <td>79.00</td>\n      <td>35.73</td>\n      <td>140.83</td>\n      <td>Inubosaki Kanko Hotel</td>\n    </tr>\n  </tbody>\n</table>\n</div>"
     },
     "metadata": {},
     "execution_count": 79
    }
   ],
   "source": [
    "hotel_df.head(10)"
   ]
  },
  {
   "cell_type": "code",
   "execution_count": 82,
   "metadata": {},
   "outputs": [
    {
     "output_type": "display_data",
     "data": {
      "text/plain": "Figure(layout=FigureLayout(height='420px'))",
      "application/vnd.jupyter.widget-view+json": {
       "version_major": 2,
       "version_minor": 0,
       "model_id": "cf2e7050ab1d4842a663354c3facc2a5"
      }
     },
     "metadata": {}
    }
   ],
   "source": [
    "# Add a heatmap of temperature for the vacation spots.\n",
    "locations = hotel_df[[\"Lat\", \"Lng\"]]\n",
    "max_temp = hotel_df[\"Max Temp\"]\n",
    "fig = gmaps.figure(center=(30.0, 31.0), zoom_level=1.5)\n",
    "heat_layer = gmaps.heatmap_layer(locations, weights=max_temp, dissipating=False,\n",
    "             max_intensity=300, point_radius=4)\n",
    "\n",
    "fig.add_layer(heat_layer)\n",
    "# Call the figure to plot the data.\n",
    "fig"
   ]
  },
  {
   "cell_type": "code",
   "execution_count": 83,
   "metadata": {},
   "outputs": [
    {
     "output_type": "display_data",
     "data": {
      "text/plain": "Figure(layout=FigureLayout(height='420px'))",
      "application/vnd.jupyter.widget-view+json": {
       "version_major": 2,
       "version_minor": 0,
       "model_id": "57ec0829121048c7a492c6c081b9e5ee"
      }
     },
     "metadata": {}
    }
   ],
   "source": [
    "# Add a heatmap of temperature for the vacation spots and marker for each city.\n",
    "locations = hotel_df[[\"Lat\", \"Lng\"]]\n",
    "max_temp = hotel_df[\"Max Temp\"]\n",
    "fig = gmaps.figure(center=(30.0, 31.0), zoom_level=1.5)\n",
    "heat_layer = gmaps.heatmap_layer(locations, weights=max_temp,\n",
    "             dissipating=False, max_intensity=300, point_radius=4)\n",
    "marker_layer = gmaps.marker_layer(locations)\n",
    "fig.add_layer(heat_layer)\n",
    "fig.add_layer(marker_layer)\n",
    "# Call the figure to plot the data.\n",
    "fig"
   ]
  },
  {
   "cell_type": "code",
   "execution_count": 86,
   "metadata": {},
   "outputs": [],
   "source": [
    "info_box_template = \"\"\"\n",
    "<dl>\n",
    "<dt>Hotel Name</dt><dd>{Hotel Name}</dd>\n",
    "<dt>City</dt><dd>{City}</dd>\n",
    "<dt>Country</dt><dd>{Country}</dd>\n",
    "<dt>Max Temp</dt><dd>{Max Temp} °F</dd>\n",
    "</dl>\n",
    "\"\"\"\n",
    "# Store the DataFrame Row.\n",
    "hotel_info = [info_box_template.format(**row) for index, row in hotel_df.iterrows()]"
   ]
  },
  {
   "cell_type": "code",
   "execution_count": 87,
   "metadata": {},
   "outputs": [
    {
     "output_type": "display_data",
     "data": {
      "text/plain": "Figure(layout=FigureLayout(height='420px'))",
      "application/vnd.jupyter.widget-view+json": {
       "version_major": 2,
       "version_minor": 0,
       "model_id": "44c50ffce5bf407bb868a90f8223d75b"
      }
     },
     "metadata": {}
    }
   ],
   "source": [
    "# Add a heatmap of temperature for the vacation spots and a pop-up marker for each city.\n",
    "locations = hotel_df[[\"Lat\", \"Lng\"]]\n",
    "max_temp = hotel_df[\"Max Temp\"]\n",
    "fig = gmaps.figure(center=(30.0, 31.0), zoom_level=1.5)\n",
    "heat_layer = gmaps.heatmap_layer(locations, weights=max_temp,dissipating=False,\n",
    "             max_intensity=300, point_radius=4)\n",
    "marker_layer = gmaps.marker_layer(locations, info_box_content=hotel_info)\n",
    "fig.add_layer(heat_layer)\n",
    "fig.add_layer(marker_layer)\n",
    "\n",
    "# Call the figure to plot the data.\n",
    "fig"
   ]
  },
  {
   "cell_type": "code",
   "execution_count": null,
   "metadata": {},
   "outputs": [],
   "source": []
  }
 ]
}