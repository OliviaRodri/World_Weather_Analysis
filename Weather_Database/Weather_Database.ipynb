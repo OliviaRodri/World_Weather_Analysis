{
 "metadata": {
  "language_info": {
   "codemirror_mode": {
    "name": "ipython",
    "version": 3
   },
   "file_extension": ".py",
   "mimetype": "text/x-python",
   "name": "python",
   "nbconvert_exporter": "python",
   "pygments_lexer": "ipython3",
   "version": "3.6.10-final"
  },
  "orig_nbformat": 2,
  "kernelspec": {
   "name": "pythondata",
   "display_name": "PythonData"
  }
 },
 "nbformat": 4,
 "nbformat_minor": 2,
 "cells": [
  {
   "cell_type": "code",
   "execution_count": 44,
   "metadata": {},
   "outputs": [],
   "source": [
    "# Import the dependencies.\n",
    "import pandas as pd\n",
    "import matplotlib.pyplot as plt\n",
    "import numpy as np\n",
    "# Import the random module.\n",
    "import random\n",
    "# Use the citipy module to determine city based on latitude and longitude.\n",
    "from citipy import citipy\n",
    "# Import the requests library.\n",
    "import requests\n",
    "# Import the API key.\n",
    "from config import weather_api_key\n",
    "run_cell= True"
   ]
  },
  {
   "cell_type": "code",
   "execution_count": 11,
   "metadata": {},
   "outputs": [],
   "source": [
    "# Create a set of random latitude and longitude combinations.\n",
    "lats = np.random.uniform(low=-90.000, high=90.000, size=2000)\n",
    "lngs = np.random.uniform(low=-180.000, high=180.000, size=2000)\n",
    "lat_lngs = zip(lats, lngs)\n",
    "lat_lngs\n",
    "\n",
    "# Add the latitudes and longitudes to a list.\n",
    "coordinates = list(lat_lngs)\n"
   ]
  },
  {
   "cell_type": "code",
   "execution_count": 12,
   "metadata": {},
   "outputs": [
    {
     "output_type": "execute_result",
     "data": {
      "text/plain": "748"
     },
     "metadata": {},
     "execution_count": 12
    }
   ],
   "source": [
    "# Create a list for holding the cities.\n",
    "cities = []\n",
    "# Identify the nearest city for each latitude and longitude combination.\n",
    "for coordinate in coordinates:\n",
    "    city = citipy.nearest_city(coordinate[0], coordinate[1]).city_name\n",
    "\n",
    "    # If the city is unique, then we will add it to the cities list.\n",
    "    if city not in cities:\n",
    "        cities.append(city)\n",
    "# Print the city count to confirm sufficient count.\n",
    "len(cities)"
   ]
  },
  {
   "cell_type": "code",
   "execution_count": 13,
   "metadata": {},
   "outputs": [
    {
     "output_type": "execute_result",
     "data": {
      "text/plain": "2000"
     },
     "metadata": {},
     "execution_count": 13
    }
   ],
   "source": [
    "len(coordinates)"
   ]
  },
  {
   "cell_type": "code",
   "execution_count": 18,
   "metadata": {},
   "outputs": [],
   "source": [
    "# Starting URL for Weather Map API Call.\n",
    "url = \"http://api.openweathermap.org/data/2.5/weather?units=Imperial&APPID=\" + weather_api_key"
   ]
  },
  {
   "cell_type": "code",
   "execution_count": 39,
   "metadata": {
    "tags": [
     "outputPrepend"
    ]
   },
   "outputs": [
    {
     "output_type": "stream",
     "name": "stdout",
     "text": "rieval Complete      \n-----------------------------\nin for loop\n-----------------------------\nData Retrieval Complete      \n-----------------------------\nin for loop\n-----------------------------\nData Retrieval Complete      \n-----------------------------\nin for loop\n-----------------------------\nData Retrieval Complete      \n-----------------------------\nin for loop\n-----------------------------\nData Retrieval Complete      \n-----------------------------\nin for loop\n-----------------------------\nData Retrieval Complete      \n-----------------------------\nin for loop\n-----------------------------\nData Retrieval Complete      \n-----------------------------\nin for loop\n-----------------------------\nData Retrieval Complete      \n-----------------------------\nin for loop\n-----------------------------\nData Retrieval Complete      \n-----------------------------\nin for loop\n-----------------------------\nData Retrieval Complete      \n-----------------------------\nin for loop\n-----------------------------\nData Retrieval Complete      \n-----------------------------\nin for loop\n-----------------------------\nData Retrieval Complete      \n-----------------------------\nin for loop\n-----------------------------\nData Retrieval Complete      \n-----------------------------\nin for loop\n-----------------------------\nData Retrieval Complete      \n-----------------------------\nin for loop\n-----------------------------\nData Retrieval Complete      \n-----------------------------\nin for loop\n-----------------------------\nData Retrieval Complete      \n-----------------------------\nin for loop\nCity not found. Skipping...\n-----------------------------\nData Retrieval Complete      \n-----------------------------\nin for loop\n-----------------------------\nData Retrieval Complete      \n-----------------------------\nin for loop\n-----------------------------\nData Retrieval Complete      \n-----------------------------\nin for loop\n-----------------------------\nData Retrieval Complete      \n-----------------------------\nin for loop\n-----------------------------\nData Retrieval Complete      \n-----------------------------\nin for loop\n-----------------------------\nData Retrieval Complete      \n-----------------------------\nin for loop\n-----------------------------\nData Retrieval Complete      \n-----------------------------\nin for loop\n-----------------------------\nData Retrieval Complete      \n-----------------------------\nin for loop\n-----------------------------\nData Retrieval Complete      \n-----------------------------\nin for loop\n-----------------------------\nData Retrieval Complete      \n-----------------------------\nin for loop\n-----------------------------\nData Retrieval Complete      \n-----------------------------\nin for loop\n-----------------------------\nData Retrieval Complete      \n-----------------------------\nin for loop\n-----------------------------\nData Retrieval Complete      \n-----------------------------\nin for loop\nCity not found. Skipping...\n-----------------------------\nData Retrieval Complete      \n-----------------------------\nin for loop\n-----------------------------\nData Retrieval Complete      \n-----------------------------\nin for loop\n-----------------------------\nData Retrieval Complete      \n-----------------------------\nin for loop\n-----------------------------\nData Retrieval Complete      \n-----------------------------\nin for loop\n-----------------------------\nData Retrieval Complete      \n-----------------------------\nin for loop\n-----------------------------\nData Retrieval Complete      \n-----------------------------\nin for loop\n-----------------------------\nData Retrieval Complete      \n-----------------------------\nin for loop\n-----------------------------\nData Retrieval Complete      \n-----------------------------\nin for loop\n-----------------------------\nData Retrieval Complete      \n-----------------------------\nin for loop\n-----------------------------\nData Retrieval Complete      \n-----------------------------\nin for loop\n-----------------------------\nData Retrieval Complete      \n-----------------------------\nin for loop\n-----------------------------\nData Retrieval Complete      \n-----------------------------\nin for loop\n-----------------------------\nData Retrieval Complete      \n-----------------------------\nin for loop\n-----------------------------\nData Retrieval Complete      \n-----------------------------\nin for loop\n-----------------------------\nData Retrieval Complete      \n-----------------------------\nin for loop\nCity not found. Skipping...\n-----------------------------\nData Retrieval Complete      \n-----------------------------\nin for loop\n-----------------------------\nData Retrieval Complete      \n-----------------------------\nin for loop\n-----------------------------\nData Retrieval Complete      \n-----------------------------\nin for loop\n-----------------------------\nData Retrieval Complete      \n-----------------------------\nin for loop\n-----------------------------\nData Retrieval Complete      \n-----------------------------\nin for loop\n-----------------------------\nData Retrieval Complete      \n-----------------------------\nin for loop\n-----------------------------\nData Retrieval Complete      \n-----------------------------\nin for loop\n-----------------------------\nData Retrieval Complete      \n-----------------------------\nin for loop\n-----------------------------\nData Retrieval Complete      \n-----------------------------\nin for loop\n-----------------------------\nData Retrieval Complete      \n-----------------------------\nin for loop\n-----------------------------\nData Retrieval Complete      \n-----------------------------\nin for loop\n-----------------------------\nData Retrieval Complete      \n-----------------------------\nin for loop\n-----------------------------\nData Retrieval Complete      \n-----------------------------\nin for loop\n-----------------------------\nData Retrieval Complete      \n-----------------------------\nin for loop\n-----------------------------\nData Retrieval Complete      \n-----------------------------\nin for loop\n-----------------------------\nData Retrieval Complete      \n-----------------------------\nin for loop\n-----------------------------\nData Retrieval Complete      \n-----------------------------\nin for loop\n-----------------------------\nData Retrieval Complete      \n-----------------------------\nin for loop\nCity not found. Skipping...\n-----------------------------\nData Retrieval Complete      \n-----------------------------\nin for loop\n-----------------------------\nData Retrieval Complete      \n-----------------------------\nin for loop\n-----------------------------\nData Retrieval Complete      \n-----------------------------\nin for loop\n-----------------------------\nData Retrieval Complete      \n-----------------------------\nin for loop\n-----------------------------\nData Retrieval Complete      \n-----------------------------\nin for loop\nCity not found. Skipping...\n-----------------------------\nData Retrieval Complete      \n-----------------------------\nin for loop\n-----------------------------\nData Retrieval Complete      \n-----------------------------\nin for loop\n-----------------------------\nData Retrieval Complete      \n-----------------------------\nin for loop\n-----------------------------\nData Retrieval Complete      \n-----------------------------\nin for loop\n-----------------------------\nData Retrieval Complete      \n-----------------------------\nin for loop\n-----------------------------\nData Retrieval Complete      \n-----------------------------\nin for loop\n-----------------------------\nData Retrieval Complete      \n-----------------------------\nin for loop\n-----------------------------\nData Retrieval Complete      \n-----------------------------\nin for loop\n-----------------------------\nData Retrieval Complete      \n-----------------------------\nin for loop\n-----------------------------\nData Retrieval Complete      \n-----------------------------\nin for loop\n-----------------------------\nData Retrieval Complete      \n-----------------------------\nin for loop\n-----------------------------\nData Retrieval Complete      \n-----------------------------\nin for loop\n-----------------------------\nData Retrieval Complete      \n-----------------------------\nin for loop\n-----------------------------\nData Retrieval Complete      \n-----------------------------\nin for loop\n-----------------------------\nData Retrieval Complete      \n-----------------------------\nin for loop\n-----------------------------\nData Retrieval Complete      \n-----------------------------\nin for loop\n-----------------------------\nData Retrieval Complete      \n-----------------------------\nin for loop\n-----------------------------\nData Retrieval Complete      \n-----------------------------\nin for loop\n-----------------------------\nData Retrieval Complete      \n-----------------------------\nin for loop\n-----------------------------\nData Retrieval Complete      \n-----------------------------\nin for loop\n-----------------------------\nData Retrieval Complete      \n-----------------------------\nin for loop\n-----------------------------\nData Retrieval Complete      \n-----------------------------\nin for loop\n-----------------------------\nData Retrieval Complete      \n-----------------------------\nin for loop\n-----------------------------\nData Retrieval Complete      \n-----------------------------\nin for loop\n-----------------------------\nData Retrieval Complete      \n-----------------------------\nin for loop\n-----------------------------\nData Retrieval Complete      \n-----------------------------\nin for loop\n-----------------------------\nData Retrieval Complete      \n-----------------------------\nin for loop\n-----------------------------\nData Retrieval Complete      \n-----------------------------\nin for loop\n-----------------------------\nData Retrieval Complete      \n-----------------------------\nin for loop\nCity not found. Skipping...\n-----------------------------\nData Retrieval Complete      \n-----------------------------\nin for loop\n-----------------------------\nData Retrieval Complete      \n-----------------------------\nin for loop\n-----------------------------\nData Retrieval Complete      \n-----------------------------\nin for loop\n-----------------------------\nData Retrieval Complete      \n-----------------------------\nin for loop\n-----------------------------\nData Retrieval Complete      \n-----------------------------\nin for loop\n-----------------------------\nData Retrieval Complete      \n-----------------------------\nin for loop\nCity not found. Skipping...\n-----------------------------\nData Retrieval Complete      \n-----------------------------\nin for loop\n-----------------------------\nData Retrieval Complete      \n-----------------------------\nin for loop\n-----------------------------\nData Retrieval Complete      \n-----------------------------\nin for loop\n-----------------------------\nData Retrieval Complete      \n-----------------------------\nin for loop\n-----------------------------\nData Retrieval Complete      \n-----------------------------\nin for loop\n-----------------------------\nData Retrieval Complete      \n-----------------------------\nin for loop\n-----------------------------\nData Retrieval Complete      \n-----------------------------\nin for loop\n-----------------------------\nData Retrieval Complete      \n-----------------------------\nin for loop\n-----------------------------\nData Retrieval Complete      \n-----------------------------\nin for loop\nCity not found. Skipping...\n-----------------------------\nData Retrieval Complete      \n-----------------------------\nin for loop\nCity not found. Skipping...\n-----------------------------\nData Retrieval Complete      \n-----------------------------\nin for loop\n-----------------------------\nData Retrieval Complete      \n-----------------------------\nin for loop\n-----------------------------\nData Retrieval Complete      \n-----------------------------\nin for loop\n-----------------------------\nData Retrieval Complete      \n-----------------------------\nin for loop\n-----------------------------\nData Retrieval Complete      \n-----------------------------\nin for loop\n-----------------------------\nData Retrieval Complete      \n-----------------------------\nin for loop\n-----------------------------\nData Retrieval Complete      \n-----------------------------\nin for loop\n-----------------------------\nData Retrieval Complete      \n-----------------------------\nin for loop\n-----------------------------\nData Retrieval Complete      \n-----------------------------\nin for loop\n-----------------------------\nData Retrieval Complete      \n-----------------------------\nin for loop\n-----------------------------\nData Retrieval Complete      \n-----------------------------\nin for loop\n-----------------------------\nData Retrieval Complete      \n-----------------------------\nin for loop\n-----------------------------\nData Retrieval Complete      \n-----------------------------\nin for loop\n-----------------------------\nData Retrieval Complete      \n-----------------------------\nin for loop\n-----------------------------\nData Retrieval Complete      \n-----------------------------\nin for loop\n-----------------------------\nData Retrieval Complete      \n-----------------------------\nin for loop\n-----------------------------\nData Retrieval Complete      \n-----------------------------\nin for loop\n-----------------------------\nData Retrieval Complete      \n-----------------------------\nin for loop\n-----------------------------\nData Retrieval Complete      \n-----------------------------\nin for loop\n-----------------------------\nData Retrieval Complete      \n-----------------------------\nin for loop\n-----------------------------\nData Retrieval Complete      \n-----------------------------\nin for loop\n-----------------------------\nData Retrieval Complete      \n-----------------------------\nin for loop\n-----------------------------\nData Retrieval Complete      \n-----------------------------\nin for loop\n-----------------------------\nData Retrieval Complete      \n-----------------------------\nin for loop\n-----------------------------\nData Retrieval Complete      \n-----------------------------\nin for loop\n-----------------------------\nData Retrieval Complete      \n-----------------------------\nin for loop\n-----------------------------\nData Retrieval Complete      \n-----------------------------\nin for loop\n-----------------------------\nData Retrieval Complete      \n-----------------------------\nin for loop\n-----------------------------\nData Retrieval Complete      \n-----------------------------\nin for loop\n-----------------------------\nData Retrieval Complete      \n-----------------------------\nin for loop\n-----------------------------\nData Retrieval Complete      \n-----------------------------\nin for loop\n-----------------------------\nData Retrieval Complete      \n-----------------------------\nin for loop\n-----------------------------\nData Retrieval Complete      \n-----------------------------\nin for loop\n-----------------------------\nData Retrieval Complete      \n-----------------------------\nin for loop\n-----------------------------\nData Retrieval Complete      \n-----------------------------\nin for loop\n-----------------------------\nData Retrieval Complete      \n-----------------------------\nin for loop\n-----------------------------\nData Retrieval Complete      \n-----------------------------\nin for loop\n-----------------------------\nData Retrieval Complete      \n-----------------------------\nin for loop\n-----------------------------\nData Retrieval Complete      \n-----------------------------\nin for loop\n-----------------------------\nData Retrieval Complete      \n-----------------------------\nin for loop\n-----------------------------\nData Retrieval Complete      \n-----------------------------\nin for loop\n-----------------------------\nData Retrieval Complete      \n-----------------------------\nin for loop\n-----------------------------\nData Retrieval Complete      \n-----------------------------\nin for loop\n-----------------------------\nData Retrieval Complete      \n-----------------------------\nin for loop\n-----------------------------\nData Retrieval Complete      \n-----------------------------\nin for loop\n-----------------------------\nData Retrieval Complete      \n-----------------------------\nin for loop\nCity not found. Skipping...\n-----------------------------\nData Retrieval Complete      \n-----------------------------\nin for loop\n-----------------------------\nData Retrieval Complete      \n-----------------------------\nin for loop\n-----------------------------\nData Retrieval Complete      \n-----------------------------\nin for loop\n-----------------------------\nData Retrieval Complete      \n-----------------------------\nin for loop\n-----------------------------\nData Retrieval Complete      \n-----------------------------\nin for loop\n-----------------------------\nData Retrieval Complete      \n-----------------------------\nin for loop\n-----------------------------\nData Retrieval Complete      \n-----------------------------\nin for loop\n-----------------------------\nData Retrieval Complete      \n-----------------------------\nin for loop\n-----------------------------\nData Retrieval Complete      \n-----------------------------\nin for loop\n-----------------------------\nData Retrieval Complete      \n-----------------------------\nin for loop\nCity not found. Skipping...\n-----------------------------\nData Retrieval Complete      \n-----------------------------\nin for loop\n-----------------------------\nData Retrieval Complete      \n-----------------------------\nin for loop\n-----------------------------\nData Retrieval Complete      \n-----------------------------\nin for loop\n-----------------------------\nData Retrieval Complete      \n-----------------------------\nin for loop\n-----------------------------\nData Retrieval Complete      \n-----------------------------\nin for loop\n-----------------------------\nData Retrieval Complete      \n-----------------------------\nin for loop\n-----------------------------\nData Retrieval Complete      \n-----------------------------\nin for loop\n-----------------------------\nData Retrieval Complete      \n-----------------------------\nin for loop\n-----------------------------\nData Retrieval Complete      \n-----------------------------\nin for loop\n-----------------------------\nData Retrieval Complete      \n-----------------------------\nin for loop\n-----------------------------\nData Retrieval Complete      \n-----------------------------\nin for loop\n-----------------------------\nData Retrieval Complete      \n-----------------------------\nin for loop\nCity not found. Skipping...\n-----------------------------\nData Retrieval Complete      \n-----------------------------\nin for loop\nCity not found. Skipping...\n-----------------------------\nData Retrieval Complete      \n-----------------------------\nin for loop\n-----------------------------\nData Retrieval Complete      \n-----------------------------\nin for loop\n-----------------------------\nData Retrieval Complete      \n-----------------------------\nin for loop\n-----------------------------\nData Retrieval Complete      \n-----------------------------\nin for loop\n-----------------------------\nData Retrieval Complete      \n-----------------------------\nin for loop\n-----------------------------\nData Retrieval Complete      \n-----------------------------\nin for loop\n-----------------------------\nData Retrieval Complete      \n-----------------------------\nin for loop\n-----------------------------\nData Retrieval Complete      \n-----------------------------\nin for loop\n-----------------------------\nData Retrieval Complete      \n-----------------------------\nin for loop\n-----------------------------\nData Retrieval Complete      \n-----------------------------\nin for loop\n-----------------------------\nData Retrieval Complete      \n-----------------------------\nin for loop\n-----------------------------\nData Retrieval Complete      \n-----------------------------\n"
    }
   ],
   "source": [
    "if run_cell:\n",
    "    # Create an empty list to hold the weather data.\n",
    "    city_data = []\n",
    "    # Print the beginning of the logging.\n",
    "    print(\"Beginning Data Retrieval     \")\n",
    "    print(\"-----------------------------\")\n",
    "\n",
    "    # Create counters.\n",
    "    record_count = 1\n",
    "    set_count = 1\n",
    "    # Loop through all the cities in the list.\n",
    "    for i, city in enumerate(cities):\n",
    "        # Group cities in sets of 50 for logging purposes.\n",
    "        if (i % 50 == 0 and i >= 50):\n",
    "            set_count += 1\n",
    "            record_count = 1\n",
    "        # Create endpoint URL with each city.\n",
    "        city_url = url + \"&q=\" + city.replace(\" \",\"+\")\n",
    "\n",
    "        # Log the URL, record, and set numbers and the city.\n",
    "        #print(f\"Processing Record {record_count} of Set {set_count} | {city}\")\n",
    "        # Add 1 to the record count.\n",
    "        record_count += 1\n",
    "        # Run an API request for each of the cities.\n",
    "        try:\n",
    "            # Parse the JSON and retrieve data.\n",
    "            city_weather = requests.get(city_url).json()\n",
    "            # Parse out the needed data.\n",
    "            city_lat = city_weather[\"coord\"][\"lat\"]\n",
    "            city_lng = city_weather[\"coord\"][\"lon\"]\n",
    "            city_max_temp = city_weather[\"main\"][\"temp_max\"]\n",
    "            city_humidity = city_weather[\"main\"][\"humidity\"]\n",
    "            city_clouds = city_weather[\"clouds\"][\"all\"]\n",
    "            city_wind = city_weather[\"wind\"][\"speed\"]\n",
    "            city_description = city_weather[\"weather\"][0][\"description\"]\n",
    "            city_country = city_weather[\"sys\"][\"country\"]\n",
    "            # Convert the date to ISO standard.\n",
    "            #city_date = datetime.utcfromtimestamp(city_weather[\"dt\"]).strftime('%Y-%m-%d %H:%M:%S')\n",
    "            # Append the city information into city_data list.\n",
    "            city_data.append({\"City\": city.title(),\n",
    "                                \"Country\": city_country,\n",
    "                                \"Lat\": city_lat,\n",
    "                                \"Lng\": city_lng,\n",
    "                                \"Max Temp\": city_max_temp,\n",
    "                                \"Humidity\": city_humidity,\n",
    "                                \"Cloudiness\": city_clouds,\n",
    "                                \"Wind Speed\": city_wind,\n",
    "                                \"Current Description\": city_description})\n",
    "                                #\"Date\": city_date})\n",
    "\n",
    "        # If an error is experienced, skip the city.\n",
    "        except:\n",
    "            print(\"City not found. Skipping...\")\n",
    "            pass\n",
    "\n",
    "        # Indicate that Data Loading is complete.\n",
    "        print(\"-----------------------------\")\n",
    "        print(\"Data Retrieval Complete      \")\n",
    "        print(\"-----------------------------\")"
   ]
  },
  {
   "cell_type": "code",
   "execution_count": 47,
   "metadata": {},
   "outputs": [
    {
     "output_type": "execute_result",
     "data": {
      "text/plain": "            City Country    Lat     Lng  Max Temp  Humidity  Cloudiness  \\\n0         Kovrov      RU  56.36   41.32     54.59        73         100   \n1          Ukiah      US  39.15 -123.21     84.20        26           1   \n2      Porbandar      IN  21.64   69.61     80.60        88          20   \n3  Vasterhaninge      SE  59.12   18.10     60.01        54          33   \n4        Qaanaaq      GL  77.48  -69.36     23.23        81           0   \n5          Tiksi      RU  71.69  128.87     52.25        72          82   \n6          Kapaa      US  22.08 -159.32     82.40        65          90   \n7      Cape Town      ZA -33.93   18.42     57.00        93          75   \n8       Ucluelet      CA  48.93 -125.55     59.00        90          34   \n9         Avarua      CK -21.21 -159.78     78.80        83           1   \n\n   Wind Speed Current Description  \n0        7.61     overcast clouds  \n1        6.93           clear sky  \n2        4.70                haze  \n3       14.25    scattered clouds  \n4        8.34           clear sky  \n5        3.04       broken clouds  \n6       10.29     overcast clouds  \n7       11.41       broken clouds  \n8        8.01    scattered clouds  \n9        8.05          light rain  ",
      "text/html": "<div>\n<style scoped>\n    .dataframe tbody tr th:only-of-type {\n        vertical-align: middle;\n    }\n\n    .dataframe tbody tr th {\n        vertical-align: top;\n    }\n\n    .dataframe thead th {\n        text-align: right;\n    }\n</style>\n<table border=\"1\" class=\"dataframe\">\n  <thead>\n    <tr style=\"text-align: right;\">\n      <th></th>\n      <th>City</th>\n      <th>Country</th>\n      <th>Lat</th>\n      <th>Lng</th>\n      <th>Max Temp</th>\n      <th>Humidity</th>\n      <th>Cloudiness</th>\n      <th>Wind Speed</th>\n      <th>Current Description</th>\n    </tr>\n  </thead>\n  <tbody>\n    <tr>\n      <th>0</th>\n      <td>Kovrov</td>\n      <td>RU</td>\n      <td>56.36</td>\n      <td>41.32</td>\n      <td>54.59</td>\n      <td>73</td>\n      <td>100</td>\n      <td>7.61</td>\n      <td>overcast clouds</td>\n    </tr>\n    <tr>\n      <th>1</th>\n      <td>Ukiah</td>\n      <td>US</td>\n      <td>39.15</td>\n      <td>-123.21</td>\n      <td>84.20</td>\n      <td>26</td>\n      <td>1</td>\n      <td>6.93</td>\n      <td>clear sky</td>\n    </tr>\n    <tr>\n      <th>2</th>\n      <td>Porbandar</td>\n      <td>IN</td>\n      <td>21.64</td>\n      <td>69.61</td>\n      <td>80.60</td>\n      <td>88</td>\n      <td>20</td>\n      <td>4.70</td>\n      <td>haze</td>\n    </tr>\n    <tr>\n      <th>3</th>\n      <td>Vasterhaninge</td>\n      <td>SE</td>\n      <td>59.12</td>\n      <td>18.10</td>\n      <td>60.01</td>\n      <td>54</td>\n      <td>33</td>\n      <td>14.25</td>\n      <td>scattered clouds</td>\n    </tr>\n    <tr>\n      <th>4</th>\n      <td>Qaanaaq</td>\n      <td>GL</td>\n      <td>77.48</td>\n      <td>-69.36</td>\n      <td>23.23</td>\n      <td>81</td>\n      <td>0</td>\n      <td>8.34</td>\n      <td>clear sky</td>\n    </tr>\n    <tr>\n      <th>5</th>\n      <td>Tiksi</td>\n      <td>RU</td>\n      <td>71.69</td>\n      <td>128.87</td>\n      <td>52.25</td>\n      <td>72</td>\n      <td>82</td>\n      <td>3.04</td>\n      <td>broken clouds</td>\n    </tr>\n    <tr>\n      <th>6</th>\n      <td>Kapaa</td>\n      <td>US</td>\n      <td>22.08</td>\n      <td>-159.32</td>\n      <td>82.40</td>\n      <td>65</td>\n      <td>90</td>\n      <td>10.29</td>\n      <td>overcast clouds</td>\n    </tr>\n    <tr>\n      <th>7</th>\n      <td>Cape Town</td>\n      <td>ZA</td>\n      <td>-33.93</td>\n      <td>18.42</td>\n      <td>57.00</td>\n      <td>93</td>\n      <td>75</td>\n      <td>11.41</td>\n      <td>broken clouds</td>\n    </tr>\n    <tr>\n      <th>8</th>\n      <td>Ucluelet</td>\n      <td>CA</td>\n      <td>48.93</td>\n      <td>-125.55</td>\n      <td>59.00</td>\n      <td>90</td>\n      <td>34</td>\n      <td>8.01</td>\n      <td>scattered clouds</td>\n    </tr>\n    <tr>\n      <th>9</th>\n      <td>Avarua</td>\n      <td>CK</td>\n      <td>-21.21</td>\n      <td>-159.78</td>\n      <td>78.80</td>\n      <td>83</td>\n      <td>1</td>\n      <td>8.05</td>\n      <td>light rain</td>\n    </tr>\n  </tbody>\n</table>\n</div>"
     },
     "metadata": {},
     "execution_count": 47
    }
   ],
   "source": [
    "# Convert the array of dictionaries to a Pandas DataFrame.\n",
    "city_data_df = pd.DataFrame(city_data)\n",
    "city_data_df.head(10)"
   ]
  },
  {
   "cell_type": "code",
   "execution_count": null,
   "metadata": {},
   "outputs": [],
   "source": [
    "# Create the output file (CSV).\n",
    "output_data_file = \"WeatherPy_Database.csv\"\n",
    "# Export the City_Data into a CSV.\n",
    "city_data_df.to_csv(output_data_file, index_label=\"City_ID\")"
   ]
  }
 ]
}